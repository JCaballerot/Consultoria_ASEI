{
  "nbformat": 4,
  "nbformat_minor": 0,
  "metadata": {
    "colab": {
      "name": "modelDevelopment_zona2_M_rev.ipynb",
      "provenance": [],
      "authorship_tag": "ABX9TyO8FYAGe1pX5TY7Lfu9oyYY",
      "include_colab_link": true
    },
    "kernelspec": {
      "name": "python3",
      "display_name": "Python 3"
    },
    "language_info": {
      "name": "python"
    }
  },
  "cells": [
    {
      "cell_type": "markdown",
      "metadata": {
        "id": "view-in-github",
        "colab_type": "text"
      },
      "source": [
        "<a href=\"https://colab.research.google.com/github/JCaballerot/Consultoria_ASEI/blob/main/Model_development/Miraflores/modelDevelopment_zona2_M_rev.ipynb\" target=\"_parent\"><img src=\"https://colab.research.google.com/assets/colab-badge.svg\" alt=\"Open In Colab\"/></a>"
      ]
    },
    {
      "cell_type": "markdown",
      "source": [
        "\n",
        "<h1 align=center><font size = 5>Forecasting Miraflores Zona 2\n",
        "</font></h1>\n",
        "\n",
        "---"
      ],
      "metadata": {
        "id": "_iJXJlPz0JOe"
      }
    },
    {
      "cell_type": "markdown",
      "source": [
        "# Librerias\n",
        "\n"
      ],
      "metadata": {
        "id": "xO2RBVEFr9tN"
      }
    },
    {
      "cell_type": "markdown",
      "source": [
        "Cargamos las librerías que utilizaremos en el proyecto"
      ],
      "metadata": {
        "id": "fmv7x-WEwv2n"
      }
    },
    {
      "cell_type": "code",
      "execution_count": null,
      "metadata": {
        "id": "Q11_t7hjr3fD"
      },
      "outputs": [],
      "source": [
        "import pandas as pd\n",
        "\n",
        "import warnings                                  \n",
        "warnings.filterwarnings('ignore')\n",
        "\n",
        "import numpy as np                               \n",
        "import pandas as pd                              \n",
        "import matplotlib.pyplot as plt                  \n",
        "import seaborn as sns                            \n",
        "\n",
        "from sklearn.metrics import *"
      ]
    },
    {
      "cell_type": "code",
      "source": [
        "def plotMovingAverage(series, window, plot_intervals=False, scale=1.96, plot_anomalies=False):\n",
        "\n",
        "    \"\"\"\n",
        "        series - dataframe with timeseries\n",
        "        window - rolling window size \n",
        "        plot_intervals - show confidence intervals\n",
        "        plot_anomalies - show anomalies \n",
        "\n",
        "    \"\"\"\n",
        "    rolling_mean = series.rolling(window=window).mean()\n",
        "\n",
        "    plt.figure(figsize=(15,5))\n",
        "    plt.title(\"Moving average\\n window size = {}\".format(window))\n",
        "    plt.plot(rolling_mean, \"g\", label=\"Rolling mean trend\",  color='red')\n",
        "\n",
        "    # Plot confidence intervals for smoothed values\n",
        "    if plot_intervals:\n",
        "        mae = mean_absolute_error(series[window:], rolling_mean[window:])\n",
        "        deviation = np.std(series[window:] - rolling_mean[window:])\n",
        "        lower_bond = rolling_mean - (mae + scale * deviation)\n",
        "        upper_bond = rolling_mean + (mae + scale * deviation)\n",
        "        plt.plot(upper_bond, \"r--\", label=\"Upper Bond / Lower Bond\")\n",
        "        plt.plot(lower_bond, \"r--\")\n",
        "        \n",
        "        # Having the intervals, find abnormal values\n",
        "        if plot_anomalies:\n",
        "            anomalies = pd.DataFrame(index=series.index, columns=series.columns)\n",
        "            anomalies[series<lower_bond] = series[series<lower_bond]\n",
        "            anomalies[series>upper_bond] = series[series>upper_bond]\n",
        "            plt.plot(anomalies, \"ro\", markersize=10)\n",
        "        \n",
        "    plt.plot(series[window:], label=\"Actual values\")\n",
        "    plt.legend(loc=\"upper left\")\n",
        "    plt.grid(True)\n",
        "    plt.xticks(rotation=90)"
      ],
      "metadata": {
        "id": "bJ0O_ADRtF1D"
      },
      "execution_count": null,
      "outputs": []
    },
    {
      "cell_type": "markdown",
      "source": [
        "# Data"
      ],
      "metadata": {
        "id": "ehWhNPfVsKFl"
      }
    },
    {
      "cell_type": "markdown",
      "source": [
        "Importamos la información desde un archivo csv cargado en el file temporal y nos quedamos con los datos de la zona 2"
      ],
      "metadata": {
        "id": "6YGbfWavw0hC"
      }
    },
    {
      "cell_type": "code",
      "source": [
        "target = 'Venta_zona_2'\n",
        "\n",
        "pddf = pd.read_csv('datos_miraflores.csv', delimiter=',', index_col=['codmes'], parse_dates=['codmes']).fillna(0)\n",
        "pddf = pddf[[target]]\n",
        "\n",
        "pddf[target+'_lag2'] = pddf[target].shift(2)\n",
        "pddf[target+'_lag3'] = pddf[target].shift(3)\n"
      ],
      "metadata": {
        "id": "EB04t1HTsFVK"
      },
      "execution_count": null,
      "outputs": []
    },
    {
      "cell_type": "code",
      "source": [
        "macro = pd.read_csv('macros_corregido.csv', index_col=['codmes'], parse_dates=['codmes']).drop(columns=['imp_mater_const'])\n",
        "variables_macro = macro.columns.tolist()\n",
        "macro[variables_macro] = macro[variables_macro].shift(3)\n"
      ],
      "metadata": {
        "id": "hGMDtOnyPe2s"
      },
      "execution_count": null,
      "outputs": []
    },
    {
      "cell_type": "code",
      "source": [
        "asei = pd.read_csv('variables_asei_new.csv', delimiter = ';', index_col=['codmes'], parse_dates=['codmes'])\n",
        "variables_asei = asei.columns.tolist()\n",
        "asei[variables_asei] = asei[variables_asei].shift(2)"
      ],
      "metadata": {
        "id": "4QoNKpoRi1Tm"
      },
      "execution_count": null,
      "outputs": []
    },
    {
      "cell_type": "code",
      "source": [
        "\n",
        "pddf2 = pd.merge(pddf, macro, on = 'codmes', how='left').copy()\n",
        "pddf2 = pd.merge(pddf2, asei, on = 'codmes', how='left')\n",
        "\n",
        "variables = variables_macro + variables_asei + [target+'_lag2', target+'_lag3']\n"
      ],
      "metadata": {
        "id": "sRvQT93-PkXc"
      },
      "execution_count": null,
      "outputs": []
    },
    {
      "cell_type": "code",
      "source": [
        "pddfRes = pddf2.copy()\n",
        "\n",
        "pddfRes[[x + '_avg3' for x in variables]] = pddfRes[variables].rolling(3, min_periods = 3).mean()\n",
        "pddfRes[[x + '_avg6' for x in variables]] = pddfRes[variables].rolling(6, min_periods = 6).mean()\n",
        "\n",
        "pddfRes = pddfRes.iloc[8:]\n"
      ],
      "metadata": {
        "id": "5drxxUodV7Kx"
      },
      "execution_count": null,
      "outputs": []
    },
    {
      "cell_type": "code",
      "source": [
        "for x in variables:\n",
        "  pddfRes[x + '_rat3to6'] = pddfRes[x + '_avg3']/pddfRes[x + '_avg6']\n",
        "  "
      ],
      "metadata": {
        "id": "KsBW-KibY-OQ"
      },
      "execution_count": null,
      "outputs": []
    },
    {
      "cell_type": "code",
      "source": [
        "\n",
        "variables_f = variables_macro +\\\n",
        "              variables_asei +\\\n",
        "              [target+'_lag2', target+'_lag3'] +\\\n",
        "              [x + '_avg3' for x in variables] +\\\n",
        "              [x + '_avg6' for x in variables] +\\\n",
        "              [x + '_rat3to6' for x in variables]\n"
      ],
      "metadata": {
        "id": "ozekvxpSXpLl"
      },
      "execution_count": null,
      "outputs": []
    },
    {
      "cell_type": "code",
      "source": [
        "pddfRes['intercept'] = 1"
      ],
      "metadata": {
        "id": "cG0MGJkQi8pX"
      },
      "execution_count": null,
      "outputs": []
    },
    {
      "cell_type": "code",
      "source": [
        "test_size = 2\n",
        "\n",
        "data = pddfRes.copy().dropna()\n",
        "X_train = pddfRes[:-test_size].dropna()\n",
        "X_test  = pddfRes[-test_size:].dropna()\n"
      ],
      "metadata": {
        "id": "r5toDAY8ul8i"
      },
      "execution_count": null,
      "outputs": []
    },
    {
      "cell_type": "code",
      "source": [
        "# Estandarización\n",
        "\n",
        "X_train[[x + '_std' for x in variables_f]] = (X_train[variables_f] - X_train[variables_f].mean())/X_train[variables_f].std()\n",
        "X_test[[x + '_std'  for x in variables_f]] = (X_test[variables_f]  - X_train[variables_f].mean())/X_train[variables_f].std()\n",
        "data[[x + '_std'    for x in variables_f]] = (data[variables_f]    - X_train[variables_f].mean())/X_train[variables_f].std()\n",
        "\n"
      ],
      "metadata": {
        "id": "lySUEA2MveWP"
      },
      "execution_count": null,
      "outputs": []
    },
    {
      "cell_type": "code",
      "source": [
        "X_train[['ind_prec_cons_lima_met_alim_ener_avg3', 'exp_PBI_avg3', 'flg_feia_avg3']].mean()"
      ],
      "metadata": {
        "id": "S8ELj89e9Dfo",
        "outputId": "3e30b7b8-3b4e-472f-c67f-f141b9a05600",
        "colab": {
          "base_uri": "https://localhost:8080/"
        }
      },
      "execution_count": null,
      "outputs": [
        {
          "output_type": "execute_result",
          "data": {
            "text/plain": [
              "ind_prec_cons_lima_met_alim_ener_avg3    89.775296\n",
              "exp_PBI_avg3                              0.045776\n",
              "flg_feia_avg3                             0.340741\n",
              "dtype: float64"
            ]
          },
          "metadata": {},
          "execution_count": 40
        }
      ]
    },
    {
      "cell_type": "code",
      "source": [
        "X_train[['ind_prec_cons_lima_met_alim_ener_avg3', 'exp_PBI_avg3', 'flg_feia_avg3']].std()"
      ],
      "metadata": {
        "id": "E_InwQD_9FLP",
        "outputId": "3326ab0d-583e-41a1-fd60-c829839dd094",
        "colab": {
          "base_uri": "https://localhost:8080/"
        }
      },
      "execution_count": null,
      "outputs": [
        {
          "output_type": "execute_result",
          "data": {
            "text/plain": [
              "ind_prec_cons_lima_met_alim_ener_avg3    3.052684\n",
              "exp_PBI_avg3                             0.016491\n",
              "flg_feia_avg3                            0.194481\n",
              "dtype: float64"
            ]
          },
          "metadata": {},
          "execution_count": 41
        }
      ]
    },
    {
      "cell_type": "markdown",
      "source": [
        "# Forecasting"
      ],
      "metadata": {
        "id": "c39Drzwvh8Nu"
      }
    },
    {
      "cell_type": "markdown",
      "source": [
        "### Exploracion"
      ],
      "metadata": {
        "id": "SFdpMnUJK7SQ"
      }
    },
    {
      "cell_type": "markdown",
      "source": [
        "Muestreamos la data en train y test bajo metodología OOT"
      ],
      "metadata": {
        "id": "MmAh_jjpw-5L"
      }
    },
    {
      "cell_type": "code",
      "source": [
        "plotMovingAverage(data[target], 6)"
      ],
      "metadata": {
        "id": "DGQ8sqoUtgKj"
      },
      "execution_count": null,
      "outputs": []
    },
    {
      "cell_type": "code",
      "source": [
        "plotMovingAverage(data[target], 6, plot_intervals=True, scale=1.64, plot_anomalies=False)"
      ],
      "metadata": {
        "id": "LmGMfjvgsxQ6"
      },
      "execution_count": null,
      "outputs": []
    },
    {
      "cell_type": "code",
      "source": [
        "from statsmodels.tsa.stattools import adfuller\n",
        "from numpy import log\n",
        "\n",
        "result = adfuller(X_train[target].dropna())\n",
        "print('ADF Statistic: %f' % result[0])\n",
        "print('p-value: %f' % result[1])"
      ],
      "metadata": {
        "id": "sd3XB2B4y5Pi"
      },
      "execution_count": null,
      "outputs": []
    },
    {
      "cell_type": "markdown",
      "source": [
        "Dado que el valor p es mayor que el nivel de significancia (0,05), diferenciemos las series y veamos cómo se ve el gráfico de autocorrelación."
      ],
      "metadata": {
        "id": "-6jKRpUZbR3E"
      }
    },
    {
      "cell_type": "code",
      "source": [
        "from statsmodels.graphics.tsaplots import plot_acf, plot_pacf\n",
        "import matplotlib.pyplot as plt\n",
        "plt.rcParams.update({'figure.figsize':(9,7), 'figure.dpi':120})\n",
        "\n",
        "\n",
        "# Original Series\n",
        "fig, axes = plt.subplots(3, 2, sharex=True)\n",
        "axes[0, 0].plot(X_train[target]); axes[0, 0].set_title('Original Series')\n",
        "plot_acf(X_train[target], ax=axes[0, 1])\n",
        "\n",
        "# 1st Differencing\n",
        "axes[1, 0].plot(X_train[target].diff()); axes[1, 0].set_title('1st Order Differencing')\n",
        "plot_acf(X_train[target].diff().dropna(), ax=axes[1, 1])\n",
        "\n",
        "# 2nd Differencing\n",
        "axes[2, 0].plot(X_train[target].diff().diff()); axes[2, 0].set_title('2nd Order Differencing')\n",
        "plot_acf(X_train[target].diff().diff().dropna(), ax=axes[2, 1])\n",
        "\n",
        "plt.xticks(rotation=90)\n",
        "plt.show()"
      ],
      "metadata": {
        "id": "Wp8rwf7pbUOt"
      },
      "execution_count": null,
      "outputs": []
    },
    {
      "cell_type": "markdown",
      "source": [
        "Por los datos anteriores, podemos ver que la serie de tiempo alcanza la estacionariedad con dos órdenes de diferenciación."
      ],
      "metadata": {
        "id": "Kk8cEdtycESp"
      }
    },
    {
      "cell_type": "code",
      "source": [
        "# PACF plot of 1st differenced series\n",
        "plt.rcParams.update({'figure.figsize':(9,3), 'figure.dpi':120})\n",
        "\n",
        "fig, axes = plt.subplots(1, 2, sharex=True)\n",
        "axes[0].plot(X_train[target].diff()); axes[0].set_title('1st Differencing')\n",
        "axes[1].set(ylim=(0,5))\n",
        "plot_pacf(X_train[target].diff().dropna(), ax=axes[1])\n",
        "\n",
        "plt.xticks(rotation=90)\n",
        "plt.show()"
      ],
      "metadata": {
        "id": "waUyHRZ6cDPq"
      },
      "execution_count": null,
      "outputs": []
    },
    {
      "cell_type": "markdown",
      "source": [
        "Podemos ver que el retraso 1 de PACF es bastante significativo ya que está muy por encima de la línea de significancia. Entonces, fijaremos el valor de p como 1."
      ],
      "metadata": {
        "id": "c7vR1WjQJxNf"
      }
    },
    {
      "cell_type": "markdown",
      "source": [
        "### MA (q) "
      ],
      "metadata": {
        "id": "qtYLRSz2LyGl"
      }
    },
    {
      "cell_type": "code",
      "source": [
        "from statsmodels.graphics.tsaplots import plot_acf, plot_pacf\n",
        "plt.rcParams.update({'figure.figsize':(9,3), 'figure.dpi':120})\n",
        "\n",
        "fig, axes = plt.subplots(1, 2, sharex=True)\n",
        "axes[0].plot(X_train[target].diff()); axes[0].set_title('1st Differencing')\n",
        "axes[1].set(ylim=(0,1.2))\n",
        "plot_acf(X_train[target].diff().dropna(), ax=axes[1])\n",
        "plt.xticks(rotation=90)\n",
        "plt.show()\n"
      ],
      "metadata": {
        "id": "AIPrZWtgKoGc"
      },
      "execution_count": null,
      "outputs": []
    },
    {
      "cell_type": "markdown",
      "source": [
        "Podemos ver que un 1 retraso están muy por encima de la línea de significación. Entonces, fijaremos q como 1. Si hay alguna duda, iremos con el modelo más simple que explica suficientemente la Y"
      ],
      "metadata": {
        "id": "SFLPUMXEK4uq"
      }
    },
    {
      "cell_type": "markdown",
      "source": [
        "### Arima"
      ],
      "metadata": {
        "id": "sF3Nzhu_GwTN"
      }
    },
    {
      "cell_type": "markdown",
      "source": [
        "Ahora, hemos determinado los valores de p, d y q. Disponemos de todo lo necesario para adaptarse al modelo ARIMA. Usaremos la implementación ARIMA() en el paquete statsmodels.\n",
        "(p,d,q)"
      ],
      "metadata": {
        "id": "digPsRpioj96"
      }
    },
    {
      "cell_type": "code",
      "source": [
        "# Plot\n",
        "fig, axes = plt.subplots(2, 1, figsize=(10,5), dpi=100, sharex=True)\n",
        "\n",
        "# Usual Differencing\n",
        "axes[0].plot(X_train[target], label='Original Series')\n",
        "axes[0].plot(X_train[target].diff(1), label='Usual Differencing')\n",
        "axes[0].set_title('Usual Differencing')\n",
        "axes[0].legend(loc='upper left', fontsize=10)\n",
        "\n",
        "\n",
        "# Seasonal Differencing\n",
        "axes[1].plot(X_train[target], label='Original Series')\n",
        "axes[1].plot(X_train[target].diff(12), label='Seasonal Differencing', color='green')\n",
        "axes[1].set_title('Seasonal Differencing')\n",
        "plt.legend(loc='upper left', fontsize=10)\n",
        "plt.suptitle('Ventas Zona 3', fontsize=16)\n",
        "plt.xticks(rotation=90)\n",
        "plt.show()"
      ],
      "metadata": {
        "id": "1fbRfc3fqt-2"
      },
      "execution_count": null,
      "outputs": []
    },
    {
      "cell_type": "code",
      "source": [
        "from statsmodels.tsa.arima_model import ARIMA\n",
        "\n",
        "features = [target + '_lag2_avg3']\n",
        "\n",
        "# 2,1,1 ARIMA Model\n",
        "model = ARIMA(endog = X_train[target], \n",
        "              exog = X_train[features],  \n",
        "              order=(1,2,1))\n",
        "\n",
        "model_fit = model.fit()\n",
        "print(model_fit.summary())"
      ],
      "metadata": {
        "colab": {
          "base_uri": "https://localhost:8080/"
        },
        "id": "yP7aBQS2jU1q",
        "outputId": "2d10453b-06f8-47cb-a5bd-5e3c30e765c6"
      },
      "execution_count": null,
      "outputs": [
        {
          "output_type": "stream",
          "name": "stdout",
          "text": [
            "                             ARIMA Model Results                              \n",
            "==============================================================================\n",
            "Dep. Variable:        D2.Venta_zona_2   No. Observations:                   43\n",
            "Model:                 ARIMA(1, 2, 1)   Log Likelihood                -172.267\n",
            "Method:                       css-mle   S.D. of innovations             12.663\n",
            "Date:                Sun, 24 Jul 2022   AIC                            354.534\n",
            "Time:                        05:52:51   BIC                            363.340\n",
            "Sample:                             2   HQIC                           357.781\n",
            "                                                                              \n",
            "==========================================================================================\n",
            "                             coef    std err          z      P>|z|      [0.025      0.975]\n",
            "------------------------------------------------------------------------------------------\n",
            "const                     -0.0173      0.839     -0.021      0.984      -1.662       1.627\n",
            "Venta_zona_2_lag2_avg3     0.0021      0.022      0.096      0.924      -0.040       0.044\n",
            "ar.L1.D2.Venta_zona_2     -0.1969      0.151     -1.302      0.200      -0.493       0.099\n",
            "ma.L1.D2.Venta_zona_2     -1.0000      0.062    -16.210      0.000      -1.121      -0.879\n",
            "                                    Roots                                    \n",
            "=============================================================================\n",
            "                  Real          Imaginary           Modulus         Frequency\n",
            "-----------------------------------------------------------------------------\n",
            "AR.1           -5.0797           +0.0000j            5.0797            0.5000\n",
            "MA.1            1.0000           +0.0000j            1.0000            0.0000\n",
            "-----------------------------------------------------------------------------\n"
          ]
        },
        {
          "output_type": "stream",
          "name": "stderr",
          "text": [
            "/usr/local/lib/python3.7/dist-packages/statsmodels/tsa/base/tsa_model.py:215: ValueWarning: An unsupported index was provided and will be ignored when e.g. forecasting.\n",
            "  ' ignored when e.g. forecasting.', ValueWarning)\n",
            "/usr/local/lib/python3.7/dist-packages/statsmodels/tsa/base/tsa_model.py:215: ValueWarning: An unsupported index was provided and will be ignored when e.g. forecasting.\n",
            "  ' ignored when e.g. forecasting.', ValueWarning)\n"
          ]
        }
      ]
    },
    {
      "cell_type": "code",
      "source": [
        "\n",
        "import pickle\n",
        "pickle.dump(model_fit, open(\"./arima_mz2.ml\", 'wb'))\n"
      ],
      "metadata": {
        "id": "NGxLhrILtTr5"
      },
      "execution_count": null,
      "outputs": []
    },
    {
      "cell_type": "code",
      "source": [
        "\n",
        "fc, se, conf  = model_fit.forecast(test_size, exog = X_test[features], alpha=0.05)\n",
        "model_res = model_fit.predict(start = X_train.index[2], \n",
        "                                end = X_train.index[-1], dynamic=False, typ = 'levels')\n",
        "\n",
        "data_res = data.copy()\n",
        "data_res['venta_predicted'] = model_res\n",
        "data_res.iloc[-test_size:]['venta_predicted'] = fc\n",
        "\n",
        "sns.lineplot(data = data_res[[target, 'venta_predicted']])\n"
      ],
      "metadata": {
        "colab": {
          "base_uri": "https://localhost:8080/",
          "height": 296
        },
        "id": "vgMQsSHIvka6",
        "outputId": "c3faff29-8c90-4cac-8ca5-2b15402ffeb9"
      },
      "execution_count": null,
      "outputs": [
        {
          "output_type": "execute_result",
          "data": {
            "text/plain": [
              "<matplotlib.axes._subplots.AxesSubplot at 0x7f6d781c1e90>"
            ]
          },
          "metadata": {},
          "execution_count": 45
        },
        {
          "output_type": "display_data",
          "data": {
            "text/plain": [
              "<Figure size 432x288 with 1 Axes>"
            ],
            "image/png": "[encoded data removed]"
          },
          "metadata": {
            "needs_background": "light"
          }
        }
      ]
    },
    {
      "cell_type": "code",
      "source": [
        "# Plot residual errors\n",
        "residuals = pd.DataFrame(model_fit.resid)\n",
        "fig, ax = plt.subplots(1,2)\n",
        "residuals.plot(title=\"Residuals\", ax=ax[0])\n",
        "residuals.plot(kind='kde', title='Density', ax=ax[1])\n",
        "plt.show()"
      ],
      "metadata": {
        "id": "wrHMnzY2totP"
      },
      "execution_count": null,
      "outputs": []
    },
    {
      "cell_type": "markdown",
      "source": [
        "Los errores residuales parecen correctos con una media cercana a cero y una varianza uniforme. Grafiquemos los valores reales contra los valores ajustados usando plot_predict()."
      ],
      "metadata": {
        "id": "msO1RWa3t1JN"
      }
    },
    {
      "cell_type": "code",
      "source": [
        "pd.set_option('display.max_rows', 500)"
      ],
      "metadata": {
        "id": "u2eru0vha5Kv"
      },
      "execution_count": null,
      "outputs": []
    },
    {
      "cell_type": "code",
      "source": [
        "data_res[['venta_predicted',target]]"
      ],
      "metadata": {
        "id": "00xoxP7B_fEw"
      },
      "execution_count": null,
      "outputs": []
    },
    {
      "cell_type": "code",
      "source": [
        "data_res[['venta_predicted',target]].to_csv('results_JM_zona2.csv', index=0)"
      ],
      "metadata": {
        "id": "awzlSvLia729"
      },
      "execution_count": null,
      "outputs": []
    },
    {
      "cell_type": "code",
      "source": [
        "\n",
        "data = data_res.copy().dropna()\n",
        "X_train = data_res[:-test_size].dropna()\n",
        "X_test  = data_res[-test_size:].dropna()\n",
        "\n"
      ],
      "metadata": {
        "id": "cvQQWFp_hakY"
      },
      "execution_count": null,
      "outputs": []
    },
    {
      "cell_type": "code",
      "source": [
        "X_test[['venta_predicted', target]]"
      ],
      "metadata": {
        "id": "PrHUJV_phlQF"
      },
      "execution_count": null,
      "outputs": []
    },
    {
      "cell_type": "code",
      "source": [
        "X_test[['venta_predicted', target]].corr()**2"
      ],
      "metadata": {
        "id": "Wt6n7s2_hB5l",
        "colab": {
          "base_uri": "https://localhost:8080/",
          "height": 112
        },
        "outputId": "b676c603-104b-4c1f-da87-7d1d92b5824e"
      },
      "execution_count": null,
      "outputs": [
        {
          "output_type": "execute_result",
          "data": {
            "text/plain": [
              "                 venta_predicted  Venta_zona_2\n",
              "venta_predicted              1.0           1.0\n",
              "Venta_zona_2                 1.0           1.0"
            ],
            "text/html": [
              "\n",
              "  <div id=\"df-e0606805-88ec-4085-b58b-c7dc3e8c62f2\">\n",
              "    <div class=\"colab-df-container\">\n",
              "      <div>\n",
              "<style scoped>\n",
              "    .dataframe tbody tr th:only-of-type {\n",
              "        vertical-align: middle;\n",
              "    }\n",
              "\n",
              "    .dataframe tbody tr th {\n",
              "        vertical-align: top;\n",
              "    }\n",
              "\n",
              "    .dataframe thead th {\n",
              "        text-align: right;\n",
              "    }\n",
              "</style>\n",
              "<table border=\"1\" class=\"dataframe\">\n",
              "  <thead>\n",
              "    <tr style=\"text-align: right;\">\n",
              "      <th></th>\n",
              "      <th>venta_predicted</th>\n",
              "      <th>Venta_zona_2</th>\n",
              "    </tr>\n",
              "  </thead>\n",
              "  <tbody>\n",
              "    <tr>\n",
              "      <th>venta_predicted</th>\n",
              "      <td>1.0</td>\n",
              "      <td>1.0</td>\n",
              "    </tr>\n",
              "    <tr>\n",
              "      <th>Venta_zona_2</th>\n",
              "      <td>1.0</td>\n",
              "      <td>1.0</td>\n",
              "    </tr>\n",
              "  </tbody>\n",
              "</table>\n",
              "</div>\n",
              "      <button class=\"colab-df-convert\" onclick=\"convertToInteractive('df-e0606805-88ec-4085-b58b-c7dc3e8c62f2')\"\n",
              "              title=\"Convert this dataframe to an interactive table.\"\n",
              "              style=\"display:none;\">\n",
              "        \n",
              "  <svg xmlns=\"http://www.w3.org/2000/svg\" height=\"24px\"viewBox=\"0 0 24 24\"\n",
              "       width=\"24px\">\n",
              "    <path d=\"M0 0h24v24H0V0z\" fill=\"none\"/>\n",
              "    <path d=\"M18.56 5.44l.94 2.06.94-2.06 2.06-.94-2.06-.94-.94-2.06-.94 2.06-2.06.94zm-11 1L8.5 8.5l.94-2.06 2.06-.94-2.06-.94L8.5 2.5l-.94 2.06-2.06.94zm10 10l.94 2.06.94-2.06 2.06-.94-2.06-.94-.94-2.06-.94 2.06-2.06.94z\"/><path d=\"M17.41 7.96l-1.37-1.37c-.4-.4-.92-.59-1.43-.59-.52 0-1.04.2-1.43.59L10.3 9.45l-7.72 7.72c-.78.78-.78 2.05 0 2.83L4 21.41c.39.39.9.59 1.41.59.51 0 1.02-.2 1.41-.59l7.78-7.78 2.81-2.81c.8-.78.8-2.07 0-2.86zM5.41 20L4 18.59l7.72-7.72 1.47 1.35L5.41 20z\"/>\n",
              "  </svg>\n",
              "      </button>\n",
              "      \n",
              "  <style>\n",
              "    .colab-df-container {\n",
              "      display:flex;\n",
              "      flex-wrap:wrap;\n",
              "      gap: 12px;\n",
              "    }\n",
              "\n",
              "    .colab-df-convert {\n",
              "      background-color: #E8F0FE;\n",
              "      border: none;\n",
              "      border-radius: 50%;\n",
              "      cursor: pointer;\n",
              "      display: none;\n",
              "      fill: #1967D2;\n",
              "      height: 32px;\n",
              "      padding: 0 0 0 0;\n",
              "      width: 32px;\n",
              "    }\n",
              "\n",
              "    .colab-df-convert:hover {\n",
              "      background-color: #E2EBFA;\n",
              "      box-shadow: 0px 1px 2px rgba(60, 64, 67, 0.3), 0px 1px 3px 1px rgba(60, 64, 67, 0.15);\n",
              "      fill: #174EA6;\n",
              "    }\n",
              "\n",
              "    [theme=dark] .colab-df-convert {\n",
              "      background-color: #3B4455;\n",
              "      fill: #D2E3FC;\n",
              "    }\n",
              "\n",
              "    [theme=dark] .colab-df-convert:hover {\n",
              "      background-color: #434B5C;\n",
              "      box-shadow: 0px 1px 3px 1px rgba(0, 0, 0, 0.15);\n",
              "      filter: drop-shadow(0px 1px 2px rgba(0, 0, 0, 0.3));\n",
              "      fill: #FFFFFF;\n",
              "    }\n",
              "  </style>\n",
              "\n",
              "      <script>\n",
              "        const buttonEl =\n",
              "          document.querySelector('#df-e0606805-88ec-4085-b58b-c7dc3e8c62f2 button.colab-df-convert');\n",
              "        buttonEl.style.display =\n",
              "          google.colab.kernel.accessAllowed ? 'block' : 'none';\n",
              "\n",
              "        async function convertToInteractive(key) {\n",
              "          const element = document.querySelector('#df-e0606805-88ec-4085-b58b-c7dc3e8c62f2');\n",
              "          const dataTable =\n",
              "            await google.colab.kernel.invokeFunction('convertToInteractive',\n",
              "                                                     [key], {});\n",
              "          if (!dataTable) return;\n",
              "\n",
              "          const docLinkHtml = 'Like what you see? Visit the ' +\n",
              "            '<a target=\"_blank\" href=https://colab.research.google.com/notebooks/data_table.ipynb>data table notebook</a>'\n",
              "            + ' to learn more about interactive tables.';\n",
              "          element.innerHTML = '';\n",
              "          dataTable['output_type'] = 'display_data';\n",
              "          await google.colab.output.renderOutput(dataTable, element);\n",
              "          const docLink = document.createElement('div');\n",
              "          docLink.innerHTML = docLinkHtml;\n",
              "          element.appendChild(docLink);\n",
              "        }\n",
              "      </script>\n",
              "    </div>\n",
              "  </div>\n",
              "  "
            ]
          },
          "metadata": {},
          "execution_count": 27
        }
      ]
    },
    {
      "cell_type": "markdown",
      "source": [
        "# Inputs Regresión"
      ],
      "metadata": {
        "id": "-aJhFXWyarhB"
      }
    },
    {
      "cell_type": "code",
      "source": [
        "correlations = pd.DataFrame()\n",
        "\n",
        "for col in variables_f:\n",
        "  data_temp = X_train[[target, col]]\n",
        "  correlation = data_temp[col].corr(data_temp[target])\n",
        "  temp = pd.DataFrame({'target': [target],'variable': [col], 'correlacion' : [correlation]})\n",
        "  correlations = correlations.append(temp)\n",
        "\n",
        "correlations['correlacion_abs'] = correlations.correlacion.apply(lambda x: abs(x))\n",
        "correlations['r2'] = correlations.correlacion.apply(lambda x: x**2)\n",
        "\n",
        "correlations.sort_values(by = 'correlacion_abs', ascending = False, inplace = True)\n"
      ],
      "metadata": {
        "id": "aX2Q9WPLatzY"
      },
      "execution_count": null,
      "outputs": []
    },
    {
      "cell_type": "code",
      "source": [
        "correlations.head(50)"
      ],
      "metadata": {
        "id": "9wHR7RLjboki"
      },
      "execution_count": null,
      "outputs": []
    },
    {
      "cell_type": "markdown",
      "source": [
        "# Regresion"
      ],
      "metadata": {
        "id": "Xb8Iu2Mkx_Bw"
      }
    },
    {
      "cell_type": "code",
      "source": [
        "import statsmodels.api as sm\n",
        "\n",
        "features = ['intercept', 'exp_PBI_avg3_std', 'ind_prec_cons_lima_met_alim_ener_avg3_std',\n",
        "            'flg_feia_avg3_std']\n",
        "\n",
        "# Fit and summarize OLS model\n",
        "mod = sm.OLS(X_train[target], \n",
        "             X_train[features])\n",
        "\n",
        "res = mod.fit()\n",
        "print(res.summary())"
      ],
      "metadata": {
        "colab": {
          "base_uri": "https://localhost:8080/"
        },
        "id": "Qx0Nlwcq8NA1",
        "outputId": "1bfff280-65b6-454b-df9a-f48bb08e01c2"
      },
      "execution_count": null,
      "outputs": [
        {
          "output_type": "stream",
          "name": "stdout",
          "text": [
            "                            OLS Regression Results                            \n",
            "==============================================================================\n",
            "Dep. Variable:           Venta_zona_2   R-squared:                       0.739\n",
            "Model:                            OLS   Adj. R-squared:                  0.719\n",
            "Method:                 Least Squares   F-statistic:                     36.78\n",
            "Date:                Sun, 24 Jul 2022   Prob (F-statistic):           1.87e-11\n",
            "Time:                        05:53:20   Log-Likelihood:                -161.27\n",
            "No. Observations:                  43   AIC:                             330.5\n",
            "Df Residuals:                      39   BIC:                             337.6\n",
            "Df Model:                           3                                         \n",
            "Covariance Type:            nonrobust                                         \n",
            "=============================================================================================================\n",
            "                                                coef    std err          t      P>|t|      [0.025      0.975]\n",
            "-------------------------------------------------------------------------------------------------------------\n",
            "intercept                                    42.7099      1.651     25.868      0.000      39.370      46.050\n",
            "exp_PBI_avg3_std                              5.9631      1.657      3.600      0.001       2.612       9.314\n",
            "ind_prec_cons_lima_met_alim_ener_avg3_std    15.6759      1.684      9.307      0.000      12.269      19.083\n",
            "flg_feia_avg3_std                             3.8777      1.647      2.354      0.024       0.546       7.209\n",
            "==============================================================================\n",
            "Omnibus:                        1.317   Durbin-Watson:                   1.517\n",
            "Prob(Omnibus):                  0.518   Jarque-Bera (JB):                1.011\n",
            "Skew:                          -0.373   Prob(JB):                        0.603\n",
            "Kurtosis:                       2.915   Cond. No.                         1.17\n",
            "==============================================================================\n",
            "\n",
            "Warnings:\n",
            "[1] Standard Errors assume that the covariance matrix of the errors is correctly specified.\n"
          ]
        }
      ]
    },
    {
      "cell_type": "code",
      "source": [
        "3.8777/(5.9631 + 15.6759 + 3.8777)"
      ],
      "metadata": {
        "colab": {
          "base_uri": "https://localhost:8080/"
        },
        "id": "V_YUfOMIjf57",
        "outputId": "6421d0ec-42dc-4c6f-b7c7-cd1acffb1bc5"
      },
      "execution_count": null,
      "outputs": [
        {
          "output_type": "execute_result",
          "data": {
            "text/plain": [
              "0.1519671430866844"
            ]
          },
          "metadata": {},
          "execution_count": 3
        }
      ]
    },
    {
      "cell_type": "code",
      "source": [
        "import seaborn as sn\n",
        "import matplotlib.pyplot as plt\n",
        "\n",
        "sn.heatmap(X_train[features].corr(), annot=True)\n",
        "plt.show()"
      ],
      "metadata": {
        "id": "z2gR9mDK79B_"
      },
      "execution_count": null,
      "outputs": []
    },
    {
      "cell_type": "code",
      "source": [
        "\n",
        "data_res['macro_pred'] = 42.7099 +\\\n",
        "                         5.9631*data_res.exp_PBI_avg3_std +\\\n",
        "                         15.6759*data_res.ind_prec_cons_lima_met_alim_ener_avg3_std +\\\n",
        "                         3.8777*data_res.flg_feia_avg3_std\n",
        "\n",
        "data = data_res.copy().dropna()\n",
        "X_train = data[:-test_size].dropna()\n",
        "X_test  = data[-test_size:].dropna()\n"
      ],
      "metadata": {
        "id": "YssxJ75piFHz"
      },
      "execution_count": null,
      "outputs": []
    },
    {
      "cell_type": "code",
      "source": [
        "#target + '_lag3_avg3'\n",
        "ensemble = ['venta_predicted', 'macro_pred']\n",
        "\n",
        "# 2,1,1 ARIMA Model\n",
        "model_ff = ARIMA(endog = X_train[target], \n",
        "                 exog = X_train[ensemble],  \n",
        "              order=(3,1,2))\n",
        "\n",
        "model_fit_ff = model_ff.fit()\n",
        "print(model_fit_ff.summary())"
      ],
      "metadata": {
        "colab": {
          "base_uri": "https://localhost:8080/"
        },
        "id": "yLgcrdzYq8_r",
        "outputId": "467a7de2-a944-4c21-ead5-68f3c28a663a"
      },
      "execution_count": null,
      "outputs": [
        {
          "output_type": "stream",
          "name": "stderr",
          "text": [
            "/usr/local/lib/python3.7/dist-packages/statsmodels/tsa/base/tsa_model.py:215: ValueWarning: An unsupported index was provided and will be ignored when e.g. forecasting.\n",
            "  ' ignored when e.g. forecasting.', ValueWarning)\n",
            "/usr/local/lib/python3.7/dist-packages/statsmodels/tsa/base/tsa_model.py:215: ValueWarning: An unsupported index was provided and will be ignored when e.g. forecasting.\n",
            "  ' ignored when e.g. forecasting.', ValueWarning)\n"
          ]
        },
        {
          "output_type": "stream",
          "name": "stdout",
          "text": [
            "                             ARIMA Model Results                              \n",
            "==============================================================================\n",
            "Dep. Variable:         D.Venta_zona_2   No. Observations:                   42\n",
            "Model:                 ARIMA(3, 1, 2)   Log Likelihood                -149.451\n",
            "Method:                       css-mle   S.D. of innovations              7.979\n",
            "Date:                Sun, 24 Jul 2022   AIC                            316.902\n",
            "Time:                        05:53:34   BIC                            332.541\n",
            "Sample:                             1   HQIC                           322.634\n",
            "                                                                              \n",
            "========================================================================================\n",
            "                           coef    std err          z      P>|z|      [0.025      0.975]\n",
            "----------------------------------------------------------------------------------------\n",
            "const                    1.0210      4.801      0.213      0.833      -8.390      10.432\n",
            "venta_predicted         -1.1156      0.241     -4.624      0.000      -1.588      -0.643\n",
            "macro_pred               1.1277      0.236      4.785      0.000       0.666       1.590\n",
            "ar.L1.D.Venta_zona_2    -0.1622      0.206     -0.787      0.437      -0.566       0.242\n",
            "ar.L2.D.Venta_zona_2    -0.3650      0.187     -1.948      0.060      -0.732       0.002\n",
            "ar.L3.D.Venta_zona_2    -0.1455      0.163     -0.892      0.379      -0.465       0.174\n",
            "ma.L1.D.Venta_zona_2     0.3758      0.122      3.091      0.004       0.137       0.614\n",
            "ma.L2.D.Venta_zona_2     1.0000      0.165      6.061      0.000       0.677       1.323\n",
            "                                    Roots                                    \n",
            "=============================================================================\n",
            "                  Real          Imaginary           Modulus         Frequency\n",
            "-----------------------------------------------------------------------------\n",
            "AR.1            0.2103           -1.5172j            1.5317           -0.2281\n",
            "AR.2            0.2103           +1.5172j            1.5317            0.2281\n",
            "AR.3           -2.9287           -0.0000j            2.9287           -0.5000\n",
            "MA.1           -0.1879           -0.9822j            1.0000           -0.2801\n",
            "MA.2           -0.1879           +0.9822j            1.0000            0.2801\n",
            "-----------------------------------------------------------------------------\n"
          ]
        }
      ]
    },
    {
      "cell_type": "code",
      "source": [
        "\n",
        "import pickle\n",
        "pickle.dump(model_fit_ff, open(\"./var_mz2.ml\", 'wb'))"
      ],
      "metadata": {
        "id": "son-pzQBxTF4"
      },
      "execution_count": null,
      "outputs": []
    },
    {
      "cell_type": "code",
      "source": [
        "\n",
        "fc, se, conf  = model_fit_ff.forecast(test_size, \n",
        "                                      exog = X_test[['venta_predicted', 'macro_pred']], alpha=0.05)\n",
        "\n",
        "model_res = model_fit_ff.predict(start = X_train.index[2], \n",
        "                                 end = X_train.index[-1], dynamic=False, typ = 'levels')\n",
        "\n",
        "data_res = data.copy()\n",
        "data_res['venta_predicted_final'] = model_res\n",
        "data_res.iloc[-test_size:]['venta_predicted_final'] = fc\n",
        "\n",
        "sns.lineplot(data = data_res[[target, 'venta_predicted_final']])\n"
      ],
      "metadata": {
        "colab": {
          "base_uri": "https://localhost:8080/",
          "height": 296
        },
        "id": "xtfY4jezrkDl",
        "outputId": "d29ed918-1990-4108-d5df-65d6f551eceb"
      },
      "execution_count": null,
      "outputs": [
        {
          "output_type": "execute_result",
          "data": {
            "text/plain": [
              "<matplotlib.axes._subplots.AxesSubplot at 0x7f6d68405c10>"
            ]
          },
          "metadata": {},
          "execution_count": 50
        },
        {
          "output_type": "display_data",
          "data": {
            "text/plain": [
              "<Figure size 432x288 with 1 Axes>"
            ],
            "image/png": "[encoded data removed]"
          },
          "metadata": {
            "needs_background": "light"
          }
        }
      ]
    },
    {
      "cell_type": "code",
      "source": [
        "data_res[[target, 'venta_predicted', 'macro_pred', 'venta_predicted_final']]"
      ],
      "metadata": {
        "colab": {
          "base_uri": "https://localhost:8080/",
          "height": 1000
        },
        "id": "1lxbrJxhrj3Y",
        "outputId": "55871b78-e9bb-436f-d6d5-07f5f9f3ca4e"
      },
      "execution_count": null,
      "outputs": [
        {
          "output_type": "execute_result",
          "data": {
            "text/plain": [
              "         Venta_zona_2  venta_predicted  macro_pred  venta_predicted_final\n",
              "codmes                                                                   \n",
              "ago-18             32        16.031112   28.040954                    NaN\n",
              "sept-18            21        35.474154   21.531488                    NaN\n",
              "oct-18             36        23.819062   29.533635              29.186729\n",
              "nov-18             26        37.057834   24.741473              25.045290\n",
              "dic-18             20        29.662694   26.308425              24.828519\n",
              "ene-19             22        21.220210   27.223059              25.822974\n",
              "feb-19             14        21.809533   28.092730              27.428457\n",
              "mar-19             28        14.797572   28.406908              28.496695\n",
              "abr-19             23        26.016501   22.207506              21.371497\n",
              "may-19             27        24.476117   22.626769              26.047175\n",
              "jun-19             39        26.973847   30.280740              34.097795\n",
              "jul-19             40        38.471482   31.631510              32.738724\n",
              "ago-19             46        41.809060   39.427943              41.136832\n",
              "sept-19            45        47.196061   32.909026              34.679242\n",
              "oct-19             37        47.504616   32.665491              31.866940\n",
              "nov-19             28        40.299280   32.079743              33.034696\n",
              "dic-19             35        30.844079   31.768521              28.804040\n",
              "ene-20             33        35.002324   37.731106              35.883572\n",
              "feb-20             45        34.730283   31.041605              34.374116\n",
              "mar-20             16        44.555632   31.458150              32.297697\n",
              "abr-20             10        22.316032   25.748668              23.071334\n",
              "may-20             22        11.279632   26.477744              14.201801\n",
              "jun-20             33        20.250208   30.354436              32.886680\n",
              "jul-20             60        32.007836   40.539005              55.417460\n",
              "ago-20             50        57.023460   45.653572              49.582506\n",
              "sept-20            45        54.101415   55.370855              51.727133\n",
              "oct-20             61        47.869770   52.065590              47.879789\n",
              "nov-20             54        60.316237   61.022631              63.306251\n",
              "dic-20             56        57.732086   55.664513              61.455872\n",
              "ene-21             54        58.013225   64.422022              55.920751\n",
              "feb-21             65        56.789241   60.800866              56.644132\n",
              "mar-21             80        65.605379   63.595014              68.637971\n",
              "abr-21             49        80.381264   54.520482              62.184599\n",
              "may-21             38        57.645705   57.071939              50.273539\n",
              "jun-21             27        42.282519   54.883665              37.926094\n",
              "jul-21             43        30.975375   56.124311              50.467162\n",
              "ago-21             52        42.068960   51.566211              55.913624\n",
              "sept-21            71        52.780149   58.956303              61.557928\n",
              "oct-21             74        70.361106   63.343857              66.211832\n",
              "nov-21             74        76.713383   75.951680              82.142774\n",
              "dic-21             93        77.375487   74.828504              72.891350\n",
              "ene-22             68        93.167777   78.359143              73.941853\n",
              "feb-22             86        76.415754   80.971964              86.691808\n",
              "mar-22            120        86.125514   84.393558              79.061808\n",
              "abr-22             68        89.952064   87.196582              76.751709"
            ],
            "text/html": [
              "\n",
              "  <div id=\"df-e11c87c9-14df-4e7c-83b2-fa47b46885c0\">\n",
              "    <div class=\"colab-df-container\">\n",
              "      <div>\n",
              "<style scoped>\n",
              "    .dataframe tbody tr th:only-of-type {\n",
              "        vertical-align: middle;\n",
              "    }\n",
              "\n",
              "    .dataframe tbody tr th {\n",
              "        vertical-align: top;\n",
              "    }\n",
              "\n",
              "    .dataframe thead th {\n",
              "        text-align: right;\n",
              "    }\n",
              "</style>\n",
              "<table border=\"1\" class=\"dataframe\">\n",
              "  <thead>\n",
              "    <tr style=\"text-align: right;\">\n",
              "      <th></th>\n",
              "      <th>Venta_zona_2</th>\n",
              "      <th>venta_predicted</th>\n",
              "      <th>macro_pred</th>\n",
              "      <th>venta_predicted_final</th>\n",
              "    </tr>\n",
              "    <tr>\n",
              "      <th>codmes</th>\n",
              "      <th></th>\n",
              "      <th></th>\n",
              "      <th></th>\n",
              "      <th></th>\n",
              "    </tr>\n",
              "  </thead>\n",
              "  <tbody>\n",
              "    <tr>\n",
              "      <th>ago-18</th>\n",
              "      <td>32</td>\n",
              "      <td>16.031112</td>\n",
              "      <td>28.040954</td>\n",
              "      <td>NaN</td>\n",
              "    </tr>\n",
              "    <tr>\n",
              "      <th>sept-18</th>\n",
              "      <td>21</td>\n",
              "      <td>35.474154</td>\n",
              "      <td>21.531488</td>\n",
              "      <td>NaN</td>\n",
              "    </tr>\n",
              "    <tr>\n",
              "      <th>oct-18</th>\n",
              "      <td>36</td>\n",
              "      <td>23.819062</td>\n",
              "      <td>29.533635</td>\n",
              "      <td>29.186729</td>\n",
              "    </tr>\n",
              "    <tr>\n",
              "      <th>nov-18</th>\n",
              "      <td>26</td>\n",
              "      <td>37.057834</td>\n",
              "      <td>24.741473</td>\n",
              "      <td>25.045290</td>\n",
              "    </tr>\n",
              "    <tr>\n",
              "      <th>dic-18</th>\n",
              "      <td>20</td>\n",
              "      <td>29.662694</td>\n",
              "      <td>26.308425</td>\n",
              "      <td>24.828519</td>\n",
              "    </tr>\n",
              "    <tr>\n",
              "      <th>ene-19</th>\n",
              "      <td>22</td>\n",
              "      <td>21.220210</td>\n",
              "      <td>27.223059</td>\n",
              "      <td>25.822974</td>\n",
              "    </tr>\n",
              "    <tr>\n",
              "      <th>feb-19</th>\n",
              "      <td>14</td>\n",
              "      <td>21.809533</td>\n",
              "      <td>28.092730</td>\n",
              "      <td>27.428457</td>\n",
              "    </tr>\n",
              "    <tr>\n",
              "      <th>mar-19</th>\n",
              "      <td>28</td>\n",
              "      <td>14.797572</td>\n",
              "      <td>28.406908</td>\n",
              "      <td>28.496695</td>\n",
              "    </tr>\n",
              "    <tr>\n",
              "      <th>abr-19</th>\n",
              "      <td>23</td>\n",
              "      <td>26.016501</td>\n",
              "      <td>22.207506</td>\n",
              "      <td>21.371497</td>\n",
              "    </tr>\n",
              "    <tr>\n",
              "      <th>may-19</th>\n",
              "      <td>27</td>\n",
              "      <td>24.476117</td>\n",
              "      <td>22.626769</td>\n",
              "      <td>26.047175</td>\n",
              "    </tr>\n",
              "    <tr>\n",
              "      <th>jun-19</th>\n",
              "      <td>39</td>\n",
              "      <td>26.973847</td>\n",
              "      <td>30.280740</td>\n",
              "      <td>34.097795</td>\n",
              "    </tr>\n",
              "    <tr>\n",
              "      <th>jul-19</th>\n",
              "      <td>40</td>\n",
              "      <td>38.471482</td>\n",
              "      <td>31.631510</td>\n",
              "      <td>32.738724</td>\n",
              "    </tr>\n",
              "    <tr>\n",
              "      <th>ago-19</th>\n",
              "      <td>46</td>\n",
              "      <td>41.809060</td>\n",
              "      <td>39.427943</td>\n",
              "      <td>41.136832</td>\n",
              "    </tr>\n",
              "    <tr>\n",
              "      <th>sept-19</th>\n",
              "      <td>45</td>\n",
              "      <td>47.196061</td>\n",
              "      <td>32.909026</td>\n",
              "      <td>34.679242</td>\n",
              "    </tr>\n",
              "    <tr>\n",
              "      <th>oct-19</th>\n",
              "      <td>37</td>\n",
              "      <td>47.504616</td>\n",
              "      <td>32.665491</td>\n",
              "      <td>31.866940</td>\n",
              "    </tr>\n",
              "    <tr>\n",
              "      <th>nov-19</th>\n",
              "      <td>28</td>\n",
              "      <td>40.299280</td>\n",
              "      <td>32.079743</td>\n",
              "      <td>33.034696</td>\n",
              "    </tr>\n",
              "    <tr>\n",
              "      <th>dic-19</th>\n",
              "      <td>35</td>\n",
              "      <td>30.844079</td>\n",
              "      <td>31.768521</td>\n",
              "      <td>28.804040</td>\n",
              "    </tr>\n",
              "    <tr>\n",
              "      <th>ene-20</th>\n",
              "      <td>33</td>\n",
              "      <td>35.002324</td>\n",
              "      <td>37.731106</td>\n",
              "      <td>35.883572</td>\n",
              "    </tr>\n",
              "    <tr>\n",
              "      <th>feb-20</th>\n",
              "      <td>45</td>\n",
              "      <td>34.730283</td>\n",
              "      <td>31.041605</td>\n",
              "      <td>34.374116</td>\n",
              "    </tr>\n",
              "    <tr>\n",
              "      <th>mar-20</th>\n",
              "      <td>16</td>\n",
              "      <td>44.555632</td>\n",
              "      <td>31.458150</td>\n",
              "      <td>32.297697</td>\n",
              "    </tr>\n",
              "    <tr>\n",
              "      <th>abr-20</th>\n",
              "      <td>10</td>\n",
              "      <td>22.316032</td>\n",
              "      <td>25.748668</td>\n",
              "      <td>23.071334</td>\n",
              "    </tr>\n",
              "    <tr>\n",
              "      <th>may-20</th>\n",
              "      <td>22</td>\n",
              "      <td>11.279632</td>\n",
              "      <td>26.477744</td>\n",
              "      <td>14.201801</td>\n",
              "    </tr>\n",
              "    <tr>\n",
              "      <th>jun-20</th>\n",
              "      <td>33</td>\n",
              "      <td>20.250208</td>\n",
              "      <td>30.354436</td>\n",
              "      <td>32.886680</td>\n",
              "    </tr>\n",
              "    <tr>\n",
              "      <th>jul-20</th>\n",
              "      <td>60</td>\n",
              "      <td>32.007836</td>\n",
              "      <td>40.539005</td>\n",
              "      <td>55.417460</td>\n",
              "    </tr>\n",
              "    <tr>\n",
              "      <th>ago-20</th>\n",
              "      <td>50</td>\n",
              "      <td>57.023460</td>\n",
              "      <td>45.653572</td>\n",
              "      <td>49.582506</td>\n",
              "    </tr>\n",
              "    <tr>\n",
              "      <th>sept-20</th>\n",
              "      <td>45</td>\n",
              "      <td>54.101415</td>\n",
              "      <td>55.370855</td>\n",
              "      <td>51.727133</td>\n",
              "    </tr>\n",
              "    <tr>\n",
              "      <th>oct-20</th>\n",
              "      <td>61</td>\n",
              "      <td>47.869770</td>\n",
              "      <td>52.065590</td>\n",
              "      <td>47.879789</td>\n",
              "    </tr>\n",
              "    <tr>\n",
              "      <th>nov-20</th>\n",
              "      <td>54</td>\n",
              "      <td>60.316237</td>\n",
              "      <td>61.022631</td>\n",
              "      <td>63.306251</td>\n",
              "    </tr>\n",
              "    <tr>\n",
              "      <th>dic-20</th>\n",
              "      <td>56</td>\n",
              "      <td>57.732086</td>\n",
              "      <td>55.664513</td>\n",
              "      <td>61.455872</td>\n",
              "    </tr>\n",
              "    <tr>\n",
              "      <th>ene-21</th>\n",
              "      <td>54</td>\n",
              "      <td>58.013225</td>\n",
              "      <td>64.422022</td>\n",
              "      <td>55.920751</td>\n",
              "    </tr>\n",
              "    <tr>\n",
              "      <th>feb-21</th>\n",
              "      <td>65</td>\n",
              "      <td>56.789241</td>\n",
              "      <td>60.800866</td>\n",
              "      <td>56.644132</td>\n",
              "    </tr>\n",
              "    <tr>\n",
              "      <th>mar-21</th>\n",
              "      <td>80</td>\n",
              "      <td>65.605379</td>\n",
              "      <td>63.595014</td>\n",
              "      <td>68.637971</td>\n",
              "    </tr>\n",
              "    <tr>\n",
              "      <th>abr-21</th>\n",
              "      <td>49</td>\n",
              "      <td>80.381264</td>\n",
              "      <td>54.520482</td>\n",
              "      <td>62.184599</td>\n",
              "    </tr>\n",
              "    <tr>\n",
              "      <th>may-21</th>\n",
              "      <td>38</td>\n",
              "      <td>57.645705</td>\n",
              "      <td>57.071939</td>\n",
              "      <td>50.273539</td>\n",
              "    </tr>\n",
              "    <tr>\n",
              "      <th>jun-21</th>\n",
              "      <td>27</td>\n",
              "      <td>42.282519</td>\n",
              "      <td>54.883665</td>\n",
              "      <td>37.926094</td>\n",
              "    </tr>\n",
              "    <tr>\n",
              "      <th>jul-21</th>\n",
              "      <td>43</td>\n",
              "      <td>30.975375</td>\n",
              "      <td>56.124311</td>\n",
              "      <td>50.467162</td>\n",
              "    </tr>\n",
              "    <tr>\n",
              "      <th>ago-21</th>\n",
              "      <td>52</td>\n",
              "      <td>42.068960</td>\n",
              "      <td>51.566211</td>\n",
              "      <td>55.913624</td>\n",
              "    </tr>\n",
              "    <tr>\n",
              "      <th>sept-21</th>\n",
              "      <td>71</td>\n",
              "      <td>52.780149</td>\n",
              "      <td>58.956303</td>\n",
              "      <td>61.557928</td>\n",
              "    </tr>\n",
              "    <tr>\n",
              "      <th>oct-21</th>\n",
              "      <td>74</td>\n",
              "      <td>70.361106</td>\n",
              "      <td>63.343857</td>\n",
              "      <td>66.211832</td>\n",
              "    </tr>\n",
              "    <tr>\n",
              "      <th>nov-21</th>\n",
              "      <td>74</td>\n",
              "      <td>76.713383</td>\n",
              "      <td>75.951680</td>\n",
              "      <td>82.142774</td>\n",
              "    </tr>\n",
              "    <tr>\n",
              "      <th>dic-21</th>\n",
              "      <td>93</td>\n",
              "      <td>77.375487</td>\n",
              "      <td>74.828504</td>\n",
              "      <td>72.891350</td>\n",
              "    </tr>\n",
              "    <tr>\n",
              "      <th>ene-22</th>\n",
              "      <td>68</td>\n",
              "      <td>93.167777</td>\n",
              "      <td>78.359143</td>\n",
              "      <td>73.941853</td>\n",
              "    </tr>\n",
              "    <tr>\n",
              "      <th>feb-22</th>\n",
              "      <td>86</td>\n",
              "      <td>76.415754</td>\n",
              "      <td>80.971964</td>\n",
              "      <td>86.691808</td>\n",
              "    </tr>\n",
              "    <tr>\n",
              "      <th>mar-22</th>\n",
              "      <td>120</td>\n",
              "      <td>86.125514</td>\n",
              "      <td>84.393558</td>\n",
              "      <td>79.061808</td>\n",
              "    </tr>\n",
              "    <tr>\n",
              "      <th>abr-22</th>\n",
              "      <td>68</td>\n",
              "      <td>89.952064</td>\n",
              "      <td>87.196582</td>\n",
              "      <td>76.751709</td>\n",
              "    </tr>\n",
              "  </tbody>\n",
              "</table>\n",
              "</div>\n",
              "      <button class=\"colab-df-convert\" onclick=\"convertToInteractive('df-e11c87c9-14df-4e7c-83b2-fa47b46885c0')\"\n",
              "              title=\"Convert this dataframe to an interactive table.\"\n",
              "              style=\"display:none;\">\n",
              "        \n",
              "  <svg xmlns=\"http://www.w3.org/2000/svg\" height=\"24px\"viewBox=\"0 0 24 24\"\n",
              "       width=\"24px\">\n",
              "    <path d=\"M0 0h24v24H0V0z\" fill=\"none\"/>\n",
              "    <path d=\"M18.56 5.44l.94 2.06.94-2.06 2.06-.94-2.06-.94-.94-2.06-.94 2.06-2.06.94zm-11 1L8.5 8.5l.94-2.06 2.06-.94-2.06-.94L8.5 2.5l-.94 2.06-2.06.94zm10 10l.94 2.06.94-2.06 2.06-.94-2.06-.94-.94-2.06-.94 2.06-2.06.94z\"/><path d=\"M17.41 7.96l-1.37-1.37c-.4-.4-.92-.59-1.43-.59-.52 0-1.04.2-1.43.59L10.3 9.45l-7.72 7.72c-.78.78-.78 2.05 0 2.83L4 21.41c.39.39.9.59 1.41.59.51 0 1.02-.2 1.41-.59l7.78-7.78 2.81-2.81c.8-.78.8-2.07 0-2.86zM5.41 20L4 18.59l7.72-7.72 1.47 1.35L5.41 20z\"/>\n",
              "  </svg>\n",
              "      </button>\n",
              "      \n",
              "  <style>\n",
              "    .colab-df-container {\n",
              "      display:flex;\n",
              "      flex-wrap:wrap;\n",
              "      gap: 12px;\n",
              "    }\n",
              "\n",
              "    .colab-df-convert {\n",
              "      background-color: #E8F0FE;\n",
              "      border: none;\n",
              "      border-radius: 50%;\n",
              "      cursor: pointer;\n",
              "      display: none;\n",
              "      fill: #1967D2;\n",
              "      height: 32px;\n",
              "      padding: 0 0 0 0;\n",
              "      width: 32px;\n",
              "    }\n",
              "\n",
              "    .colab-df-convert:hover {\n",
              "      background-color: #E2EBFA;\n",
              "      box-shadow: 0px 1px 2px rgba(60, 64, 67, 0.3), 0px 1px 3px 1px rgba(60, 64, 67, 0.15);\n",
              "      fill: #174EA6;\n",
              "    }\n",
              "\n",
              "    [theme=dark] .colab-df-convert {\n",
              "      background-color: #3B4455;\n",
              "      fill: #D2E3FC;\n",
              "    }\n",
              "\n",
              "    [theme=dark] .colab-df-convert:hover {\n",
              "      background-color: #434B5C;\n",
              "      box-shadow: 0px 1px 3px 1px rgba(0, 0, 0, 0.15);\n",
              "      filter: drop-shadow(0px 1px 2px rgba(0, 0, 0, 0.3));\n",
              "      fill: #FFFFFF;\n",
              "    }\n",
              "  </style>\n",
              "\n",
              "      <script>\n",
              "        const buttonEl =\n",
              "          document.querySelector('#df-e11c87c9-14df-4e7c-83b2-fa47b46885c0 button.colab-df-convert');\n",
              "        buttonEl.style.display =\n",
              "          google.colab.kernel.accessAllowed ? 'block' : 'none';\n",
              "\n",
              "        async function convertToInteractive(key) {\n",
              "          const element = document.querySelector('#df-e11c87c9-14df-4e7c-83b2-fa47b46885c0');\n",
              "          const dataTable =\n",
              "            await google.colab.kernel.invokeFunction('convertToInteractive',\n",
              "                                                     [key], {});\n",
              "          if (!dataTable) return;\n",
              "\n",
              "          const docLinkHtml = 'Like what you see? Visit the ' +\n",
              "            '<a target=\"_blank\" href=https://colab.research.google.com/notebooks/data_table.ipynb>data table notebook</a>'\n",
              "            + ' to learn more about interactive tables.';\n",
              "          element.innerHTML = '';\n",
              "          dataTable['output_type'] = 'display_data';\n",
              "          await google.colab.output.renderOutput(dataTable, element);\n",
              "          const docLink = document.createElement('div');\n",
              "          docLink.innerHTML = docLinkHtml;\n",
              "          element.appendChild(docLink);\n",
              "        }\n",
              "      </script>\n",
              "    </div>\n",
              "  </div>\n",
              "  "
            ]
          },
          "metadata": {},
          "execution_count": 57
        }
      ]
    },
    {
      "cell_type": "code",
      "source": [
        ""
      ],
      "metadata": {
        "id": "U4_ce-WbrjhS"
      },
      "execution_count": null,
      "outputs": []
    },
    {
      "cell_type": "code",
      "source": [
        "mod = sm.OLS(X_train[target], X_train[['venta_predicted', 'macro_pred', 'intercept']])\n",
        "res = mod.fit()\n",
        "print(res.summary())"
      ],
      "metadata": {
        "id": "Ns8Vy7za2RKp"
      },
      "execution_count": null,
      "outputs": []
    },
    {
      "cell_type": "code",
      "source": [
        "\n",
        "data_res['venta_predicted_final'] = 0.1938*data_res.venta_predicted + 0.9125*data_res.macro_pred - 6.1913\n",
        "\n",
        "\n",
        "data = data_res.copy().dropna()\n",
        "X_train = data[:-test_size].dropna()\n",
        "X_test  = data[-test_size:].dropna()\n",
        "\n"
      ],
      "metadata": {
        "id": "Con7vVAa3TNT"
      },
      "execution_count": null,
      "outputs": []
    },
    {
      "cell_type": "code",
      "source": [
        "X_train[['venta_predicted_final', target]].corr()**2"
      ],
      "metadata": {
        "colab": {
          "base_uri": "https://localhost:8080/",
          "height": 112
        },
        "id": "ZmIbyI2w7yuZ",
        "outputId": "b9d67094-5e06-483d-9aa7-dc7b63f292b6"
      },
      "execution_count": null,
      "outputs": [
        {
          "output_type": "execute_result",
          "data": {
            "text/plain": [
              "                       venta_predicted_final  Venta_zona_1\n",
              "venta_predicted_final               1.000000      0.250031\n",
              "Venta_zona_1                        0.250031      1.000000"
            ],
            "text/html": [
              "\n",
              "  <div id=\"df-e2acc920-d685-4fc4-85a0-96dff54ced98\">\n",
              "    <div class=\"colab-df-container\">\n",
              "      <div>\n",
              "<style scoped>\n",
              "    .dataframe tbody tr th:only-of-type {\n",
              "        vertical-align: middle;\n",
              "    }\n",
              "\n",
              "    .dataframe tbody tr th {\n",
              "        vertical-align: top;\n",
              "    }\n",
              "\n",
              "    .dataframe thead th {\n",
              "        text-align: right;\n",
              "    }\n",
              "</style>\n",
              "<table border=\"1\" class=\"dataframe\">\n",
              "  <thead>\n",
              "    <tr style=\"text-align: right;\">\n",
              "      <th></th>\n",
              "      <th>venta_predicted_final</th>\n",
              "      <th>Venta_zona_1</th>\n",
              "    </tr>\n",
              "  </thead>\n",
              "  <tbody>\n",
              "    <tr>\n",
              "      <th>venta_predicted_final</th>\n",
              "      <td>1.000000</td>\n",
              "      <td>0.250031</td>\n",
              "    </tr>\n",
              "    <tr>\n",
              "      <th>Venta_zona_1</th>\n",
              "      <td>0.250031</td>\n",
              "      <td>1.000000</td>\n",
              "    </tr>\n",
              "  </tbody>\n",
              "</table>\n",
              "</div>\n",
              "      <button class=\"colab-df-convert\" onclick=\"convertToInteractive('df-e2acc920-d685-4fc4-85a0-96dff54ced98')\"\n",
              "              title=\"Convert this dataframe to an interactive table.\"\n",
              "              style=\"display:none;\">\n",
              "        \n",
              "  <svg xmlns=\"http://www.w3.org/2000/svg\" height=\"24px\"viewBox=\"0 0 24 24\"\n",
              "       width=\"24px\">\n",
              "    <path d=\"M0 0h24v24H0V0z\" fill=\"none\"/>\n",
              "    <path d=\"M18.56 5.44l.94 2.06.94-2.06 2.06-.94-2.06-.94-.94-2.06-.94 2.06-2.06.94zm-11 1L8.5 8.5l.94-2.06 2.06-.94-2.06-.94L8.5 2.5l-.94 2.06-2.06.94zm10 10l.94 2.06.94-2.06 2.06-.94-2.06-.94-.94-2.06-.94 2.06-2.06.94z\"/><path d=\"M17.41 7.96l-1.37-1.37c-.4-.4-.92-.59-1.43-.59-.52 0-1.04.2-1.43.59L10.3 9.45l-7.72 7.72c-.78.78-.78 2.05 0 2.83L4 21.41c.39.39.9.59 1.41.59.51 0 1.02-.2 1.41-.59l7.78-7.78 2.81-2.81c.8-.78.8-2.07 0-2.86zM5.41 20L4 18.59l7.72-7.72 1.47 1.35L5.41 20z\"/>\n",
              "  </svg>\n",
              "      </button>\n",
              "      \n",
              "  <style>\n",
              "    .colab-df-container {\n",
              "      display:flex;\n",
              "      flex-wrap:wrap;\n",
              "      gap: 12px;\n",
              "    }\n",
              "\n",
              "    .colab-df-convert {\n",
              "      background-color: #E8F0FE;\n",
              "      border: none;\n",
              "      border-radius: 50%;\n",
              "      cursor: pointer;\n",
              "      display: none;\n",
              "      fill: #1967D2;\n",
              "      height: 32px;\n",
              "      padding: 0 0 0 0;\n",
              "      width: 32px;\n",
              "    }\n",
              "\n",
              "    .colab-df-convert:hover {\n",
              "      background-color: #E2EBFA;\n",
              "      box-shadow: 0px 1px 2px rgba(60, 64, 67, 0.3), 0px 1px 3px 1px rgba(60, 64, 67, 0.15);\n",
              "      fill: #174EA6;\n",
              "    }\n",
              "\n",
              "    [theme=dark] .colab-df-convert {\n",
              "      background-color: #3B4455;\n",
              "      fill: #D2E3FC;\n",
              "    }\n",
              "\n",
              "    [theme=dark] .colab-df-convert:hover {\n",
              "      background-color: #434B5C;\n",
              "      box-shadow: 0px 1px 3px 1px rgba(0, 0, 0, 0.15);\n",
              "      filter: drop-shadow(0px 1px 2px rgba(0, 0, 0, 0.3));\n",
              "      fill: #FFFFFF;\n",
              "    }\n",
              "  </style>\n",
              "\n",
              "      <script>\n",
              "        const buttonEl =\n",
              "          document.querySelector('#df-e2acc920-d685-4fc4-85a0-96dff54ced98 button.colab-df-convert');\n",
              "        buttonEl.style.display =\n",
              "          google.colab.kernel.accessAllowed ? 'block' : 'none';\n",
              "\n",
              "        async function convertToInteractive(key) {\n",
              "          const element = document.querySelector('#df-e2acc920-d685-4fc4-85a0-96dff54ced98');\n",
              "          const dataTable =\n",
              "            await google.colab.kernel.invokeFunction('convertToInteractive',\n",
              "                                                     [key], {});\n",
              "          if (!dataTable) return;\n",
              "\n",
              "          const docLinkHtml = 'Like what you see? Visit the ' +\n",
              "            '<a target=\"_blank\" href=https://colab.research.google.com/notebooks/data_table.ipynb>data table notebook</a>'\n",
              "            + ' to learn more about interactive tables.';\n",
              "          element.innerHTML = '';\n",
              "          dataTable['output_type'] = 'display_data';\n",
              "          await google.colab.output.renderOutput(dataTable, element);\n",
              "          const docLink = document.createElement('div');\n",
              "          docLink.innerHTML = docLinkHtml;\n",
              "          element.appendChild(docLink);\n",
              "        }\n",
              "      </script>\n",
              "    </div>\n",
              "  </div>\n",
              "  "
            ]
          },
          "metadata": {},
          "execution_count": 223
        }
      ]
    },
    {
      "cell_type": "code",
      "source": [
        "data[['venta_predicted',\n",
        "      'venta_predicted_final', target]].to_csv('results_zona1.csv', index=0)"
      ],
      "metadata": {
        "id": "v79loELBUABS"
      },
      "execution_count": null,
      "outputs": []
    },
    {
      "cell_type": "code",
      "source": [
        "data[['venta_predicted',\n",
        "      'venta_predicted_final', target]]"
      ],
      "metadata": {
        "id": "baKpexkF_hB7"
      },
      "execution_count": null,
      "outputs": []
    },
    {
      "cell_type": "code",
      "source": [
        "X_test[features]"
      ],
      "metadata": {
        "colab": {
          "base_uri": "https://localhost:8080/",
          "height": 143
        },
        "id": "eKeAUlBDniSO",
        "outputId": "aca011c6-9cbf-4801-9384-9538750d5362"
      },
      "execution_count": null,
      "outputs": [
        {
          "output_type": "execute_result",
          "data": {
            "text/plain": [
              "        Venta_zona_1_lag3_avg3\n",
              "codmes                        \n",
              "abr-22               63.000000\n",
              "may-22               55.333333"
            ],
            "text/html": [
              "\n",
              "  <div id=\"df-be4446fd-2683-4cfa-9e24-05946da9625d\">\n",
              "    <div class=\"colab-df-container\">\n",
              "      <div>\n",
              "<style scoped>\n",
              "    .dataframe tbody tr th:only-of-type {\n",
              "        vertical-align: middle;\n",
              "    }\n",
              "\n",
              "    .dataframe tbody tr th {\n",
              "        vertical-align: top;\n",
              "    }\n",
              "\n",
              "    .dataframe thead th {\n",
              "        text-align: right;\n",
              "    }\n",
              "</style>\n",
              "<table border=\"1\" class=\"dataframe\">\n",
              "  <thead>\n",
              "    <tr style=\"text-align: right;\">\n",
              "      <th></th>\n",
              "      <th>Venta_zona_1_lag3_avg3</th>\n",
              "    </tr>\n",
              "    <tr>\n",
              "      <th>codmes</th>\n",
              "      <th></th>\n",
              "    </tr>\n",
              "  </thead>\n",
              "  <tbody>\n",
              "    <tr>\n",
              "      <th>abr-22</th>\n",
              "      <td>63.000000</td>\n",
              "    </tr>\n",
              "    <tr>\n",
              "      <th>may-22</th>\n",
              "      <td>55.333333</td>\n",
              "    </tr>\n",
              "  </tbody>\n",
              "</table>\n",
              "</div>\n",
              "      <button class=\"colab-df-convert\" onclick=\"convertToInteractive('df-be4446fd-2683-4cfa-9e24-05946da9625d')\"\n",
              "              title=\"Convert this dataframe to an interactive table.\"\n",
              "              style=\"display:none;\">\n",
              "        \n",
              "  <svg xmlns=\"http://www.w3.org/2000/svg\" height=\"24px\"viewBox=\"0 0 24 24\"\n",
              "       width=\"24px\">\n",
              "    <path d=\"M0 0h24v24H0V0z\" fill=\"none\"/>\n",
              "    <path d=\"M18.56 5.44l.94 2.06.94-2.06 2.06-.94-2.06-.94-.94-2.06-.94 2.06-2.06.94zm-11 1L8.5 8.5l.94-2.06 2.06-.94-2.06-.94L8.5 2.5l-.94 2.06-2.06.94zm10 10l.94 2.06.94-2.06 2.06-.94-2.06-.94-.94-2.06-.94 2.06-2.06.94z\"/><path d=\"M17.41 7.96l-1.37-1.37c-.4-.4-.92-.59-1.43-.59-.52 0-1.04.2-1.43.59L10.3 9.45l-7.72 7.72c-.78.78-.78 2.05 0 2.83L4 21.41c.39.39.9.59 1.41.59.51 0 1.02-.2 1.41-.59l7.78-7.78 2.81-2.81c.8-.78.8-2.07 0-2.86zM5.41 20L4 18.59l7.72-7.72 1.47 1.35L5.41 20z\"/>\n",
              "  </svg>\n",
              "      </button>\n",
              "      \n",
              "  <style>\n",
              "    .colab-df-container {\n",
              "      display:flex;\n",
              "      flex-wrap:wrap;\n",
              "      gap: 12px;\n",
              "    }\n",
              "\n",
              "    .colab-df-convert {\n",
              "      background-color: #E8F0FE;\n",
              "      border: none;\n",
              "      border-radius: 50%;\n",
              "      cursor: pointer;\n",
              "      display: none;\n",
              "      fill: #1967D2;\n",
              "      height: 32px;\n",
              "      padding: 0 0 0 0;\n",
              "      width: 32px;\n",
              "    }\n",
              "\n",
              "    .colab-df-convert:hover {\n",
              "      background-color: #E2EBFA;\n",
              "      box-shadow: 0px 1px 2px rgba(60, 64, 67, 0.3), 0px 1px 3px 1px rgba(60, 64, 67, 0.15);\n",
              "      fill: #174EA6;\n",
              "    }\n",
              "\n",
              "    [theme=dark] .colab-df-convert {\n",
              "      background-color: #3B4455;\n",
              "      fill: #D2E3FC;\n",
              "    }\n",
              "\n",
              "    [theme=dark] .colab-df-convert:hover {\n",
              "      background-color: #434B5C;\n",
              "      box-shadow: 0px 1px 3px 1px rgba(0, 0, 0, 0.15);\n",
              "      filter: drop-shadow(0px 1px 2px rgba(0, 0, 0, 0.3));\n",
              "      fill: #FFFFFF;\n",
              "    }\n",
              "  </style>\n",
              "\n",
              "      <script>\n",
              "        const buttonEl =\n",
              "          document.querySelector('#df-be4446fd-2683-4cfa-9e24-05946da9625d button.colab-df-convert');\n",
              "        buttonEl.style.display =\n",
              "          google.colab.kernel.accessAllowed ? 'block' : 'none';\n",
              "\n",
              "        async function convertToInteractive(key) {\n",
              "          const element = document.querySelector('#df-be4446fd-2683-4cfa-9e24-05946da9625d');\n",
              "          const dataTable =\n",
              "            await google.colab.kernel.invokeFunction('convertToInteractive',\n",
              "                                                     [key], {});\n",
              "          if (!dataTable) return;\n",
              "\n",
              "          const docLinkHtml = 'Like what you see? Visit the ' +\n",
              "            '<a target=\"_blank\" href=https://colab.research.google.com/notebooks/data_table.ipynb>data table notebook</a>'\n",
              "            + ' to learn more about interactive tables.';\n",
              "          element.innerHTML = '';\n",
              "          dataTable['output_type'] = 'display_data';\n",
              "          await google.colab.output.renderOutput(dataTable, element);\n",
              "          const docLink = document.createElement('div');\n",
              "          docLink.innerHTML = docLinkHtml;\n",
              "          element.appendChild(docLink);\n",
              "        }\n",
              "      </script>\n",
              "    </div>\n",
              "  </div>\n",
              "  "
            ]
          },
          "metadata": {},
          "execution_count": 232
        }
      ]
    },
    {
      "cell_type": "markdown",
      "source": [
        "# Implementación"
      ],
      "metadata": {
        "id": "JOCKvHF0ot-U"
      }
    },
    {
      "cell_type": "code",
      "source": [
        ""
      ],
      "metadata": {
        "id": "fDYaG5-uOm5R"
      },
      "execution_count": null,
      "outputs": []
    },
    {
      "cell_type": "code",
      "source": [
        "data[[target + '_lag2_avg3', 'exp_PBI_avg3_std', 'ind_prec_cons_lima_met_alim_ener_avg3_std', 'flg_feia_avg3_std']]"
      ],
      "metadata": {
        "id": "QIhvX48MpSj_",
        "colab": {
          "base_uri": "https://localhost:8080/",
          "height": 1000
        },
        "outputId": "28fdb004-21c5-4b38-b8e9-126ad83ab300"
      },
      "execution_count": null,
      "outputs": [
        {
          "output_type": "execute_result",
          "data": {
            "text/plain": [
              "         Venta_zona_2_lag2_avg3  exp_PBI_avg3_std  \\\n",
              "codmes                                              \n",
              "ago-18                23.333333         -0.471490   \n",
              "sept-18               23.000000         -0.431065   \n",
              "oct-18                24.333333         -0.390640   \n",
              "nov-18                24.000000         -0.350215   \n",
              "dic-18                29.666667         -0.350215   \n",
              "ene-19                27.666667         -0.360321   \n",
              "feb-19                27.333333         -0.380534   \n",
              "mar-19                22.666667         -0.400746   \n",
              "abr-19                18.666667         -0.390640   \n",
              "may-19                21.333333         -0.370427   \n",
              "jun-19                21.666667         -0.350215   \n",
              "jul-19                26.000000         -0.350215   \n",
              "ago-19                29.666667         -0.390640   \n",
              "sept-19               35.333333         -0.451277   \n",
              "oct-19                41.666667         -0.552340   \n",
              "nov-19                43.666667         -0.663508   \n",
              "dic-19                42.666667         -0.784783   \n",
              "ene-20                36.666667         -0.885846   \n",
              "feb-20                33.333333         -0.936377   \n",
              "mar-20                32.000000         -0.926270   \n",
              "abr-20                37.666667         -0.845421   \n",
              "may-20                31.333333         -0.784783   \n",
              "jun-20                23.666667         -0.410852   \n",
              "jul-20                16.000000         -0.087453   \n",
              "ago-20                21.666667          0.458284   \n",
              "sept-20               38.333333          1.064659   \n",
              "oct-20                47.666667          1.468908   \n",
              "nov-20                51.666667          1.873158   \n",
              "dic-20                52.000000          1.873158   \n",
              "ene-21                53.333333          2.277407   \n",
              "feb-21                57.000000          2.479532   \n",
              "mar-21                54.666667          2.782719   \n",
              "abr-21                58.333333          1.772095   \n",
              "may-21                66.333333          0.822109   \n",
              "jun-21                64.666667         -0.168303   \n",
              "jul-21                55.666667         -0.067240   \n",
              "ago-21                38.000000         -0.006603   \n",
              "sept-21               36.000000         -0.127878   \n",
              "oct-21                40.666667         -0.228940   \n",
              "nov-21                55.333333         -0.431065   \n",
              "dic-21                65.666667         -0.633190   \n",
              "ene-22                73.000000         -0.926270   \n",
              "feb-22                80.333333         -1.047545   \n",
              "mar-22                78.333333         -1.128395   \n",
              "abr-22                82.333333         -1.138502   \n",
              "\n",
              "         ind_prec_cons_lima_met_alim_ener_avg3_std  flg_feia_avg3_std  \n",
              "codmes                                                                 \n",
              "ago-18                                   -1.170967           1.675880  \n",
              "sept-18                                  -1.177619          -0.038088  \n",
              "oct-18                                   -1.106501           1.675880  \n",
              "nov-18                                   -1.003602          -0.038088  \n",
              "dic-18                                   -0.903643          -0.038088  \n",
              "ene-19                                   -0.841452          -0.038088  \n",
              "feb-19                                   -0.778285          -0.038088  \n",
              "mar-19                                   -0.750554          -0.038088  \n",
              "abr-19                                   -0.725893          -1.752056  \n",
              "may-19                                   -0.706836          -1.752056  \n",
              "jun-19                                   -0.650240          -0.038088  \n",
              "jul-19                                   -0.564072          -0.038088  \n",
              "ago-19                                   -0.475321           1.675880  \n",
              "sept-19                                  -0.444132          -0.038088  \n",
              "oct-19                                   -0.421224          -0.038088  \n",
              "nov-19                                   -0.416301          -0.038088  \n",
              "dic-19                                   -0.390022          -0.038088  \n",
              "ene-20                                   -0.395190           1.675880  \n",
              "feb-20                                   -0.378727          -0.038088  \n",
              "mar-20                                   -0.355999          -0.038088  \n",
              "abr-20                                   -0.326996          -1.752056  \n",
              "may-20                                   -0.303553          -1.752056  \n",
              "jun-20                                   -0.198493          -1.752056  \n",
              "jul-20                                   -0.095797          -0.038088  \n",
              "ago-20                                    0.022874          -0.038088  \n",
              "sept-20                                  -0.011883           1.675880  \n",
              "oct-20                                    0.047470          -0.038088  \n",
              "nov-20                                    0.041104           1.675880  \n",
              "dic-20                                    0.123277          -0.038088  \n",
              "ene-21                                    0.104183           1.675880  \n",
              "feb-21                                    0.220272          -0.038088  \n",
              "mar-21                                    0.283185          -0.038088  \n",
              "abr-21                                    0.512720          -1.752056  \n",
              "may-21                                    0.612878          -0.038088  \n",
              "jun-21                                    0.850035          -0.038088  \n",
              "jul-21                                    0.890735          -0.038088  \n",
              "ago-21                                    1.000876          -1.752056  \n",
              "sept-21                                   1.094460          -0.038088  \n",
              "oct-21                                    1.412796          -0.038088  \n",
              "nov-21                                    1.869985           1.675880  \n",
              "dic-21                                    2.299203          -0.038088  \n",
              "ene-22                                    2.635918          -0.038088  \n",
              "feb-22                                    2.848728          -0.038088  \n",
              "mar-22                                    3.097754          -0.038088  \n",
              "abr-22                                    3.280410          -0.038088  "
            ],
            "text/html": [
              "\n",
              "  <div id=\"df-506d438d-4440-431e-9d8d-c445a3b0b5c9\">\n",
              "    <div class=\"colab-df-container\">\n",
              "      <div>\n",
              "<style scoped>\n",
              "    .dataframe tbody tr th:only-of-type {\n",
              "        vertical-align: middle;\n",
              "    }\n",
              "\n",
              "    .dataframe tbody tr th {\n",
              "        vertical-align: top;\n",
              "    }\n",
              "\n",
              "    .dataframe thead th {\n",
              "        text-align: right;\n",
              "    }\n",
              "</style>\n",
              "<table border=\"1\" class=\"dataframe\">\n",
              "  <thead>\n",
              "    <tr style=\"text-align: right;\">\n",
              "      <th></th>\n",
              "      <th>Venta_zona_2_lag2_avg3</th>\n",
              "      <th>exp_PBI_avg3_std</th>\n",
              "      <th>ind_prec_cons_lima_met_alim_ener_avg3_std</th>\n",
              "      <th>flg_feia_avg3_std</th>\n",
              "    </tr>\n",
              "    <tr>\n",
              "      <th>codmes</th>\n",
              "      <th></th>\n",
              "      <th></th>\n",
              "      <th></th>\n",
              "      <th></th>\n",
              "    </tr>\n",
              "  </thead>\n",
              "  <tbody>\n",
              "    <tr>\n",
              "      <th>ago-18</th>\n",
              "      <td>23.333333</td>\n",
              "      <td>-0.471490</td>\n",
              "      <td>-1.170967</td>\n",
              "      <td>1.675880</td>\n",
              "    </tr>\n",
              "    <tr>\n",
              "      <th>sept-18</th>\n",
              "      <td>23.000000</td>\n",
              "      <td>-0.431065</td>\n",
              "      <td>-1.177619</td>\n",
              "      <td>-0.038088</td>\n",
              "    </tr>\n",
              "    <tr>\n",
              "      <th>oct-18</th>\n",
              "      <td>24.333333</td>\n",
              "      <td>-0.390640</td>\n",
              "      <td>-1.106501</td>\n",
              "      <td>1.675880</td>\n",
              "    </tr>\n",
              "    <tr>\n",
              "      <th>nov-18</th>\n",
              "      <td>24.000000</td>\n",
              "      <td>-0.350215</td>\n",
              "      <td>-1.003602</td>\n",
              "      <td>-0.038088</td>\n",
              "    </tr>\n",
              "    <tr>\n",
              "      <th>dic-18</th>\n",
              "      <td>29.666667</td>\n",
              "      <td>-0.350215</td>\n",
              "      <td>-0.903643</td>\n",
              "      <td>-0.038088</td>\n",
              "    </tr>\n",
              "    <tr>\n",
              "      <th>ene-19</th>\n",
              "      <td>27.666667</td>\n",
              "      <td>-0.360321</td>\n",
              "      <td>-0.841452</td>\n",
              "      <td>-0.038088</td>\n",
              "    </tr>\n",
              "    <tr>\n",
              "      <th>feb-19</th>\n",
              "      <td>27.333333</td>\n",
              "      <td>-0.380534</td>\n",
              "      <td>-0.778285</td>\n",
              "      <td>-0.038088</td>\n",
              "    </tr>\n",
              "    <tr>\n",
              "      <th>mar-19</th>\n",
              "      <td>22.666667</td>\n",
              "      <td>-0.400746</td>\n",
              "      <td>-0.750554</td>\n",
              "      <td>-0.038088</td>\n",
              "    </tr>\n",
              "    <tr>\n",
              "      <th>abr-19</th>\n",
              "      <td>18.666667</td>\n",
              "      <td>-0.390640</td>\n",
              "      <td>-0.725893</td>\n",
              "      <td>-1.752056</td>\n",
              "    </tr>\n",
              "    <tr>\n",
              "      <th>may-19</th>\n",
              "      <td>21.333333</td>\n",
              "      <td>-0.370427</td>\n",
              "      <td>-0.706836</td>\n",
              "      <td>-1.752056</td>\n",
              "    </tr>\n",
              "    <tr>\n",
              "      <th>jun-19</th>\n",
              "      <td>21.666667</td>\n",
              "      <td>-0.350215</td>\n",
              "      <td>-0.650240</td>\n",
              "      <td>-0.038088</td>\n",
              "    </tr>\n",
              "    <tr>\n",
              "      <th>jul-19</th>\n",
              "      <td>26.000000</td>\n",
              "      <td>-0.350215</td>\n",
              "      <td>-0.564072</td>\n",
              "      <td>-0.038088</td>\n",
              "    </tr>\n",
              "    <tr>\n",
              "      <th>ago-19</th>\n",
              "      <td>29.666667</td>\n",
              "      <td>-0.390640</td>\n",
              "      <td>-0.475321</td>\n",
              "      <td>1.675880</td>\n",
              "    </tr>\n",
              "    <tr>\n",
              "      <th>sept-19</th>\n",
              "      <td>35.333333</td>\n",
              "      <td>-0.451277</td>\n",
              "      <td>-0.444132</td>\n",
              "      <td>-0.038088</td>\n",
              "    </tr>\n",
              "    <tr>\n",
              "      <th>oct-19</th>\n",
              "      <td>41.666667</td>\n",
              "      <td>-0.552340</td>\n",
              "      <td>-0.421224</td>\n",
              "      <td>-0.038088</td>\n",
              "    </tr>\n",
              "    <tr>\n",
              "      <th>nov-19</th>\n",
              "      <td>43.666667</td>\n",
              "      <td>-0.663508</td>\n",
              "      <td>-0.416301</td>\n",
              "      <td>-0.038088</td>\n",
              "    </tr>\n",
              "    <tr>\n",
              "      <th>dic-19</th>\n",
              "      <td>42.666667</td>\n",
              "      <td>-0.784783</td>\n",
              "      <td>-0.390022</td>\n",
              "      <td>-0.038088</td>\n",
              "    </tr>\n",
              "    <tr>\n",
              "      <th>ene-20</th>\n",
              "      <td>36.666667</td>\n",
              "      <td>-0.885846</td>\n",
              "      <td>-0.395190</td>\n",
              "      <td>1.675880</td>\n",
              "    </tr>\n",
              "    <tr>\n",
              "      <th>feb-20</th>\n",
              "      <td>33.333333</td>\n",
              "      <td>-0.936377</td>\n",
              "      <td>-0.378727</td>\n",
              "      <td>-0.038088</td>\n",
              "    </tr>\n",
              "    <tr>\n",
              "      <th>mar-20</th>\n",
              "      <td>32.000000</td>\n",
              "      <td>-0.926270</td>\n",
              "      <td>-0.355999</td>\n",
              "      <td>-0.038088</td>\n",
              "    </tr>\n",
              "    <tr>\n",
              "      <th>abr-20</th>\n",
              "      <td>37.666667</td>\n",
              "      <td>-0.845421</td>\n",
              "      <td>-0.326996</td>\n",
              "      <td>-1.752056</td>\n",
              "    </tr>\n",
              "    <tr>\n",
              "      <th>may-20</th>\n",
              "      <td>31.333333</td>\n",
              "      <td>-0.784783</td>\n",
              "      <td>-0.303553</td>\n",
              "      <td>-1.752056</td>\n",
              "    </tr>\n",
              "    <tr>\n",
              "      <th>jun-20</th>\n",
              "      <td>23.666667</td>\n",
              "      <td>-0.410852</td>\n",
              "      <td>-0.198493</td>\n",
              "      <td>-1.752056</td>\n",
              "    </tr>\n",
              "    <tr>\n",
              "      <th>jul-20</th>\n",
              "      <td>16.000000</td>\n",
              "      <td>-0.087453</td>\n",
              "      <td>-0.095797</td>\n",
              "      <td>-0.038088</td>\n",
              "    </tr>\n",
              "    <tr>\n",
              "      <th>ago-20</th>\n",
              "      <td>21.666667</td>\n",
              "      <td>0.458284</td>\n",
              "      <td>0.022874</td>\n",
              "      <td>-0.038088</td>\n",
              "    </tr>\n",
              "    <tr>\n",
              "      <th>sept-20</th>\n",
              "      <td>38.333333</td>\n",
              "      <td>1.064659</td>\n",
              "      <td>-0.011883</td>\n",
              "      <td>1.675880</td>\n",
              "    </tr>\n",
              "    <tr>\n",
              "      <th>oct-20</th>\n",
              "      <td>47.666667</td>\n",
              "      <td>1.468908</td>\n",
              "      <td>0.047470</td>\n",
              "      <td>-0.038088</td>\n",
              "    </tr>\n",
              "    <tr>\n",
              "      <th>nov-20</th>\n",
              "      <td>51.666667</td>\n",
              "      <td>1.873158</td>\n",
              "      <td>0.041104</td>\n",
              "      <td>1.675880</td>\n",
              "    </tr>\n",
              "    <tr>\n",
              "      <th>dic-20</th>\n",
              "      <td>52.000000</td>\n",
              "      <td>1.873158</td>\n",
              "      <td>0.123277</td>\n",
              "      <td>-0.038088</td>\n",
              "    </tr>\n",
              "    <tr>\n",
              "      <th>ene-21</th>\n",
              "      <td>53.333333</td>\n",
              "      <td>2.277407</td>\n",
              "      <td>0.104183</td>\n",
              "      <td>1.675880</td>\n",
              "    </tr>\n",
              "    <tr>\n",
              "      <th>feb-21</th>\n",
              "      <td>57.000000</td>\n",
              "      <td>2.479532</td>\n",
              "      <td>0.220272</td>\n",
              "      <td>-0.038088</td>\n",
              "    </tr>\n",
              "    <tr>\n",
              "      <th>mar-21</th>\n",
              "      <td>54.666667</td>\n",
              "      <td>2.782719</td>\n",
              "      <td>0.283185</td>\n",
              "      <td>-0.038088</td>\n",
              "    </tr>\n",
              "    <tr>\n",
              "      <th>abr-21</th>\n",
              "      <td>58.333333</td>\n",
              "      <td>1.772095</td>\n",
              "      <td>0.512720</td>\n",
              "      <td>-1.752056</td>\n",
              "    </tr>\n",
              "    <tr>\n",
              "      <th>may-21</th>\n",
              "      <td>66.333333</td>\n",
              "      <td>0.822109</td>\n",
              "      <td>0.612878</td>\n",
              "      <td>-0.038088</td>\n",
              "    </tr>\n",
              "    <tr>\n",
              "      <th>jun-21</th>\n",
              "      <td>64.666667</td>\n",
              "      <td>-0.168303</td>\n",
              "      <td>0.850035</td>\n",
              "      <td>-0.038088</td>\n",
              "    </tr>\n",
              "    <tr>\n",
              "      <th>jul-21</th>\n",
              "      <td>55.666667</td>\n",
              "      <td>-0.067240</td>\n",
              "      <td>0.890735</td>\n",
              "      <td>-0.038088</td>\n",
              "    </tr>\n",
              "    <tr>\n",
              "      <th>ago-21</th>\n",
              "      <td>38.000000</td>\n",
              "      <td>-0.006603</td>\n",
              "      <td>1.000876</td>\n",
              "      <td>-1.752056</td>\n",
              "    </tr>\n",
              "    <tr>\n",
              "      <th>sept-21</th>\n",
              "      <td>36.000000</td>\n",
              "      <td>-0.127878</td>\n",
              "      <td>1.094460</td>\n",
              "      <td>-0.038088</td>\n",
              "    </tr>\n",
              "    <tr>\n",
              "      <th>oct-21</th>\n",
              "      <td>40.666667</td>\n",
              "      <td>-0.228940</td>\n",
              "      <td>1.412796</td>\n",
              "      <td>-0.038088</td>\n",
              "    </tr>\n",
              "    <tr>\n",
              "      <th>nov-21</th>\n",
              "      <td>55.333333</td>\n",
              "      <td>-0.431065</td>\n",
              "      <td>1.869985</td>\n",
              "      <td>1.675880</td>\n",
              "    </tr>\n",
              "    <tr>\n",
              "      <th>dic-21</th>\n",
              "      <td>65.666667</td>\n",
              "      <td>-0.633190</td>\n",
              "      <td>2.299203</td>\n",
              "      <td>-0.038088</td>\n",
              "    </tr>\n",
              "    <tr>\n",
              "      <th>ene-22</th>\n",
              "      <td>73.000000</td>\n",
              "      <td>-0.926270</td>\n",
              "      <td>2.635918</td>\n",
              "      <td>-0.038088</td>\n",
              "    </tr>\n",
              "    <tr>\n",
              "      <th>feb-22</th>\n",
              "      <td>80.333333</td>\n",
              "      <td>-1.047545</td>\n",
              "      <td>2.848728</td>\n",
              "      <td>-0.038088</td>\n",
              "    </tr>\n",
              "    <tr>\n",
              "      <th>mar-22</th>\n",
              "      <td>78.333333</td>\n",
              "      <td>-1.128395</td>\n",
              "      <td>3.097754</td>\n",
              "      <td>-0.038088</td>\n",
              "    </tr>\n",
              "    <tr>\n",
              "      <th>abr-22</th>\n",
              "      <td>82.333333</td>\n",
              "      <td>-1.138502</td>\n",
              "      <td>3.280410</td>\n",
              "      <td>-0.038088</td>\n",
              "    </tr>\n",
              "  </tbody>\n",
              "</table>\n",
              "</div>\n",
              "      <button class=\"colab-df-convert\" onclick=\"convertToInteractive('df-506d438d-4440-431e-9d8d-c445a3b0b5c9')\"\n",
              "              title=\"Convert this dataframe to an interactive table.\"\n",
              "              style=\"display:none;\">\n",
              "        \n",
              "  <svg xmlns=\"http://www.w3.org/2000/svg\" height=\"24px\"viewBox=\"0 0 24 24\"\n",
              "       width=\"24px\">\n",
              "    <path d=\"M0 0h24v24H0V0z\" fill=\"none\"/>\n",
              "    <path d=\"M18.56 5.44l.94 2.06.94-2.06 2.06-.94-2.06-.94-.94-2.06-.94 2.06-2.06.94zm-11 1L8.5 8.5l.94-2.06 2.06-.94-2.06-.94L8.5 2.5l-.94 2.06-2.06.94zm10 10l.94 2.06.94-2.06 2.06-.94-2.06-.94-.94-2.06-.94 2.06-2.06.94z\"/><path d=\"M17.41 7.96l-1.37-1.37c-.4-.4-.92-.59-1.43-.59-.52 0-1.04.2-1.43.59L10.3 9.45l-7.72 7.72c-.78.78-.78 2.05 0 2.83L4 21.41c.39.39.9.59 1.41.59.51 0 1.02-.2 1.41-.59l7.78-7.78 2.81-2.81c.8-.78.8-2.07 0-2.86zM5.41 20L4 18.59l7.72-7.72 1.47 1.35L5.41 20z\"/>\n",
              "  </svg>\n",
              "      </button>\n",
              "      \n",
              "  <style>\n",
              "    .colab-df-container {\n",
              "      display:flex;\n",
              "      flex-wrap:wrap;\n",
              "      gap: 12px;\n",
              "    }\n",
              "\n",
              "    .colab-df-convert {\n",
              "      background-color: #E8F0FE;\n",
              "      border: none;\n",
              "      border-radius: 50%;\n",
              "      cursor: pointer;\n",
              "      display: none;\n",
              "      fill: #1967D2;\n",
              "      height: 32px;\n",
              "      padding: 0 0 0 0;\n",
              "      width: 32px;\n",
              "    }\n",
              "\n",
              "    .colab-df-convert:hover {\n",
              "      background-color: #E2EBFA;\n",
              "      box-shadow: 0px 1px 2px rgba(60, 64, 67, 0.3), 0px 1px 3px 1px rgba(60, 64, 67, 0.15);\n",
              "      fill: #174EA6;\n",
              "    }\n",
              "\n",
              "    [theme=dark] .colab-df-convert {\n",
              "      background-color: #3B4455;\n",
              "      fill: #D2E3FC;\n",
              "    }\n",
              "\n",
              "    [theme=dark] .colab-df-convert:hover {\n",
              "      background-color: #434B5C;\n",
              "      box-shadow: 0px 1px 3px 1px rgba(0, 0, 0, 0.15);\n",
              "      filter: drop-shadow(0px 1px 2px rgba(0, 0, 0, 0.3));\n",
              "      fill: #FFFFFF;\n",
              "    }\n",
              "  </style>\n",
              "\n",
              "      <script>\n",
              "        const buttonEl =\n",
              "          document.querySelector('#df-506d438d-4440-431e-9d8d-c445a3b0b5c9 button.colab-df-convert');\n",
              "        buttonEl.style.display =\n",
              "          google.colab.kernel.accessAllowed ? 'block' : 'none';\n",
              "\n",
              "        async function convertToInteractive(key) {\n",
              "          const element = document.querySelector('#df-506d438d-4440-431e-9d8d-c445a3b0b5c9');\n",
              "          const dataTable =\n",
              "            await google.colab.kernel.invokeFunction('convertToInteractive',\n",
              "                                                     [key], {});\n",
              "          if (!dataTable) return;\n",
              "\n",
              "          const docLinkHtml = 'Like what you see? Visit the ' +\n",
              "            '<a target=\"_blank\" href=https://colab.research.google.com/notebooks/data_table.ipynb>data table notebook</a>'\n",
              "            + ' to learn more about interactive tables.';\n",
              "          element.innerHTML = '';\n",
              "          dataTable['output_type'] = 'display_data';\n",
              "          await google.colab.output.renderOutput(dataTable, element);\n",
              "          const docLink = document.createElement('div');\n",
              "          docLink.innerHTML = docLinkHtml;\n",
              "          element.appendChild(docLink);\n",
              "        }\n",
              "      </script>\n",
              "    </div>\n",
              "  </div>\n",
              "  "
            ]
          },
          "metadata": {},
          "execution_count": 51
        }
      ]
    },
    {
      "cell_type": "code",
      "source": [
        "input = pd.DataFrame({'Venta_zona_2_lag2_avg3' : [82, 82, 82, 82, 82, 82],\n",
        "                      'exp_PBI_avg3_std' : [-1.138502]*6,\n",
        "                      'ind_prec_cons_lima_met_alim_ener_avg3_std' : [3.280410]*6,\n",
        "                      'flg_feia_avg3_std' : [-0.038088]*6\n",
        "                      },\n",
        "                      index = ['may','jun-22', 'jul-22', 'ago-22', 'sept-22', 'oct-22'])         \n",
        "\n",
        "                                          \n"
      ],
      "metadata": {
        "id": "zFxGgaK3npiZ"
      },
      "execution_count": null,
      "outputs": []
    },
    {
      "cell_type": "code",
      "source": [
        "fc_pred, se, conf  = model_fit.forecast(6, exog = input['Venta_zona_2_lag2_avg3'], alpha=0.05)\n",
        "input['venta_predicted'] = fc_pred\n",
        "fc_pred"
      ],
      "metadata": {
        "colab": {
          "base_uri": "https://localhost:8080/"
        },
        "id": "mtnIZZscnhiY",
        "outputId": "ee5d8b40-a718-4904-959e-63c5e889b108"
      },
      "execution_count": null,
      "outputs": [
        {
          "output_type": "execute_result",
          "data": {
            "text/plain": [
              "array([ 86.13312897,  89.96660192,  93.25468393,  96.83319291,\n",
              "       100.53758926, 104.40026435])"
            ]
          },
          "metadata": {},
          "execution_count": 54
        }
      ]
    },
    {
      "cell_type": "code",
      "source": [
        "\n",
        "input['macro_pred'] = 42.7099 +\\\n",
        "                         5.9631*input.exp_PBI_avg3_std +\\\n",
        "                         15.6759*input.ind_prec_cons_lima_met_alim_ener_avg3_std +\\\n",
        "                         3.8777*input.flg_feia_avg3_std\n",
        "                         \n",
        "#input['venta_predicted_final'] = 0.1938*input.venta_predicted + 0.9125*input.macro_pred - 6.1913\n"
      ],
      "metadata": {
        "id": "T-QXUMc1o5iD"
      },
      "execution_count": null,
      "outputs": []
    },
    {
      "cell_type": "code",
      "source": [
        "fc_pred, se, conf  = model_fit_ff.forecast(6, exog = input[['venta_predicted', 'macro_pred']], alpha=0.05)\n",
        "input['venta_predicted_final'] = fc_pred\n",
        "input['venta_predicted_final']\n",
        "fc_pred"
      ],
      "metadata": {
        "colab": {
          "base_uri": "https://localhost:8080/"
        },
        "id": "QeE52zEn-z2e",
        "outputId": "dab17067-bc41-4589-8662-c2c331ef83cf"
      },
      "execution_count": null,
      "outputs": [
        {
          "output_type": "execute_result",
          "data": {
            "text/plain": [
              "array([82.2143376 , 79.19621784, 75.83204487, 68.71035233, 55.47140704,\n",
              "       37.67628461])"
            ]
          },
          "metadata": {},
          "execution_count": 56
        }
      ]
    },
    {
      "cell_type": "code",
      "source": [
        "input['macro_pred']"
      ],
      "metadata": {
        "id": "eTIqecWm88yT",
        "colab": {
          "base_uri": "https://localhost:8080/"
        },
        "outputId": "6d9cc059-b936-4748-96d9-6559b75809ed"
      },
      "execution_count": null,
      "outputs": [
        {
          "output_type": "execute_result",
          "data": {
            "text/plain": [
              "may        87.196584\n",
              "jun-22     87.196584\n",
              "jul-22     87.196584\n",
              "ago-22     87.196584\n",
              "sept-22    87.196584\n",
              "oct-22     87.196584\n",
              "Name: macro_pred, dtype: float64"
            ]
          },
          "metadata": {},
          "execution_count": 58
        }
      ]
    },
    {
      "cell_type": "markdown",
      "source": [
        ""
      ],
      "metadata": {
        "id": "zSiZlIsnpO9Y"
      }
    }
  ]
}