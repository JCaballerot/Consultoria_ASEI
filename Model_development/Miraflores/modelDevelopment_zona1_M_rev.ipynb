{
  "nbformat": 4,
  "nbformat_minor": 0,
  "metadata": {
    "colab": {
      "name": "modelDevelopment_zona1_M_rev.ipynb",
      "provenance": [],
      "authorship_tag": "ABX9TyPQJpZ/ISRVNva7FzYkcYr3",
      "include_colab_link": true
    },
    "kernelspec": {
      "name": "python3",
      "display_name": "Python 3"
    },
    "language_info": {
      "name": "python"
    }
  },
  "cells": [
    {
      "cell_type": "markdown",
      "metadata": {
        "id": "view-in-github",
        "colab_type": "text"
      },
      "source": [
        "<a href=\"https://colab.research.google.com/github/JCaballerot/Consultoria_ASEI/blob/main/Model_development/Miraflores/modelDevelopment_zona1_M_rev.ipynb\" target=\"_parent\"><img src=\"https://colab.research.google.com/assets/colab-badge.svg\" alt=\"Open In Colab\"/></a>"
      ]
    },
    {
      "cell_type": "markdown",
      "source": [
        "\n",
        "<h1 align=center><font size = 5>Forecasting Miraflores Zona 1\n",
        "</font></h1>\n",
        "\n",
        "---"
      ],
      "metadata": {
        "id": "IVn5Glwa0O5N"
      }
    },
    {
      "cell_type": "markdown",
      "source": [
        "# Librerias\n",
        "\n"
      ],
      "metadata": {
        "id": "xO2RBVEFr9tN"
      }
    },
    {
      "cell_type": "markdown",
      "source": [
        "Cargamos las librerías que utilizaremos en el proyecto"
      ],
      "metadata": {
        "id": "fmv7x-WEwv2n"
      }
    },
    {
      "cell_type": "code",
      "execution_count": null,
      "metadata": {
        "id": "Q11_t7hjr3fD"
      },
      "outputs": [],
      "source": [
        "import pandas as pd\n",
        "\n",
        "import warnings                                  \n",
        "warnings.filterwarnings('ignore')\n",
        "\n",
        "import numpy as np                               \n",
        "import pandas as pd                              \n",
        "import matplotlib.pyplot as plt                  \n",
        "import seaborn as sns                            \n",
        "\n",
        "from sklearn.metrics import *"
      ]
    },
    {
      "cell_type": "code",
      "source": [
        "def plotMovingAverage(series, window, plot_intervals=False, scale=1.96, plot_anomalies=False):\n",
        "\n",
        "    \"\"\"\n",
        "        series - dataframe with timeseries\n",
        "        window - rolling window size \n",
        "        plot_intervals - show confidence intervals\n",
        "        plot_anomalies - show anomalies \n",
        "\n",
        "    \"\"\"\n",
        "    rolling_mean = series.rolling(window=window).mean()\n",
        "\n",
        "    plt.figure(figsize=(15,5))\n",
        "    plt.title(\"Moving average\\n window size = {}\".format(window))\n",
        "    plt.plot(rolling_mean, \"g\", label=\"Rolling mean trend\",  color='red')\n",
        "\n",
        "    # Plot confidence intervals for smoothed values\n",
        "    if plot_intervals:\n",
        "        mae = mean_absolute_error(series[window:], rolling_mean[window:])\n",
        "        deviation = np.std(series[window:] - rolling_mean[window:])\n",
        "        lower_bond = rolling_mean - (mae + scale * deviation)\n",
        "        upper_bond = rolling_mean + (mae + scale * deviation)\n",
        "        plt.plot(upper_bond, \"r--\", label=\"Upper Bond / Lower Bond\")\n",
        "        plt.plot(lower_bond, \"r--\")\n",
        "        \n",
        "        # Having the intervals, find abnormal values\n",
        "        if plot_anomalies:\n",
        "            anomalies = pd.DataFrame(index=series.index, columns=series.columns)\n",
        "            anomalies[series<lower_bond] = series[series<lower_bond]\n",
        "            anomalies[series>upper_bond] = series[series>upper_bond]\n",
        "            plt.plot(anomalies, \"ro\", markersize=10)\n",
        "        \n",
        "    plt.plot(series[window:], label=\"Actual values\")\n",
        "    plt.legend(loc=\"upper left\")\n",
        "    plt.grid(True)\n",
        "    plt.xticks(rotation=90)"
      ],
      "metadata": {
        "id": "bJ0O_ADRtF1D"
      },
      "execution_count": null,
      "outputs": []
    },
    {
      "cell_type": "markdown",
      "source": [
        "# Data"
      ],
      "metadata": {
        "id": "ehWhNPfVsKFl"
      }
    },
    {
      "cell_type": "markdown",
      "source": [
        "Importamos la información desde un archivo csv cargado en el file temporal y nos quedamos con los datos de la zona 2"
      ],
      "metadata": {
        "id": "6YGbfWavw0hC"
      }
    },
    {
      "cell_type": "code",
      "source": [
        "target = 'Venta_zona_1'\n",
        "\n",
        "pddf = pd.read_csv('datos_miraflores.csv',delimiter=',', index_col=['codmes'], parse_dates=['codmes']).fillna(0)\n",
        "pddf = pddf[[target]]\n",
        "\n",
        "pddf[target+'_lag2'] = pddf[target].shift(2)\n",
        "pddf[target+'_lag3'] = pddf[target].shift(3)\n"
      ],
      "metadata": {
        "id": "EB04t1HTsFVK"
      },
      "execution_count": null,
      "outputs": []
    },
    {
      "cell_type": "code",
      "source": [
        "macro = pd.read_csv('macros_corregido.csv', index_col=['codmes'], parse_dates=['codmes']).drop(columns=['imp_mater_const'])\n",
        "variables_macro = macro.columns.tolist()\n",
        "macro[variables_macro] = macro[variables_macro].shift(3)\n"
      ],
      "metadata": {
        "id": "hGMDtOnyPe2s"
      },
      "execution_count": null,
      "outputs": []
    },
    {
      "cell_type": "code",
      "source": [
        "asei = pd.read_csv('variables_asei_new.csv', delimiter = ';', index_col=['codmes'], parse_dates=['codmes'])\n",
        "variables_asei = asei.columns.tolist()\n",
        "asei[variables_asei] = asei[variables_asei].shift(2)"
      ],
      "metadata": {
        "id": "4QoNKpoRi1Tm"
      },
      "execution_count": null,
      "outputs": []
    },
    {
      "cell_type": "code",
      "source": [
        "\n",
        "pddf2 = pd.merge(pddf, macro, on = 'codmes', how='left').copy()\n",
        "pddf2 = pd.merge(pddf2, asei, on = 'codmes', how='left')\n",
        "\n",
        "variables = variables_macro + variables_asei + [target+'_lag2', target+'_lag3']\n"
      ],
      "metadata": {
        "id": "sRvQT93-PkXc"
      },
      "execution_count": null,
      "outputs": []
    },
    {
      "cell_type": "code",
      "source": [
        "pddfRes = pddf2.copy()\n",
        "\n",
        "pddfRes[[x + '_avg3' for x in variables]] = pddfRes[variables].rolling(3, min_periods = 3).mean()\n",
        "pddfRes[[x + '_avg6' for x in variables]] = pddfRes[variables].rolling(6, min_periods = 6).mean()\n",
        "\n",
        "pddfRes = pddfRes.iloc[8:]\n"
      ],
      "metadata": {
        "id": "5drxxUodV7Kx"
      },
      "execution_count": null,
      "outputs": []
    },
    {
      "cell_type": "code",
      "source": [
        "for x in variables:\n",
        "  pddfRes[x + '_rat3to6'] = pddfRes[x + '_avg3']/pddfRes[x + '_avg6']\n",
        "  "
      ],
      "metadata": {
        "id": "KsBW-KibY-OQ"
      },
      "execution_count": null,
      "outputs": []
    },
    {
      "cell_type": "code",
      "source": [
        "\n",
        "variables_f = variables_macro +\\\n",
        "              variables_asei +\\\n",
        "              [target+'_lag2', target+'_lag3'] +\\\n",
        "              [x + '_avg3' for x in variables] +\\\n",
        "              [x + '_avg6' for x in variables] +\\\n",
        "              [x + '_rat3to6' for x in variables]\n"
      ],
      "metadata": {
        "id": "ozekvxpSXpLl"
      },
      "execution_count": null,
      "outputs": []
    },
    {
      "cell_type": "code",
      "source": [
        "pddfRes['intercept'] = 1"
      ],
      "metadata": {
        "id": "cG0MGJkQi8pX"
      },
      "execution_count": null,
      "outputs": []
    },
    {
      "cell_type": "code",
      "source": [
        "test_size = 2\n",
        "\n",
        "data = pddfRes.copy().dropna()\n",
        "X_train = pddfRes[:-test_size].dropna()\n",
        "X_test  = pddfRes[-test_size:].dropna()\n"
      ],
      "metadata": {
        "id": "r5toDAY8ul8i"
      },
      "execution_count": null,
      "outputs": []
    },
    {
      "cell_type": "code",
      "source": [
        "# Estandarización\n",
        "\n",
        "X_train[[x + '_std' for x in variables_f]] = (X_train[variables_f] - X_train[variables_f].mean())/X_train[variables_f].std()\n",
        "X_test[[x + '_std'  for x in variables_f]] = (X_test[variables_f]  - X_train[variables_f].mean())/X_train[variables_f].std()\n",
        "data[[x + '_std'    for x in variables_f]] = (data[variables_f]    - X_train[variables_f].mean())/X_train[variables_f].std()\n",
        "\n"
      ],
      "metadata": {
        "id": "lySUEA2MveWP"
      },
      "execution_count": null,
      "outputs": []
    },
    {
      "cell_type": "code",
      "source": [
        "X_train[['precio_oferta_zon1_rat3to6', 'exp_PBI_avg3', 'flg_feia_avg3']].mean()"
      ],
      "metadata": {
        "colab": {
          "base_uri": "https://localhost:8080/"
        },
        "id": "aOrhRhBGiJro",
        "outputId": "19d7c789-6a92-4028-d4c7-5ec6a4d5c196"
      },
      "execution_count": null,
      "outputs": [
        {
          "output_type": "execute_result",
          "data": {
            "text/plain": [
              "precio_oferta_zon1_rat3to6    1.005935\n",
              "exp_PBI_avg3                  0.045776\n",
              "flg_feia_avg3                 0.340741\n",
              "dtype: float64"
            ]
          },
          "metadata": {},
          "execution_count": 13
        }
      ]
    },
    {
      "cell_type": "code",
      "source": [
        "X_train[['precio_oferta_zon1_rat3to6', 'exp_PBI_avg3', 'flg_feia_avg3']].std()"
      ],
      "metadata": {
        "colab": {
          "base_uri": "https://localhost:8080/"
        },
        "id": "XCVOQDksiN0I",
        "outputId": "1e5785a4-08d2-4a4a-b458-a282301c9159"
      },
      "execution_count": null,
      "outputs": [
        {
          "output_type": "execute_result",
          "data": {
            "text/plain": [
              "precio_oferta_zon1_rat3to6    0.008043\n",
              "exp_PBI_avg3                  0.016491\n",
              "flg_feia_avg3                 0.194481\n",
              "dtype: float64"
            ]
          },
          "metadata": {},
          "execution_count": 14
        }
      ]
    },
    {
      "cell_type": "markdown",
      "source": [
        "# Forecasting"
      ],
      "metadata": {
        "id": "c39Drzwvh8Nu"
      }
    },
    {
      "cell_type": "markdown",
      "source": [
        "### Exploracion"
      ],
      "metadata": {
        "id": "SFdpMnUJK7SQ"
      }
    },
    {
      "cell_type": "markdown",
      "source": [
        "Muestreamos la data en train y test bajo metodología OOT"
      ],
      "metadata": {
        "id": "MmAh_jjpw-5L"
      }
    },
    {
      "cell_type": "code",
      "source": [
        "plotMovingAverage(data[target], 6)"
      ],
      "metadata": {
        "id": "DGQ8sqoUtgKj"
      },
      "execution_count": null,
      "outputs": []
    },
    {
      "cell_type": "code",
      "source": [
        "plotMovingAverage(data[target], 6, plot_intervals=True, scale=1.64, plot_anomalies=False)"
      ],
      "metadata": {
        "id": "LmGMfjvgsxQ6"
      },
      "execution_count": null,
      "outputs": []
    },
    {
      "cell_type": "code",
      "source": [
        "from statsmodels.tsa.stattools import adfuller\n",
        "from numpy import log\n",
        "\n",
        "result = adfuller(X_train[target].dropna())\n",
        "print('ADF Statistic: %f' % result[0])\n",
        "print('p-value: %f' % result[1])"
      ],
      "metadata": {
        "id": "sd3XB2B4y5Pi"
      },
      "execution_count": null,
      "outputs": []
    },
    {
      "cell_type": "markdown",
      "source": [
        "Dado que el valor p es mayor que el nivel de significancia (0,05), diferenciemos las series y veamos cómo se ve el gráfico de autocorrelación."
      ],
      "metadata": {
        "id": "-6jKRpUZbR3E"
      }
    },
    {
      "cell_type": "code",
      "source": [
        "from statsmodels.graphics.tsaplots import plot_acf, plot_pacf\n",
        "import matplotlib.pyplot as plt\n",
        "plt.rcParams.update({'figure.figsize':(9,7), 'figure.dpi':120})\n",
        "\n",
        "\n",
        "# Original Series\n",
        "fig, axes = plt.subplots(3, 2, sharex=True)\n",
        "axes[0, 0].plot(X_train[target]); axes[0, 0].set_title('Original Series')\n",
        "plot_acf(X_train[target], ax=axes[0, 1])\n",
        "\n",
        "# 1st Differencing\n",
        "axes[1, 0].plot(X_train[target].diff()); axes[1, 0].set_title('1st Order Differencing')\n",
        "plot_acf(X_train[target].diff().dropna(), ax=axes[1, 1])\n",
        "\n",
        "# 2nd Differencing\n",
        "axes[2, 0].plot(X_train[target].diff().diff()); axes[2, 0].set_title('2nd Order Differencing')\n",
        "plot_acf(X_train[target].diff().diff().dropna(), ax=axes[2, 1])\n",
        "\n",
        "plt.xticks(rotation=90)\n",
        "plt.show()"
      ],
      "metadata": {
        "id": "Wp8rwf7pbUOt"
      },
      "execution_count": null,
      "outputs": []
    },
    {
      "cell_type": "markdown",
      "source": [
        "Por los datos anteriores, podemos ver que la serie de tiempo alcanza la estacionariedad con dos órdenes de diferenciación."
      ],
      "metadata": {
        "id": "Kk8cEdtycESp"
      }
    },
    {
      "cell_type": "code",
      "source": [
        "# PACF plot of 1st differenced series\n",
        "plt.rcParams.update({'figure.figsize':(9,3), 'figure.dpi':120})\n",
        "\n",
        "fig, axes = plt.subplots(1, 2, sharex=True)\n",
        "axes[0].plot(X_train[target].diff()); axes[0].set_title('1st Differencing')\n",
        "axes[1].set(ylim=(0,5))\n",
        "plot_pacf(X_train[target].diff().dropna(), ax=axes[1])\n",
        "\n",
        "plt.xticks(rotation=90)\n",
        "plt.show()"
      ],
      "metadata": {
        "id": "waUyHRZ6cDPq"
      },
      "execution_count": null,
      "outputs": []
    },
    {
      "cell_type": "markdown",
      "source": [
        "Podemos ver que el retraso 1 de PACF es bastante significativo ya que está muy por encima de la línea de significancia. Entonces, fijaremos el valor de p como 1."
      ],
      "metadata": {
        "id": "c7vR1WjQJxNf"
      }
    },
    {
      "cell_type": "markdown",
      "source": [
        "### MA (q) "
      ],
      "metadata": {
        "id": "qtYLRSz2LyGl"
      }
    },
    {
      "cell_type": "code",
      "source": [
        "from statsmodels.graphics.tsaplots import plot_acf, plot_pacf\n",
        "plt.rcParams.update({'figure.figsize':(9,3), 'figure.dpi':120})\n",
        "\n",
        "fig, axes = plt.subplots(1, 2, sharex=True)\n",
        "axes[0].plot(X_train[target].diff()); axes[0].set_title('1st Differencing')\n",
        "axes[1].set(ylim=(0,1.2))\n",
        "plot_acf(X_train[target].diff().dropna(), ax=axes[1])\n",
        "plt.xticks(rotation=90)\n",
        "plt.show()\n"
      ],
      "metadata": {
        "id": "AIPrZWtgKoGc"
      },
      "execution_count": null,
      "outputs": []
    },
    {
      "cell_type": "markdown",
      "source": [
        "Podemos ver que un 1 retraso están muy por encima de la línea de significación. Entonces, fijaremos q como 1. Si hay alguna duda, iremos con el modelo más simple que explica suficientemente la Y"
      ],
      "metadata": {
        "id": "SFLPUMXEK4uq"
      }
    },
    {
      "cell_type": "markdown",
      "source": [
        "### Arima"
      ],
      "metadata": {
        "id": "sF3Nzhu_GwTN"
      }
    },
    {
      "cell_type": "markdown",
      "source": [
        "Ahora, hemos determinado los valores de p, d y q. Disponemos de todo lo necesario para adaptarse al modelo ARIMA. Usaremos la implementación ARIMA() en el paquete statsmodels.\n",
        "(p,d,q)"
      ],
      "metadata": {
        "id": "digPsRpioj96"
      }
    },
    {
      "cell_type": "code",
      "source": [
        "# Plot\n",
        "fig, axes = plt.subplots(2, 1, figsize=(10,5), dpi=100, sharex=True)\n",
        "\n",
        "# Usual Differencing\n",
        "axes[0].plot(X_train[target], label='Original Series')\n",
        "axes[0].plot(X_train[target].diff(1), label='Usual Differencing')\n",
        "axes[0].set_title('Usual Differencing')\n",
        "axes[0].legend(loc='upper left', fontsize=10)\n",
        "\n",
        "\n",
        "# Seasonal Differencing\n",
        "axes[1].plot(X_train[target], label='Original Series')\n",
        "axes[1].plot(X_train[target].diff(12), label='Seasonal Differencing', color='green')\n",
        "axes[1].set_title('Seasonal Differencing')\n",
        "plt.legend(loc='upper left', fontsize=10)\n",
        "plt.suptitle('Ventas Zona 3', fontsize=16)\n",
        "plt.xticks(rotation=90)\n",
        "plt.show()"
      ],
      "metadata": {
        "id": "1fbRfc3fqt-2"
      },
      "execution_count": null,
      "outputs": []
    },
    {
      "cell_type": "code",
      "source": [
        "from statsmodels.tsa.arima_model import ARIMA\n",
        "\n",
        "features = [target + '_lag2_avg3']\n",
        "\n",
        "# 2,1,1 ARIMA Model\n",
        "model = ARIMA(endog = X_train[target], \n",
        "              exog = X_train[features],  \n",
        "              order=(1,2,1))\n",
        "\n",
        "model_fit = model.fit()\n",
        "print(model_fit.summary())"
      ],
      "metadata": {
        "colab": {
          "base_uri": "https://localhost:8080/"
        },
        "id": "yP7aBQS2jU1q",
        "outputId": "782b0cc0-d62e-4939-ab47-bbac265acf33"
      },
      "execution_count": null,
      "outputs": [
        {
          "output_type": "stream",
          "name": "stderr",
          "text": [
            "/usr/local/lib/python3.7/dist-packages/statsmodels/tsa/base/tsa_model.py:215: ValueWarning: An unsupported index was provided and will be ignored when e.g. forecasting.\n",
            "  ' ignored when e.g. forecasting.', ValueWarning)\n",
            "/usr/local/lib/python3.7/dist-packages/statsmodels/tsa/base/tsa_model.py:215: ValueWarning: An unsupported index was provided and will be ignored when e.g. forecasting.\n",
            "  ' ignored when e.g. forecasting.', ValueWarning)\n"
          ]
        },
        {
          "output_type": "stream",
          "name": "stdout",
          "text": [
            "                             ARIMA Model Results                              \n",
            "==============================================================================\n",
            "Dep. Variable:        D2.Venta_zona_1   No. Observations:                   43\n",
            "Model:                 ARIMA(1, 2, 1)   Log Likelihood                -143.792\n",
            "Method:                       css-mle   S.D. of innovations              6.517\n",
            "Date:                Thu, 21 Jul 2022   AIC                            297.585\n",
            "Time:                        16:18:02   BIC                            306.391\n",
            "Sample:                             2   HQIC                           300.832\n",
            "                                                                              \n",
            "==========================================================================================\n",
            "                             coef    std err          z      P>|z|      [0.025      0.975]\n",
            "------------------------------------------------------------------------------------------\n",
            "const                      1.0562      1.257      0.840      0.406      -1.408       3.520\n",
            "Venta_zona_1_lag2_avg3    -0.0840      0.102     -0.824      0.415      -0.284       0.116\n",
            "ar.L1.D2.Venta_zona_1     -0.2812      0.148     -1.894      0.066      -0.572       0.010\n",
            "ma.L1.D2.Venta_zona_1     -1.0000      0.064    -15.505      0.000      -1.126      -0.874\n",
            "                                    Roots                                    \n",
            "=============================================================================\n",
            "                  Real          Imaginary           Modulus         Frequency\n",
            "-----------------------------------------------------------------------------\n",
            "AR.1           -3.5561           +0.0000j            3.5561            0.5000\n",
            "MA.1            1.0000           +0.0000j            1.0000            0.0000\n",
            "-----------------------------------------------------------------------------\n"
          ]
        }
      ]
    },
    {
      "cell_type": "code",
      "source": [
        "\n",
        "import pickle\n",
        "pickle.dump(model_fit, open(\"./arima_mz1.ml\", 'wb'))\n"
      ],
      "metadata": {
        "id": "SU9vHKLIjV6m"
      },
      "execution_count": null,
      "outputs": []
    },
    {
      "cell_type": "code",
      "source": [
        "\n",
        "fc, se, conf  = model_fit.forecast(test_size, exog = X_test[features], alpha=0.05)\n",
        "model_res = model_fit.predict(start = X_train.index[2], \n",
        "                                end = X_train.index[-1], dynamic=False, typ = 'levels')\n",
        "\n",
        "data_res = data.copy()\n",
        "data_res['venta_predicted'] = model_res\n",
        "data_res.iloc[-test_size:]['venta_predicted'] = fc\n",
        "\n",
        "sns.lineplot(data = data_res[[target, 'venta_predicted']])\n"
      ],
      "metadata": {
        "colab": {
          "base_uri": "https://localhost:8080/",
          "height": 296
        },
        "id": "vgMQsSHIvka6",
        "outputId": "7e7f00d9-d196-4c1a-b171-c13eaaeb95ac"
      },
      "execution_count": null,
      "outputs": [
        {
          "output_type": "execute_result",
          "data": {
            "text/plain": [
              "<matplotlib.axes._subplots.AxesSubplot at 0x7f7ccdff1e10>"
            ]
          },
          "metadata": {},
          "execution_count": 20
        },
        {
          "output_type": "display_data",
          "data": {
            "text/plain": [
              "<Figure size 432x288 with 1 Axes>"
            ],
            "image/png": "[encoded data removed]"
          },
          "metadata": {
            "needs_background": "light"
          }
        }
      ]
    },
    {
      "cell_type": "code",
      "source": [
        "# Plot residual errors\n",
        "residuals = pd.DataFrame(model_fit.resid)\n",
        "fig, ax = plt.subplots(1,2)\n",
        "residuals.plot(title=\"Residuals\", ax=ax[0])\n",
        "residuals.plot(kind='kde', title='Density', ax=ax[1])\n",
        "plt.show()"
      ],
      "metadata": {
        "id": "wrHMnzY2totP"
      },
      "execution_count": null,
      "outputs": []
    },
    {
      "cell_type": "markdown",
      "source": [
        "Los errores residuales parecen correctos con una media cercana a cero y una varianza uniforme. Grafiquemos los valores reales contra los valores ajustados usando plot_predict()."
      ],
      "metadata": {
        "id": "msO1RWa3t1JN"
      }
    },
    {
      "cell_type": "code",
      "source": [
        "pd.set_option('display.max_rows', 500)"
      ],
      "metadata": {
        "id": "u2eru0vha5Kv"
      },
      "execution_count": null,
      "outputs": []
    },
    {
      "cell_type": "code",
      "source": [
        "data_res[['venta_predicted',target]]"
      ],
      "metadata": {
        "id": "00xoxP7B_fEw"
      },
      "execution_count": null,
      "outputs": []
    },
    {
      "cell_type": "code",
      "source": [
        "data_res[['venta_predicted',target]].to_csv('results_JM_zona2.csv', index=0)"
      ],
      "metadata": {
        "id": "awzlSvLia729"
      },
      "execution_count": null,
      "outputs": []
    },
    {
      "cell_type": "code",
      "source": [
        "\n",
        "data = data_res.copy().dropna()\n",
        "X_train = data_res[:-test_size].dropna()\n",
        "X_test  = data_res[-test_size:].dropna()\n",
        "\n"
      ],
      "metadata": {
        "id": "cvQQWFp_hakY"
      },
      "execution_count": null,
      "outputs": []
    },
    {
      "cell_type": "code",
      "source": [
        "X_test[['venta_predicted', target]]"
      ],
      "metadata": {
        "id": "PrHUJV_phlQF"
      },
      "execution_count": null,
      "outputs": []
    },
    {
      "cell_type": "code",
      "source": [
        "X_test[['venta_predicted', target]].corr()**2"
      ],
      "metadata": {
        "id": "Wt6n7s2_hB5l",
        "colab": {
          "base_uri": "https://localhost:8080/",
          "height": 112
        },
        "outputId": "b676c603-104b-4c1f-da87-7d1d92b5824e"
      },
      "execution_count": null,
      "outputs": [
        {
          "output_type": "execute_result",
          "data": {
            "text/plain": [
              "                 venta_predicted  Venta_zona_2\n",
              "venta_predicted              1.0           1.0\n",
              "Venta_zona_2                 1.0           1.0"
            ],
            "text/html": [
              "\n",
              "  <div id=\"df-e0606805-88ec-4085-b58b-c7dc3e8c62f2\">\n",
              "    <div class=\"colab-df-container\">\n",
              "      <div>\n",
              "<style scoped>\n",
              "    .dataframe tbody tr th:only-of-type {\n",
              "        vertical-align: middle;\n",
              "    }\n",
              "\n",
              "    .dataframe tbody tr th {\n",
              "        vertical-align: top;\n",
              "    }\n",
              "\n",
              "    .dataframe thead th {\n",
              "        text-align: right;\n",
              "    }\n",
              "</style>\n",
              "<table border=\"1\" class=\"dataframe\">\n",
              "  <thead>\n",
              "    <tr style=\"text-align: right;\">\n",
              "      <th></th>\n",
              "      <th>venta_predicted</th>\n",
              "      <th>Venta_zona_2</th>\n",
              "    </tr>\n",
              "  </thead>\n",
              "  <tbody>\n",
              "    <tr>\n",
              "      <th>venta_predicted</th>\n",
              "      <td>1.0</td>\n",
              "      <td>1.0</td>\n",
              "    </tr>\n",
              "    <tr>\n",
              "      <th>Venta_zona_2</th>\n",
              "      <td>1.0</td>\n",
              "      <td>1.0</td>\n",
              "    </tr>\n",
              "  </tbody>\n",
              "</table>\n",
              "</div>\n",
              "      <button class=\"colab-df-convert\" onclick=\"convertToInteractive('df-e0606805-88ec-4085-b58b-c7dc3e8c62f2')\"\n",
              "              title=\"Convert this dataframe to an interactive table.\"\n",
              "              style=\"display:none;\">\n",
              "        \n",
              "  <svg xmlns=\"http://www.w3.org/2000/svg\" height=\"24px\"viewBox=\"0 0 24 24\"\n",
              "       width=\"24px\">\n",
              "    <path d=\"M0 0h24v24H0V0z\" fill=\"none\"/>\n",
              "    <path d=\"M18.56 5.44l.94 2.06.94-2.06 2.06-.94-2.06-.94-.94-2.06-.94 2.06-2.06.94zm-11 1L8.5 8.5l.94-2.06 2.06-.94-2.06-.94L8.5 2.5l-.94 2.06-2.06.94zm10 10l.94 2.06.94-2.06 2.06-.94-2.06-.94-.94-2.06-.94 2.06-2.06.94z\"/><path d=\"M17.41 7.96l-1.37-1.37c-.4-.4-.92-.59-1.43-.59-.52 0-1.04.2-1.43.59L10.3 9.45l-7.72 7.72c-.78.78-.78 2.05 0 2.83L4 21.41c.39.39.9.59 1.41.59.51 0 1.02-.2 1.41-.59l7.78-7.78 2.81-2.81c.8-.78.8-2.07 0-2.86zM5.41 20L4 18.59l7.72-7.72 1.47 1.35L5.41 20z\"/>\n",
              "  </svg>\n",
              "      </button>\n",
              "      \n",
              "  <style>\n",
              "    .colab-df-container {\n",
              "      display:flex;\n",
              "      flex-wrap:wrap;\n",
              "      gap: 12px;\n",
              "    }\n",
              "\n",
              "    .colab-df-convert {\n",
              "      background-color: #E8F0FE;\n",
              "      border: none;\n",
              "      border-radius: 50%;\n",
              "      cursor: pointer;\n",
              "      display: none;\n",
              "      fill: #1967D2;\n",
              "      height: 32px;\n",
              "      padding: 0 0 0 0;\n",
              "      width: 32px;\n",
              "    }\n",
              "\n",
              "    .colab-df-convert:hover {\n",
              "      background-color: #E2EBFA;\n",
              "      box-shadow: 0px 1px 2px rgba(60, 64, 67, 0.3), 0px 1px 3px 1px rgba(60, 64, 67, 0.15);\n",
              "      fill: #174EA6;\n",
              "    }\n",
              "\n",
              "    [theme=dark] .colab-df-convert {\n",
              "      background-color: #3B4455;\n",
              "      fill: #D2E3FC;\n",
              "    }\n",
              "\n",
              "    [theme=dark] .colab-df-convert:hover {\n",
              "      background-color: #434B5C;\n",
              "      box-shadow: 0px 1px 3px 1px rgba(0, 0, 0, 0.15);\n",
              "      filter: drop-shadow(0px 1px 2px rgba(0, 0, 0, 0.3));\n",
              "      fill: #FFFFFF;\n",
              "    }\n",
              "  </style>\n",
              "\n",
              "      <script>\n",
              "        const buttonEl =\n",
              "          document.querySelector('#df-e0606805-88ec-4085-b58b-c7dc3e8c62f2 button.colab-df-convert');\n",
              "        buttonEl.style.display =\n",
              "          google.colab.kernel.accessAllowed ? 'block' : 'none';\n",
              "\n",
              "        async function convertToInteractive(key) {\n",
              "          const element = document.querySelector('#df-e0606805-88ec-4085-b58b-c7dc3e8c62f2');\n",
              "          const dataTable =\n",
              "            await google.colab.kernel.invokeFunction('convertToInteractive',\n",
              "                                                     [key], {});\n",
              "          if (!dataTable) return;\n",
              "\n",
              "          const docLinkHtml = 'Like what you see? Visit the ' +\n",
              "            '<a target=\"_blank\" href=https://colab.research.google.com/notebooks/data_table.ipynb>data table notebook</a>'\n",
              "            + ' to learn more about interactive tables.';\n",
              "          element.innerHTML = '';\n",
              "          dataTable['output_type'] = 'display_data';\n",
              "          await google.colab.output.renderOutput(dataTable, element);\n",
              "          const docLink = document.createElement('div');\n",
              "          docLink.innerHTML = docLinkHtml;\n",
              "          element.appendChild(docLink);\n",
              "        }\n",
              "      </script>\n",
              "    </div>\n",
              "  </div>\n",
              "  "
            ]
          },
          "metadata": {},
          "execution_count": 27
        }
      ]
    },
    {
      "cell_type": "markdown",
      "source": [
        "# Inputs Regresión"
      ],
      "metadata": {
        "id": "-aJhFXWyarhB"
      }
    },
    {
      "cell_type": "code",
      "source": [
        "correlations = pd.DataFrame()\n",
        "\n",
        "for col in variables_f:\n",
        "  data_temp = X_train[[target, col]]\n",
        "  correlation = data_temp[col].corr(data_temp[target])\n",
        "  temp = pd.DataFrame({'target': [target],'variable': [col], 'correlacion' : [correlation]})\n",
        "  correlations = correlations.append(temp)\n",
        "\n",
        "correlations['correlacion_abs'] = correlations.correlacion.apply(lambda x: abs(x))\n",
        "correlations['r2'] = correlations.correlacion.apply(lambda x: x**2)\n",
        "\n",
        "correlations.sort_values(by = 'correlacion_abs', ascending = False, inplace = True)\n"
      ],
      "metadata": {
        "id": "aX2Q9WPLatzY"
      },
      "execution_count": null,
      "outputs": []
    },
    {
      "cell_type": "code",
      "source": [
        "correlations.head(50)"
      ],
      "metadata": {
        "id": "9wHR7RLjboki"
      },
      "execution_count": null,
      "outputs": []
    },
    {
      "cell_type": "markdown",
      "source": [
        "# Regresion"
      ],
      "metadata": {
        "id": "Xb8Iu2Mkx_Bw"
      }
    },
    {
      "cell_type": "code",
      "source": [
        "pd.set_option('display.max_rows', None)\n",
        "\n",
        "macro = pd.read_csv('macros_corregido.csv', index_col=['codmes'], parse_dates=['codmes']).drop(columns=['imp_mater_const'])\n",
        "\n",
        "macro[['exp_PBI', \n",
        "       'ind_prec_cons_lima_met_alim_ener', \n",
        "       'ind_prec_inf_suby_bienes', \n",
        "       'ind_prec_inm',\n",
        "       'prod_ener_lima',\n",
        "       'var_porc_demanda_interna']]\n",
        "\n",
        "       "
      ],
      "metadata": {
        "id": "SSBBKt0594hb"
      },
      "execution_count": null,
      "outputs": []
    },
    {
      "cell_type": "code",
      "source": [
        "import statsmodels.api as sm\n",
        "\n",
        "features = ['intercept',  'precio_oferta_zon1_rat3to6_std', 'exp_PBI_avg3_std',\n",
        "            'flg_feia_avg3_std']\n",
        "\n",
        "# Fit and summarize OLS model\n",
        "mod = sm.OLS(X_train[target], \n",
        "             X_train[features])\n",
        "\n",
        "res = mod.fit()\n",
        "print(res.summary())"
      ],
      "metadata": {
        "colab": {
          "base_uri": "https://localhost:8080/"
        },
        "id": "Qx0Nlwcq8NA1",
        "outputId": "2a061b95-33bc-4724-9651-68d05533b3df"
      },
      "execution_count": null,
      "outputs": [
        {
          "output_type": "stream",
          "name": "stdout",
          "text": [
            "                            OLS Regression Results                            \n",
            "==============================================================================\n",
            "Dep. Variable:           Venta_zona_1   R-squared:                       0.307\n",
            "Model:                            OLS   Adj. R-squared:                  0.253\n",
            "Method:                 Least Squares   F-statistic:                     5.751\n",
            "Date:                Thu, 21 Jul 2022   Prob (F-statistic):            0.00234\n",
            "Time:                        17:12:43   Log-Likelihood:                -129.54\n",
            "No. Observations:                  43   AIC:                             267.1\n",
            "Df Residuals:                      39   BIC:                             274.1\n",
            "Df Model:                           3                                         \n",
            "Covariance Type:            nonrobust                                         \n",
            "==================================================================================================\n",
            "                                     coef    std err          t      P>|t|      [0.025      0.975]\n",
            "--------------------------------------------------------------------------------------------------\n",
            "intercept                         12.7242      0.789     16.135      0.000      11.129      14.319\n",
            "precio_oferta_zon1_rat3to6_std    -2.2126      0.788     -2.809      0.008      -3.806      -0.619\n",
            "exp_PBI_avg3_std                   1.2573      0.793      1.586      0.121      -0.346       2.861\n",
            "flg_feia_avg3_std                  1.8231      0.789      2.312      0.026       0.228       3.418\n",
            "==============================================================================\n",
            "Omnibus:                        3.670   Durbin-Watson:                   1.614\n",
            "Prob(Omnibus):                  0.160   Jarque-Bera (JB):                3.280\n",
            "Skew:                           0.671   Prob(JB):                        0.194\n",
            "Kurtosis:                       2.834   Cond. No.                         1.18\n",
            "==============================================================================\n",
            "\n",
            "Warnings:\n",
            "[1] Standard Errors assume that the covariance matrix of the errors is correctly specified.\n"
          ]
        }
      ]
    },
    {
      "cell_type": "code",
      "source": [
        "1.8231/(2.2126 + 1.2573 + 1.8231)"
      ],
      "metadata": {
        "colab": {
          "base_uri": "https://localhost:8080/"
        },
        "id": "bfeQYg8PhHcK",
        "outputId": "bc73f5d2-d7fa-4688-b5b8-cec05843c9dc"
      },
      "execution_count": null,
      "outputs": [
        {
          "output_type": "execute_result",
          "data": {
            "text/plain": [
              "0.344436047610051"
            ]
          },
          "metadata": {},
          "execution_count": 73
        }
      ]
    },
    {
      "cell_type": "code",
      "source": [
        "2.2126 + 1.2573 + 1.8231"
      ],
      "metadata": {
        "id": "QlpcZXSMhC69"
      },
      "execution_count": null,
      "outputs": []
    },
    {
      "cell_type": "code",
      "source": [
        "import seaborn as sn\n",
        "import matplotlib.pyplot as plt\n",
        "\n",
        "sn.heatmap(X_train[features].corr(), annot=True)\n",
        "plt.show()"
      ],
      "metadata": {
        "id": "z2gR9mDK79B_"
      },
      "execution_count": null,
      "outputs": []
    },
    {
      "cell_type": "code",
      "source": [
        "\n",
        "data_res['macro_pred'] = 12.7242 -\\\n",
        "                         2.2126*data_res.precio_oferta_zon1_rat3to6_std +\\\n",
        "                         1.2573*data_res.exp_PBI_avg3_std +\\\n",
        "                         1.8231*data_res.flg_feia_avg3_std\n",
        "\n",
        "data = data_res.copy().dropna()\n",
        "X_train = data[:-test_size].dropna()\n",
        "X_test  = data[-test_size:].dropna()\n"
      ],
      "metadata": {
        "id": "YssxJ75piFHz"
      },
      "execution_count": null,
      "outputs": []
    },
    {
      "cell_type": "code",
      "source": [
        "#target + '_lag3_avg3'\n",
        "ensemble = ['venta_predicted', 'macro_pred']\n",
        "\n",
        "# 2,1,1 ARIMA Model\n",
        "model_ff = ARIMA(endog = X_train[target], \n",
        "                 exog = X_train[ensemble],  \n",
        "                 order=(1,2,1))\n",
        "\n",
        "model_fit_ff = model_ff.fit()\n",
        "print(model_fit_ff.summary())"
      ],
      "metadata": {
        "colab": {
          "base_uri": "https://localhost:8080/"
        },
        "id": "yLgcrdzYq8_r",
        "outputId": "301239e2-06d4-4650-b762-623dc454a608"
      },
      "execution_count": null,
      "outputs": [
        {
          "output_type": "stream",
          "name": "stderr",
          "text": [
            "/usr/local/lib/python3.7/dist-packages/statsmodels/tsa/base/tsa_model.py:215: ValueWarning: An unsupported index was provided and will be ignored when e.g. forecasting.\n",
            "  ' ignored when e.g. forecasting.', ValueWarning)\n",
            "/usr/local/lib/python3.7/dist-packages/statsmodels/tsa/base/tsa_model.py:215: ValueWarning: An unsupported index was provided and will be ignored when e.g. forecasting.\n",
            "  ' ignored when e.g. forecasting.', ValueWarning)\n",
            "/usr/local/lib/python3.7/dist-packages/statsmodels/base/model.py:492: HessianInversionWarning: Inverting hessian failed, no bse or cov_params available\n",
            "  'available', HessianInversionWarning)\n"
          ]
        },
        {
          "output_type": "stream",
          "name": "stdout",
          "text": [
            "                             ARIMA Model Results                              \n",
            "==============================================================================\n",
            "Dep. Variable:        D2.Venta_zona_1   No. Observations:                   41\n",
            "Model:                 ARIMA(1, 2, 1)   Log Likelihood                -129.504\n",
            "Method:                       css-mle   S.D. of innovations              5.389\n",
            "Date:                Thu, 21 Jul 2022   AIC                            271.008\n",
            "Time:                        17:13:01   BIC                            281.289\n",
            "Sample:                             2   HQIC                           274.752\n",
            "                                                                              \n",
            "=========================================================================================\n",
            "                            coef    std err          z      P>|z|      [0.025      0.975]\n",
            "-----------------------------------------------------------------------------------------\n",
            "const                     2.5445      1.026      2.479      0.018       0.533       4.556\n",
            "venta_predicted          -0.2723      0.094     -2.891      0.006      -0.457      -0.088\n",
            "macro_pred                0.0789      0.118      0.671      0.506      -0.151       0.309\n",
            "ar.L1.D2.Venta_zona_1    -0.3877      0.153     -2.539      0.016      -0.687      -0.088\n",
            "ma.L1.D2.Venta_zona_1    -1.0000      0.076    -13.103      0.000      -1.150      -0.850\n",
            "                                    Roots                                    \n",
            "=============================================================================\n",
            "                  Real          Imaginary           Modulus         Frequency\n",
            "-----------------------------------------------------------------------------\n",
            "AR.1           -2.5794           +0.0000j            2.5794            0.5000\n",
            "MA.1            1.0000           +0.0000j            1.0000            0.0000\n",
            "-----------------------------------------------------------------------------\n"
          ]
        }
      ]
    },
    {
      "cell_type": "code",
      "source": [
        "\n",
        "import pickle\n",
        "pickle.dump(model_fit_ff, open(\"./var_mz1.ml\", 'wb'))\n"
      ],
      "metadata": {
        "id": "HpTJcBymiPW2"
      },
      "execution_count": null,
      "outputs": []
    },
    {
      "cell_type": "code",
      "source": [
        "\n",
        "fc, se, conf  = model_fit_ff.forecast(test_size, \n",
        "                                      exog = X_test[['venta_predicted', 'macro_pred']], alpha=0.05)\n",
        "\n",
        "model_res = model_fit_ff.predict(start = X_train.index[2], \n",
        "                                 end = X_train.index[-1], dynamic=False, typ = 'levels')\n",
        "\n",
        "data_res = data.copy()\n",
        "data_res['venta_predicted_final'] = model_res\n",
        "data_res.iloc[-test_size:]['venta_predicted_final'] = fc\n",
        "\n",
        "sns.lineplot(data = data_res[[target, 'venta_predicted_final']])\n"
      ],
      "metadata": {
        "colab": {
          "base_uri": "https://localhost:8080/",
          "height": 296
        },
        "id": "xtfY4jezrkDl",
        "outputId": "9722a4e8-c96f-43a6-df02-da7b47e19524"
      },
      "execution_count": null,
      "outputs": [
        {
          "output_type": "execute_result",
          "data": {
            "text/plain": [
              "<matplotlib.axes._subplots.AxesSubplot at 0x7f837d119790>"
            ]
          },
          "metadata": {},
          "execution_count": 62
        },
        {
          "output_type": "display_data",
          "data": {
            "text/plain": [
              "<Figure size 432x288 with 1 Axes>"
            ],
            "image/png": "[encoded data removed]"
          },
          "metadata": {
            "needs_background": "light"
          }
        }
      ]
    },
    {
      "cell_type": "code",
      "source": [
        "data_res[[target, 'venta_predicted', 'macro_pred', 'venta_predicted_final']]"
      ],
      "metadata": {
        "id": "1lxbrJxhrj3Y"
      },
      "execution_count": null,
      "outputs": []
    },
    {
      "cell_type": "code",
      "source": [
        ""
      ],
      "metadata": {
        "id": "U4_ce-WbrjhS"
      },
      "execution_count": null,
      "outputs": []
    },
    {
      "cell_type": "code",
      "source": [
        "mod = sm.OLS(X_train[target], X_train[['venta_predicted', 'macro_pred', 'intercept']])\n",
        "res = mod.fit()\n",
        "print(res.summary())"
      ],
      "metadata": {
        "id": "Ns8Vy7za2RKp"
      },
      "execution_count": null,
      "outputs": []
    },
    {
      "cell_type": "code",
      "source": [
        "\n",
        "data_res['venta_predicted_final'] = 0.1938*data_res.venta_predicted + 0.9125*data_res.macro_pred - 6.1913\n",
        "\n",
        "\n",
        "data = data_res.copy().dropna()\n",
        "X_train = data[:-test_size].dropna()\n",
        "X_test  = data[-test_size:].dropna()\n",
        "\n"
      ],
      "metadata": {
        "id": "Con7vVAa3TNT"
      },
      "execution_count": null,
      "outputs": []
    },
    {
      "cell_type": "code",
      "source": [
        "X_train[['venta_predicted_final', target]].corr()**2"
      ],
      "metadata": {
        "colab": {
          "base_uri": "https://localhost:8080/",
          "height": 112
        },
        "id": "ZmIbyI2w7yuZ",
        "outputId": "b9d67094-5e06-483d-9aa7-dc7b63f292b6"
      },
      "execution_count": null,
      "outputs": [
        {
          "output_type": "execute_result",
          "data": {
            "text/plain": [
              "                       venta_predicted_final  Venta_zona_1\n",
              "venta_predicted_final               1.000000      0.250031\n",
              "Venta_zona_1                        0.250031      1.000000"
            ],
            "text/html": [
              "\n",
              "  <div id=\"df-e2acc920-d685-4fc4-85a0-96dff54ced98\">\n",
              "    <div class=\"colab-df-container\">\n",
              "      <div>\n",
              "<style scoped>\n",
              "    .dataframe tbody tr th:only-of-type {\n",
              "        vertical-align: middle;\n",
              "    }\n",
              "\n",
              "    .dataframe tbody tr th {\n",
              "        vertical-align: top;\n",
              "    }\n",
              "\n",
              "    .dataframe thead th {\n",
              "        text-align: right;\n",
              "    }\n",
              "</style>\n",
              "<table border=\"1\" class=\"dataframe\">\n",
              "  <thead>\n",
              "    <tr style=\"text-align: right;\">\n",
              "      <th></th>\n",
              "      <th>venta_predicted_final</th>\n",
              "      <th>Venta_zona_1</th>\n",
              "    </tr>\n",
              "  </thead>\n",
              "  <tbody>\n",
              "    <tr>\n",
              "      <th>venta_predicted_final</th>\n",
              "      <td>1.000000</td>\n",
              "      <td>0.250031</td>\n",
              "    </tr>\n",
              "    <tr>\n",
              "      <th>Venta_zona_1</th>\n",
              "      <td>0.250031</td>\n",
              "      <td>1.000000</td>\n",
              "    </tr>\n",
              "  </tbody>\n",
              "</table>\n",
              "</div>\n",
              "      <button class=\"colab-df-convert\" onclick=\"convertToInteractive('df-e2acc920-d685-4fc4-85a0-96dff54ced98')\"\n",
              "              title=\"Convert this dataframe to an interactive table.\"\n",
              "              style=\"display:none;\">\n",
              "        \n",
              "  <svg xmlns=\"http://www.w3.org/2000/svg\" height=\"24px\"viewBox=\"0 0 24 24\"\n",
              "       width=\"24px\">\n",
              "    <path d=\"M0 0h24v24H0V0z\" fill=\"none\"/>\n",
              "    <path d=\"M18.56 5.44l.94 2.06.94-2.06 2.06-.94-2.06-.94-.94-2.06-.94 2.06-2.06.94zm-11 1L8.5 8.5l.94-2.06 2.06-.94-2.06-.94L8.5 2.5l-.94 2.06-2.06.94zm10 10l.94 2.06.94-2.06 2.06-.94-2.06-.94-.94-2.06-.94 2.06-2.06.94z\"/><path d=\"M17.41 7.96l-1.37-1.37c-.4-.4-.92-.59-1.43-.59-.52 0-1.04.2-1.43.59L10.3 9.45l-7.72 7.72c-.78.78-.78 2.05 0 2.83L4 21.41c.39.39.9.59 1.41.59.51 0 1.02-.2 1.41-.59l7.78-7.78 2.81-2.81c.8-.78.8-2.07 0-2.86zM5.41 20L4 18.59l7.72-7.72 1.47 1.35L5.41 20z\"/>\n",
              "  </svg>\n",
              "      </button>\n",
              "      \n",
              "  <style>\n",
              "    .colab-df-container {\n",
              "      display:flex;\n",
              "      flex-wrap:wrap;\n",
              "      gap: 12px;\n",
              "    }\n",
              "\n",
              "    .colab-df-convert {\n",
              "      background-color: #E8F0FE;\n",
              "      border: none;\n",
              "      border-radius: 50%;\n",
              "      cursor: pointer;\n",
              "      display: none;\n",
              "      fill: #1967D2;\n",
              "      height: 32px;\n",
              "      padding: 0 0 0 0;\n",
              "      width: 32px;\n",
              "    }\n",
              "\n",
              "    .colab-df-convert:hover {\n",
              "      background-color: #E2EBFA;\n",
              "      box-shadow: 0px 1px 2px rgba(60, 64, 67, 0.3), 0px 1px 3px 1px rgba(60, 64, 67, 0.15);\n",
              "      fill: #174EA6;\n",
              "    }\n",
              "\n",
              "    [theme=dark] .colab-df-convert {\n",
              "      background-color: #3B4455;\n",
              "      fill: #D2E3FC;\n",
              "    }\n",
              "\n",
              "    [theme=dark] .colab-df-convert:hover {\n",
              "      background-color: #434B5C;\n",
              "      box-shadow: 0px 1px 3px 1px rgba(0, 0, 0, 0.15);\n",
              "      filter: drop-shadow(0px 1px 2px rgba(0, 0, 0, 0.3));\n",
              "      fill: #FFFFFF;\n",
              "    }\n",
              "  </style>\n",
              "\n",
              "      <script>\n",
              "        const buttonEl =\n",
              "          document.querySelector('#df-e2acc920-d685-4fc4-85a0-96dff54ced98 button.colab-df-convert');\n",
              "        buttonEl.style.display =\n",
              "          google.colab.kernel.accessAllowed ? 'block' : 'none';\n",
              "\n",
              "        async function convertToInteractive(key) {\n",
              "          const element = document.querySelector('#df-e2acc920-d685-4fc4-85a0-96dff54ced98');\n",
              "          const dataTable =\n",
              "            await google.colab.kernel.invokeFunction('convertToInteractive',\n",
              "                                                     [key], {});\n",
              "          if (!dataTable) return;\n",
              "\n",
              "          const docLinkHtml = 'Like what you see? Visit the ' +\n",
              "            '<a target=\"_blank\" href=https://colab.research.google.com/notebooks/data_table.ipynb>data table notebook</a>'\n",
              "            + ' to learn more about interactive tables.';\n",
              "          element.innerHTML = '';\n",
              "          dataTable['output_type'] = 'display_data';\n",
              "          await google.colab.output.renderOutput(dataTable, element);\n",
              "          const docLink = document.createElement('div');\n",
              "          docLink.innerHTML = docLinkHtml;\n",
              "          element.appendChild(docLink);\n",
              "        }\n",
              "      </script>\n",
              "    </div>\n",
              "  </div>\n",
              "  "
            ]
          },
          "metadata": {},
          "execution_count": 223
        }
      ]
    },
    {
      "cell_type": "code",
      "source": [
        "data[['venta_predicted',\n",
        "      'venta_predicted_final', target]].to_csv('results_zona1.csv', index=0)"
      ],
      "metadata": {
        "id": "v79loELBUABS"
      },
      "execution_count": null,
      "outputs": []
    },
    {
      "cell_type": "code",
      "source": [
        "data[['venta_predicted',\n",
        "      'venta_predicted_final', target]]"
      ],
      "metadata": {
        "id": "baKpexkF_hB7"
      },
      "execution_count": null,
      "outputs": []
    },
    {
      "cell_type": "code",
      "source": [
        "X_test[features]"
      ],
      "metadata": {
        "colab": {
          "base_uri": "https://localhost:8080/",
          "height": 143
        },
        "id": "eKeAUlBDniSO",
        "outputId": "aca011c6-9cbf-4801-9384-9538750d5362"
      },
      "execution_count": null,
      "outputs": [
        {
          "output_type": "execute_result",
          "data": {
            "text/plain": [
              "        Venta_zona_1_lag3_avg3\n",
              "codmes                        \n",
              "abr-22               63.000000\n",
              "may-22               55.333333"
            ],
            "text/html": [
              "\n",
              "  <div id=\"df-be4446fd-2683-4cfa-9e24-05946da9625d\">\n",
              "    <div class=\"colab-df-container\">\n",
              "      <div>\n",
              "<style scoped>\n",
              "    .dataframe tbody tr th:only-of-type {\n",
              "        vertical-align: middle;\n",
              "    }\n",
              "\n",
              "    .dataframe tbody tr th {\n",
              "        vertical-align: top;\n",
              "    }\n",
              "\n",
              "    .dataframe thead th {\n",
              "        text-align: right;\n",
              "    }\n",
              "</style>\n",
              "<table border=\"1\" class=\"dataframe\">\n",
              "  <thead>\n",
              "    <tr style=\"text-align: right;\">\n",
              "      <th></th>\n",
              "      <th>Venta_zona_1_lag3_avg3</th>\n",
              "    </tr>\n",
              "    <tr>\n",
              "      <th>codmes</th>\n",
              "      <th></th>\n",
              "    </tr>\n",
              "  </thead>\n",
              "  <tbody>\n",
              "    <tr>\n",
              "      <th>abr-22</th>\n",
              "      <td>63.000000</td>\n",
              "    </tr>\n",
              "    <tr>\n",
              "      <th>may-22</th>\n",
              "      <td>55.333333</td>\n",
              "    </tr>\n",
              "  </tbody>\n",
              "</table>\n",
              "</div>\n",
              "      <button class=\"colab-df-convert\" onclick=\"convertToInteractive('df-be4446fd-2683-4cfa-9e24-05946da9625d')\"\n",
              "              title=\"Convert this dataframe to an interactive table.\"\n",
              "              style=\"display:none;\">\n",
              "        \n",
              "  <svg xmlns=\"http://www.w3.org/2000/svg\" height=\"24px\"viewBox=\"0 0 24 24\"\n",
              "       width=\"24px\">\n",
              "    <path d=\"M0 0h24v24H0V0z\" fill=\"none\"/>\n",
              "    <path d=\"M18.56 5.44l.94 2.06.94-2.06 2.06-.94-2.06-.94-.94-2.06-.94 2.06-2.06.94zm-11 1L8.5 8.5l.94-2.06 2.06-.94-2.06-.94L8.5 2.5l-.94 2.06-2.06.94zm10 10l.94 2.06.94-2.06 2.06-.94-2.06-.94-.94-2.06-.94 2.06-2.06.94z\"/><path d=\"M17.41 7.96l-1.37-1.37c-.4-.4-.92-.59-1.43-.59-.52 0-1.04.2-1.43.59L10.3 9.45l-7.72 7.72c-.78.78-.78 2.05 0 2.83L4 21.41c.39.39.9.59 1.41.59.51 0 1.02-.2 1.41-.59l7.78-7.78 2.81-2.81c.8-.78.8-2.07 0-2.86zM5.41 20L4 18.59l7.72-7.72 1.47 1.35L5.41 20z\"/>\n",
              "  </svg>\n",
              "      </button>\n",
              "      \n",
              "  <style>\n",
              "    .colab-df-container {\n",
              "      display:flex;\n",
              "      flex-wrap:wrap;\n",
              "      gap: 12px;\n",
              "    }\n",
              "\n",
              "    .colab-df-convert {\n",
              "      background-color: #E8F0FE;\n",
              "      border: none;\n",
              "      border-radius: 50%;\n",
              "      cursor: pointer;\n",
              "      display: none;\n",
              "      fill: #1967D2;\n",
              "      height: 32px;\n",
              "      padding: 0 0 0 0;\n",
              "      width: 32px;\n",
              "    }\n",
              "\n",
              "    .colab-df-convert:hover {\n",
              "      background-color: #E2EBFA;\n",
              "      box-shadow: 0px 1px 2px rgba(60, 64, 67, 0.3), 0px 1px 3px 1px rgba(60, 64, 67, 0.15);\n",
              "      fill: #174EA6;\n",
              "    }\n",
              "\n",
              "    [theme=dark] .colab-df-convert {\n",
              "      background-color: #3B4455;\n",
              "      fill: #D2E3FC;\n",
              "    }\n",
              "\n",
              "    [theme=dark] .colab-df-convert:hover {\n",
              "      background-color: #434B5C;\n",
              "      box-shadow: 0px 1px 3px 1px rgba(0, 0, 0, 0.15);\n",
              "      filter: drop-shadow(0px 1px 2px rgba(0, 0, 0, 0.3));\n",
              "      fill: #FFFFFF;\n",
              "    }\n",
              "  </style>\n",
              "\n",
              "      <script>\n",
              "        const buttonEl =\n",
              "          document.querySelector('#df-be4446fd-2683-4cfa-9e24-05946da9625d button.colab-df-convert');\n",
              "        buttonEl.style.display =\n",
              "          google.colab.kernel.accessAllowed ? 'block' : 'none';\n",
              "\n",
              "        async function convertToInteractive(key) {\n",
              "          const element = document.querySelector('#df-be4446fd-2683-4cfa-9e24-05946da9625d');\n",
              "          const dataTable =\n",
              "            await google.colab.kernel.invokeFunction('convertToInteractive',\n",
              "                                                     [key], {});\n",
              "          if (!dataTable) return;\n",
              "\n",
              "          const docLinkHtml = 'Like what you see? Visit the ' +\n",
              "            '<a target=\"_blank\" href=https://colab.research.google.com/notebooks/data_table.ipynb>data table notebook</a>'\n",
              "            + ' to learn more about interactive tables.';\n",
              "          element.innerHTML = '';\n",
              "          dataTable['output_type'] = 'display_data';\n",
              "          await google.colab.output.renderOutput(dataTable, element);\n",
              "          const docLink = document.createElement('div');\n",
              "          docLink.innerHTML = docLinkHtml;\n",
              "          element.appendChild(docLink);\n",
              "        }\n",
              "      </script>\n",
              "    </div>\n",
              "  </div>\n",
              "  "
            ]
          },
          "metadata": {},
          "execution_count": 232
        }
      ]
    },
    {
      "cell_type": "markdown",
      "source": [
        "# Implementación"
      ],
      "metadata": {
        "id": "JOCKvHF0ot-U"
      }
    },
    {
      "cell_type": "code",
      "source": [
        ""
      ],
      "metadata": {
        "id": "fDYaG5-uOm5R"
      },
      "execution_count": null,
      "outputs": []
    },
    {
      "cell_type": "code",
      "source": [
        "data[[target + '_lag2_avg3', 'precio_oferta_zon1_rat3to6_std', 'exp_PBI_avg3_std', 'flg_feia_avg3_std']]"
      ],
      "metadata": {
        "id": "QIhvX48MpSj_"
      },
      "execution_count": null,
      "outputs": []
    },
    {
      "cell_type": "code",
      "source": [
        "input = pd.DataFrame({target + '_lag2_avg3' : [17, 17, 17, 17, 17, 17],\n",
        "                      'precio_oferta_zon1_rat3to6_std' : [-2.706251]*6,\n",
        "                      'exp_PBI_avg3_std' : [-1.138502\t]*6,\n",
        "                      'flg_feia_avg3_std' : [-0.038088]*6\n",
        "                      },\n",
        "                      index = ['may-22','jun-22', 'jul-22', 'ago-22', 'sept-22', 'oct-22'])         \n",
        "\n",
        "                                          \n"
      ],
      "metadata": {
        "id": "zFxGgaK3npiZ"
      },
      "execution_count": null,
      "outputs": []
    },
    {
      "cell_type": "code",
      "source": [
        "fc_pred, se, conf  = model_fit.forecast(6, exog = input[target + '_lag2_avg3'], alpha=0.05)\n",
        "input['venta_predicted'] = fc_pred\n",
        "fc_pred"
      ],
      "metadata": {
        "colab": {
          "base_uri": "https://localhost:8080/"
        },
        "id": "mtnIZZscnhiY",
        "outputId": "698e3871-d3c4-4d9c-eee8-b75bf6855069"
      },
      "execution_count": null,
      "outputs": [
        {
          "output_type": "execute_result",
          "data": {
            "text/plain": [
              "array([23.9875348 , 25.15805161, 24.95722096, 24.66576802, 23.92353946,\n",
              "       22.83181416])"
            ]
          },
          "metadata": {},
          "execution_count": 67
        }
      ]
    },
    {
      "cell_type": "code",
      "source": [
        "\n",
        "input['macro_pred'] = 12.7242 -\\\n",
        "                         2.2126*input.precio_oferta_zon1_rat3to6_std +\\\n",
        "                         1.2573*input.exp_PBI_avg3_std +\\\n",
        "                         1.8231*input.flg_feia_avg3_std\n",
        "                         \n",
        "#input['venta_predicted_final'] = 0.1938*input.venta_predicted + 0.9125*input.macro_pred - 6.1913\n"
      ],
      "metadata": {
        "id": "T-QXUMc1o5iD"
      },
      "execution_count": null,
      "outputs": []
    },
    {
      "cell_type": "code",
      "source": [
        "fc_pred, se, conf  = model_fit_ff.forecast(6, exog = input[['venta_predicted', 'macro_pred']], alpha=0.05)\n",
        "input['venta_predicted_final'] = fc_pred\n",
        "input['venta_predicted_final']\n",
        "fc_pred"
      ],
      "metadata": {
        "colab": {
          "base_uri": "https://localhost:8080/"
        },
        "id": "QeE52zEn-z2e",
        "outputId": "838cf085-a7d4-4700-b952-5371cad5d170"
      },
      "execution_count": null,
      "outputs": [
        {
          "output_type": "execute_result",
          "data": {
            "text/plain": [
              "array([ 21.83530432,  19.58206289,  12.55123676,   3.43662305,\n",
              "        -8.57325453, -22.78818252])"
            ]
          },
          "metadata": {},
          "execution_count": 69
        }
      ]
    },
    {
      "cell_type": "code",
      "source": [
        "input['macro_pred']"
      ],
      "metadata": {
        "id": "eTIqecWm88yT",
        "colab": {
          "base_uri": "https://localhost:8080/"
        },
        "outputId": "b60dd552-9566-483f-8009-1d8c777d5166"
      },
      "execution_count": null,
      "outputs": [
        {
          "output_type": "execute_result",
          "data": {
            "text/plain": [
              "may-22     17.211174\n",
              "jun-22     17.211174\n",
              "jul-22     17.211174\n",
              "ago-22     17.211174\n",
              "sept-22    17.211174\n",
              "oct-22     17.211174\n",
              "Name: macro_pred, dtype: float64"
            ]
          },
          "metadata": {},
          "execution_count": 70
        }
      ]
    },
    {
      "cell_type": "markdown",
      "source": [
        ""
      ],
      "metadata": {
        "id": "zSiZlIsnpO9Y"
      }
    }
  ]
}