{
  "nbformat": 4,
  "nbformat_minor": 0,
  "metadata": {
    "colab": {
      "name": "forecasting_ASEI.ipynb",
      "provenance": [],
      "authorship_tag": "ABX9TyOFE4X4zdMnQinbQyh1SbVT",
      "include_colab_link": true
    },
    "kernelspec": {
      "name": "python3",
      "display_name": "Python 3"
    },
    "language_info": {
      "name": "python"
    }
  },
  "cells": [
    {
      "cell_type": "markdown",
      "metadata": {
        "id": "view-in-github",
        "colab_type": "text"
      },
      "source": [
        "<a href=\"https://colab.research.google.com/github/JCaballerot/Consultoria_ASEI/blob/main/Model_deployment/forecasting_ASEI.ipynb\" target=\"_parent\"><img src=\"https://colab.research.google.com/assets/colab-badge.svg\" alt=\"Open In Colab\"/></a>"
      ]
    },
    {
      "cell_type": "markdown",
      "source": [
        "\n",
        "<h1 align=center><font size = 5>Implementación de forecasting de venta de inmuebles\n",
        "</font></h1>\n",
        "\n",
        "---"
      ],
      "metadata": {
        "id": "S93iu9PV7ZYB"
      }
    },
    {
      "cell_type": "markdown",
      "source": [
        "## Introducción"
      ],
      "metadata": {
        "id": "S1TJt61q7yqU"
      }
    },
    {
      "cell_type": "markdown",
      "source": [
        "El presente proceso tiene como objetivo realizar el proceso de puntuación mensual de los modelos de forecasting de ventas de inmuebles para los distritos de Jesús María y Miraflores en cada una de las 3 zonas por distrito.\n"
      ],
      "metadata": {
        "id": "ZjGY9nN37zlt"
      }
    },
    {
      "cell_type": "markdown",
      "source": [
        "## Extracción de Variables Macro"
      ],
      "metadata": {
        "id": "1ZWSSr1capOS"
      }
    },
    {
      "cell_type": "markdown",
      "source": [
        "**1. IPC Alimentos y energia**\n",
        "\n",
        "> ind_prec_cons_lima_met_alim_ener\n",
        ">\n",
        "> https://estadisticas.bcrp.gob.pe/estadisticas/series/mensuales/indice-de-precios-indice-dic-2021-100\n"
      ],
      "metadata": {
        "id": "c0PuX3iXoQrx"
      }
    },
    {
      "cell_type": "markdown",
      "source": [
        "**2. Expectativa del PBI**\n",
        "\n",
        "> exp_PBI\n",
        "> \n",
        "> https://estadisticas.bcrp.gob.pe/estadisticas/series/mensuales/resultados/PN01728AM/html\n"
      ],
      "metadata": {
        "id": "XvmO_jmEpfMX"
      }
    },
    {
      "cell_type": "markdown",
      "source": [
        "**3. Indice de precios de inflación subyacente**\n",
        "\n",
        "> ind_prec_inf_suby_bienes\n",
        "> \n",
        "> https://estadisticas.bcrp.gob.pe/estadisticas/series/mensuales/indice-de-precios-al-consumidor-clasificacion-sectorial"
      ],
      "metadata": {
        "id": "TUhWBLxdpkbl"
      }
    },
    {
      "cell_type": "markdown",
      "source": [
        "\n",
        "\n",
        "**4. Variación porcentual de la demanda interna**\n",
        "\n",
        "> var_porc_demanda_interna\n",
        "> \n",
        "> https://estadisticas.bcrp.gob.pe/estadisticas/series/mensuales/producto-bruto-interno-y-demanda-interna-variaciones-porcentuales-anualizadas\n",
        "\n"
      ],
      "metadata": {
        "id": "ziVm6VXqpmoE"
      }
    },
    {
      "cell_type": "markdown",
      "source": [
        "\n",
        "**5. Producción de energía eléctrica**\n",
        "\n",
        "> prod_ener_lima\n",
        "> \n",
        "> https://estadisticas.bcrp.gob.pe/estadisticas/series/mensuales/produccion-de-electricidad-por-departamento\n",
        "\n"
      ],
      "metadata": {
        "id": "aZ8LMOlRavQz"
      }
    },
    {
      "cell_type": "markdown",
      "source": [
        "\n",
        "\n",
        "**6. Indice de Precio de bienes inmuebles**\n",
        "\n",
        "> ind_prec_inm\n",
        "> \n",
        "> https://estadisticas.bcrp.gob.pe/estadisticas/series/mensuales/indice-de-precio-de-bienes-inmuebles\n"
      ],
      "metadata": {
        "id": "qkeHTTbSq1hS"
      }
    },
    {
      "cell_type": "markdown",
      "source": [
        "## Librerías"
      ],
      "metadata": {
        "id": "WGQTeZ8m8M1w"
      }
    },
    {
      "cell_type": "markdown",
      "source": [
        "Cargamos las librerías utilizadas como parte del proceso de puntuación"
      ],
      "metadata": {
        "id": "MiBYtAetX8TH"
      }
    },
    {
      "cell_type": "code",
      "source": [
        "import pandas as pd\n",
        "pd.set_option('display.max_rows', None)\n",
        "\n",
        "import pickle\n",
        "import numpy as np"
      ],
      "metadata": {
        "id": "W431TVTD8LoA"
      },
      "execution_count": null,
      "outputs": []
    },
    {
      "cell_type": "markdown",
      "source": [
        "## Periodos"
      ],
      "metadata": {
        "id": "p6Bb9pFl2EcL"
      }
    },
    {
      "cell_type": "markdown",
      "source": [
        "Definimos los meses que se puntuaran en el proceso"
      ],
      "metadata": {
        "id": "n6oNy8rxYKsy"
      }
    },
    {
      "cell_type": "code",
      "source": [
        "periods = ['Mar-22', 'Abr-22', 'May-22', 'Jun-22', 'Jul-22', 'Ago-22', 'Sept-22', 'Oct-22', 'Nov-22', 'Dic-22']"
      ],
      "metadata": {
        "id": "TTDaSf4-2Czu"
      },
      "execution_count": null,
      "outputs": []
    },
    {
      "cell_type": "markdown",
      "source": [
        "## Cargando data input"
      ],
      "metadata": {
        "id": "Zi8r2o-J7gKo"
      }
    },
    {
      "cell_type": "markdown",
      "source": [
        "Proceso de carga de las fuentes macro"
      ],
      "metadata": {
        "id": "3zaHpXIHYRY4"
      }
    },
    {
      "cell_type": "code",
      "source": [
        "\n",
        "macro = pd.read_csv('macros_implementacion.csv', delimiter=';', index_col=['codmes'], parse_dates=['codmes'])\n",
        "variables_macro = macro.columns.tolist()\n",
        "macro[variables_macro] = macro[variables_macro].shift(3)\n",
        "\n"
      ],
      "metadata": {
        "id": "XDTBbMbc8YC5"
      },
      "execution_count": null,
      "outputs": []
    },
    {
      "cell_type": "markdown",
      "source": [
        "Proceso de carga de la data de ASEI"
      ],
      "metadata": {
        "id": "wf2nO9GlYUWo"
      }
    },
    {
      "cell_type": "code",
      "source": [
        "asei = pd.read_csv('input_ASEI.csv', delimiter = ';', index_col=['codmes'], parse_dates=['codmes'])\n",
        "variables_asei = asei.columns.tolist()\n",
        "asei[variables_asei] = asei[variables_asei].shift(2)"
      ],
      "metadata": {
        "id": "rOMqduRKcww2"
      },
      "execution_count": null,
      "outputs": []
    },
    {
      "cell_type": "code",
      "source": [
        "\n",
        "pddf = pd.merge(asei, macro, on = 'codmes', how='left').copy()\n"
      ],
      "metadata": {
        "id": "Liy8Ap2zei8E"
      },
      "execution_count": null,
      "outputs": []
    },
    {
      "cell_type": "markdown",
      "source": [
        "## Cargando modelos"
      ],
      "metadata": {
        "id": "SBoGX2Px4MFh"
      }
    },
    {
      "cell_type": "markdown",
      "source": [
        "Proceso de carga de los objetos de los modelos respectivos"
      ],
      "metadata": {
        "id": "5pgx2wIhYZVi"
      }
    },
    {
      "cell_type": "code",
      "source": [
        "\n",
        "arima_mz1 = pickle.load(open(\"./arima_mz1.ml\", 'rb'))\n",
        "arima_mz2 = pickle.load(open(\"./arima_mz2.ml\", 'rb'))\n",
        "arima_mz3 = pickle.load(open(\"./arima_mz3.ml\", 'rb'))\n",
        "\n",
        "arima_jmz1 = pickle.load(open(\"./arima_jmz1.ml\", 'rb'))\n",
        "arima_jmz2 = pickle.load(open(\"./arima_jmz2.ml\", 'rb'))\n",
        "arima_jmz3 = pickle.load(open(\"./arima_jmz3.ml\", 'rb'))\n",
        "\n",
        "var_jmz1 = pickle.load(open(\"./var_jmz1.ml\", 'rb'))\n",
        "var_jmz2 = pickle.load(open(\"./var_jmz2.ml\", 'rb'))\n",
        "var_jmz3 = pickle.load(open(\"./var_jmz3.ml\", 'rb'))\n",
        "\n"
      ],
      "metadata": {
        "id": "EwhwbQaBlSyn"
      },
      "execution_count": null,
      "outputs": []
    },
    {
      "cell_type": "markdown",
      "source": [
        "## Generación de variables "
      ],
      "metadata": {
        "id": "AUjrsiy5fBFj"
      }
    },
    {
      "cell_type": "markdown",
      "source": [
        "Proceso de generación de feature engeeniering sobre variables"
      ],
      "metadata": {
        "id": "XZ8UILtbYgm0"
      }
    },
    {
      "cell_type": "code",
      "source": [
        "variables = pddf.columns.tolist()\n",
        "pddfRes = pddf.copy()\n",
        "\n",
        "pddfRes[[x + '_avg3' for x in variables]] = pddfRes[variables].rolling(3, min_periods = 3).mean()\n",
        "pddfRes[[x + '_avg6' for x in variables]] = pddfRes[variables].rolling(6, min_periods = 6).mean()\n",
        "\n",
        "for x in variables:\n",
        "  pddfRes[x + '_rat3to6'] = pddfRes[x + '_avg3']/pddfRes[x + '_avg6']"
      ],
      "metadata": {
        "id": "ixGAI0CCfAa1"
      },
      "execution_count": null,
      "outputs": []
    },
    {
      "cell_type": "markdown",
      "source": [
        "## Preprocesamiento de variables"
      ],
      "metadata": {
        "id": "EaJUpIny16FU"
      }
    },
    {
      "cell_type": "markdown",
      "source": [
        "En este punto se aplican las estandarizaciones sobre las variables macro"
      ],
      "metadata": {
        "id": "rthi4fwLYycy"
      }
    },
    {
      "cell_type": "code",
      "source": [
        "\n",
        "# Variables Miraflores Zona 1\n",
        "\n",
        "mz1_feat_macro = ['mz1_precio_oferta_zon1_rat3to6_std', 'mz1_exp_PBI_avg3_std', 'mz1_flg_feia_avg3_std']\n",
        "mz1_feat_arima = 'M_Venta_zona_1_avg3'\n",
        "\n",
        "pddfRes['mz1_precio_oferta_zon1_rat3to6_std'] = (pddfRes.M_precio_oferta_zon1_rat3to6 - 1.005935)/0.008043\n",
        "pddfRes['mz1_exp_PBI_avg3_std'] = (pddfRes.exp_PBI_avg3 - 0.045776)/0.016491\n",
        "pddfRes['mz1_flg_feia_avg3_std'] = (pddfRes.flg_feia_avg3 - 0.340741)/0.194481\n"
      ],
      "metadata": {
        "id": "Qx_n7aqNe7JH"
      },
      "execution_count": null,
      "outputs": []
    },
    {
      "cell_type": "code",
      "source": [
        "# Variables Miraflores Zona 2\n",
        "\n",
        "mz2_feat_macro = ['mz2_ind_prec_cons_lima_met_alim_ener_avg3_std', 'mz2_exp_PBI_avg3_std', 'mz2_flg_feia_avg3_std']\n",
        "mz2_feat_arima = 'M_Venta_zona_2_avg3'\n",
        "\n",
        "pddfRes['mz2_ind_prec_cons_lima_met_alim_ener_avg3_std'] = (pddfRes.ind_prec_cons_lima_met_alim_ener_avg3 - 89.775296)/3.052684\n",
        "pddfRes['mz2_exp_PBI_avg3_std'] = (pddfRes.exp_PBI_avg3 - 0.045776)/0.016491\n",
        "pddfRes['mz2_flg_feia_avg3_std'] = (pddfRes.flg_feia_avg3 - 0.340741)/0.194481\n"
      ],
      "metadata": {
        "id": "vSaYm2g4_vWD"
      },
      "execution_count": null,
      "outputs": []
    },
    {
      "cell_type": "code",
      "source": [
        "# Variables Miraflores Zona 3\n",
        "\n",
        "mz3_feat_macro = ['mz3_ind_prec_inf_suby_bienes_avg3_std', 'mz3_precio_venta_total_rat3to6_std']\n",
        "mz3_feat_arima = 'M_Venta_zona_3_avg3'\n",
        "\n",
        "pddfRes['mz3_ind_prec_inf_suby_bienes_avg3_std'] = (pddfRes.ind_prec_inf_suby_bienes_avg3 - 0.19257)/0.102632\n",
        "pddfRes['mz3_precio_venta_total_rat3to6_std'] = (pddfRes.M_precio_venta_total_rat3to6 - 1.00568)/0.013322\n"
      ],
      "metadata": {
        "id": "ILKKux8Fts2p"
      },
      "execution_count": null,
      "outputs": []
    },
    {
      "cell_type": "code",
      "source": [
        "# Variables Jesus Maria Zona 1\n",
        "\n",
        "jmz1_feat_macro = ['jmz1_ind_prec_inm_rat3to6_std', 'jmz1_ind_prec_inf_suby_bienes_avg6_std']\n",
        "jmz1_feat_arima = 'JM_Venta_zona_1_avg3'\n",
        "\n",
        "pddfRes['jmz1_ind_prec_inm_rat3to6_std'] = (pddfRes.ind_prec_inm_rat3to6 - 1.000698)/0.005181\n",
        "pddfRes['jmz1_ind_prec_inf_suby_bienes_avg6_std'] = (pddfRes.ind_prec_inf_suby_bienes_avg6 - 0.185542)/0.083822\n"
      ],
      "metadata": {
        "id": "ge70_o5yQyUA"
      },
      "execution_count": null,
      "outputs": []
    },
    {
      "cell_type": "code",
      "source": [
        "# Variables Jesus Maria Zona 2\n",
        "\n",
        "jmz2_feat_macro = ['jmz2_var_porc_demanda_interna_avg3_std', 'jmz2_flg_feia_avg3_std', 'jmz2_exp_PBI_avg3_std']\n",
        "jmz2_feat_arima = 'JM_Venta_zona_2_avg3'\n",
        "\n",
        "pddfRes['jmz2_var_porc_demanda_interna_avg3_std'] = (pddfRes.var_porc_demanda_interna_avg3 - 3.355473)/13.253201\n",
        "pddfRes['jmz2_flg_feia_avg3_std'] = (pddfRes.flg_feia_avg3 - 0.340580)/0.192311\n",
        "pddfRes['jmz2_exp_PBI_avg3_std'] = (pddfRes.exp_PBI_avg3 - 0.045371)/0.016536\n"
      ],
      "metadata": {
        "id": "BkrwC7J_PiYy"
      },
      "execution_count": null,
      "outputs": []
    },
    {
      "cell_type": "code",
      "source": [
        "# Variables Jesus Maria Zona 3\n",
        "\n",
        "jmz3_feat_macro = ['jmz3_ind_prec_inm_avg3_std', 'jmz3_ind_prec_inf_suby_bienes_rat3to6_std', 'jmz3_prod_ener_lima_avg6_std']\n",
        "jmz3_feat_arima = 'JM_Venta_zona_3_avg3'\n",
        "\n",
        "pddfRes['jmz3_ind_prec_inm_avg3_std'] = (pddfRes.ind_prec_inm_avg3 - 107.502391)/1.673276\n",
        "pddfRes['jmz3_ind_prec_inf_suby_bienes_rat3to6_std'] = (pddfRes.ind_prec_inf_suby_bienes_rat3to6 - 1.066234)/0.302180\n",
        "pddfRes['jmz3_prod_ener_lima_avg6_std'] = (pddfRes.prod_ener_lima_avg6 - 2102.496290)/288.166124\n"
      ],
      "metadata": {
        "id": "GhHqd8bT4DaO"
      },
      "execution_count": null,
      "outputs": []
    },
    {
      "cell_type": "code",
      "source": [
        "pddf_pred = pddfRes.loc[periods]"
      ],
      "metadata": {
        "id": "LR7RGiUjqk8T"
      },
      "execution_count": null,
      "outputs": []
    },
    {
      "cell_type": "markdown",
      "source": [
        "## Puntuación de modelos ARIMA"
      ],
      "metadata": {
        "id": "IiEujM514b2J"
      }
    },
    {
      "cell_type": "markdown",
      "source": [
        "Proceso de puntuación de los modelos arima basados en las ventas pasadas"
      ],
      "metadata": {
        "id": "cJE6gV_zY4JG"
      }
    },
    {
      "cell_type": "code",
      "source": [
        "\n",
        "# Miraflores Zona 1\n",
        "fc_mz1, se, conf  = arima_mz1.forecast(len(periods), \n",
        "                                   exog = pddf_pred[mz1_feat_arima].fillna(pddf_pred[mz1_feat_arima].dropna()[-1]), \n",
        "                                   alpha=0.05)\n",
        "\n",
        "# Miraflores Zona 2\n",
        "fc_mz2, se, conf  = arima_mz2.forecast(len(periods), \n",
        "                                   exog = pddf_pred[mz2_feat_arima].fillna(pddf_pred[mz2_feat_arima].dropna()[-1]), \n",
        "                                   alpha=0.05)\n",
        "\n",
        "# Miraflores Zona 3\n",
        "fc_mz3, se, conf  = arima_mz3.forecast(len(periods), \n",
        "                                   exog = pddf_pred[mz3_feat_arima].fillna(pddf_pred[mz3_feat_arima].dropna()[-1]), \n",
        "                                   alpha=0.05)\n",
        "\n",
        "# Jesus Maria Zona 1\n",
        "fc_jmz1, se, conf  = arima_jmz1.forecast(len(periods), \n",
        "                                   exog = pddf_pred[jmz1_feat_arima].fillna(pddf_pred[jmz1_feat_arima].dropna()[-1]), \n",
        "                                   alpha=0.05)\n",
        "\n",
        "# Jesus Maria Zona 2\n",
        "fc_jmz2, se, conf  = arima_jmz2.forecast(len(periods), \n",
        "                                   exog = pddf_pred[jmz2_feat_arima].fillna(pddf_pred[jmz2_feat_arima].dropna()[-1]), \n",
        "                                   alpha=0.05)\n",
        "\n",
        "# Jesus Maria Zona 3\n",
        "fc_jmz3, se, conf  = arima_jmz3.forecast(len(periods), \n",
        "                                   exog = pddf_pred[jmz3_feat_arima].fillna(pddf_pred[jmz3_feat_arima].dropna()[-1]), \n",
        "                                   alpha=0.05)\n",
        "\n"
      ],
      "metadata": {
        "colab": {
          "base_uri": "https://localhost:8080/"
        },
        "id": "ia1bGKmpkXx0",
        "outputId": "da0919b3-eaba-43ff-b77e-d8c4492d647a"
      },
      "execution_count": null,
      "outputs": [
        {
          "output_type": "stream",
          "name": "stderr",
          "text": [
            "/usr/local/lib/python3.7/dist-packages/statsmodels/tsa/arima_model.py:1866: FutureWarning: Support for multi-dimensional indexing (e.g. `obj[:, None]`) is deprecated and will be removed in a future version.  Convert to a numpy array before indexing instead.\n",
            "  exog = exog[:, None]\n"
          ]
        }
      ]
    },
    {
      "cell_type": "code",
      "source": [
        "\n",
        "pddf_pred['mz1_venta_predicted'] = fc_mz1\n",
        "pddf_pred['mz2_venta_predicted'] = fc_mz2\n",
        "pddf_pred['mz3_venta_predicted'] = fc_mz3\n",
        "\n",
        "pddf_pred['jmz1_venta_predicted'] = fc_jmz1\n",
        "pddf_pred['jmz2_venta_predicted'] = fc_jmz2\n",
        "pddf_pred['jmz3_venta_predicted'] = fc_jmz3\n"
      ],
      "metadata": {
        "id": "_7Jmt32ytvAA"
      },
      "execution_count": null,
      "outputs": []
    },
    {
      "cell_type": "markdown",
      "source": [
        "## Puntuación de modelos macro"
      ],
      "metadata": {
        "id": "Dw_D9pwX6KOs"
      }
    },
    {
      "cell_type": "markdown",
      "source": [
        "Proceso de cálculo de los modelos macroeconómicos"
      ],
      "metadata": {
        "id": "SP9LIiqtZXO4"
      }
    },
    {
      "cell_type": "code",
      "source": [
        "for x in list(set(mz1_feat_macro + mz2_feat_macro + mz3_feat_macro + jmz1_feat_macro + jmz2_feat_macro + jmz3_feat_macro)):\n",
        "  pddf_pred[x] = pddf_pred[x].fillna(pddf_pred[x].dropna()[-1])\n"
      ],
      "metadata": {
        "id": "Bz-QljgxuaBJ"
      },
      "execution_count": null,
      "outputs": []
    },
    {
      "cell_type": "code",
      "source": [
        "# Miraflores Zona 1\n",
        "pddf_pred['mz1_macro_pred'] = 12.7242 -\\\n",
        "                              2.2126*pddf_pred.mz1_precio_oferta_zon1_rat3to6_std +\\\n",
        "                              1.2573*pddf_pred.mz1_exp_PBI_avg3_std +\\\n",
        "                              1.8231*pddf_pred.mz1_flg_feia_avg3_std\n",
        "\n"
      ],
      "metadata": {
        "id": "o5uQBngvttCO"
      },
      "execution_count": null,
      "outputs": []
    },
    {
      "cell_type": "code",
      "source": [
        "# Miraflores Zona 2\n",
        "pddf_pred['mz2_macro_pred'] = 42.7099 +\\\n",
        "                              5.96310*pddf_pred.mz2_exp_PBI_avg3_std +\\\n",
        "                              15.6759*pddf_pred.mz2_ind_prec_cons_lima_met_alim_ener_avg3_std +\\\n",
        "                              3.87770*pddf_pred.mz2_flg_feia_avg3_std\n",
        "\n"
      ],
      "metadata": {
        "id": "ODBbrsGrwWLz"
      },
      "execution_count": null,
      "outputs": []
    },
    {
      "cell_type": "code",
      "source": [
        "# Miraflores Zona 3\n",
        "pddf_pred['mz3_macro_pred'] = 15.5556 +\\\n",
        "                              4.8866*pddf_pred.mz3_ind_prec_inf_suby_bienes_avg3_std -\\\n",
        "                              1.3525*pddf_pred.mz3_precio_venta_total_rat3to6_std\n"
      ],
      "metadata": {
        "id": "aIgKnq88w9Oh"
      },
      "execution_count": null,
      "outputs": []
    },
    {
      "cell_type": "code",
      "source": [
        "# Jesus Maria Zona 1\n",
        "pddf_pred['jmz1_macro_pred'] = 57.6329 +\\\n",
        "                               7.6093*pddf_pred.jmz1_ind_prec_inm_rat3to6_std +\\\n",
        "                               5.9194*pddf_pred.jmz1_ind_prec_inf_suby_bienes_avg6_std\n",
        "\n"
      ],
      "metadata": {
        "id": "hfvKEp60Kml7"
      },
      "execution_count": null,
      "outputs": []
    },
    {
      "cell_type": "code",
      "source": [
        "# Jesus Maria Zona 2\n",
        "pddf_pred['jmz2_macro_pred'] = 44.0168 +\\\n",
        "                               9.1532*pddf_pred.jmz2_var_porc_demanda_interna_avg3_std +\\\n",
        "                               5.0141*pddf_pred.jmz2_flg_feia_avg3_std +\\\n",
        "                               7.1417*pddf_pred.jmz2_exp_PBI_avg3_std\n"
      ],
      "metadata": {
        "id": "H32yrgNhR6pT"
      },
      "execution_count": null,
      "outputs": []
    },
    {
      "cell_type": "code",
      "source": [
        "# Jesus Maria Zona 3\n",
        "pddf_pred['jmz3_macro_pred'] = 26.5652 +\\\n",
        "                               3.7640*pddf_pred.jmz3_ind_prec_inm_avg3_std +\\\n",
        "                               2.7606*pddf_pred.jmz3_ind_prec_inf_suby_bienes_rat3to6_std -\\\n",
        "                               2.5381*pddf_pred.jmz3_prod_ener_lima_avg6_std\n"
      ],
      "metadata": {
        "id": "N1evQ4dHbalB"
      },
      "execution_count": null,
      "outputs": []
    },
    {
      "cell_type": "markdown",
      "source": [
        "## Puntuación de modelos var/ensemble"
      ],
      "metadata": {
        "id": "ki9bFDfs6UYI"
      }
    },
    {
      "cell_type": "markdown",
      "source": [
        "Proceso de combinación de modelos basado en metodologías de ensamble (Miraflores)/Vectores autorregresivos (Jesus Maria)"
      ],
      "metadata": {
        "id": "sTDcywblZ87e"
      }
    },
    {
      "cell_type": "code",
      "source": [
        "\n",
        "\n",
        "pddf_pred['mz1_venta_predicted_final'] = (pddf_pred['mz1_venta_predicted'] + pddf_pred['mz1_macro_pred'])/2\n",
        "pddf_pred['mz2_venta_predicted_final'] = (pddf_pred['mz2_venta_predicted'] + pddf_pred['mz2_macro_pred'])/2\n",
        "pddf_pred['mz3_venta_predicted_final'] = (pddf_pred['mz3_venta_predicted'] + pddf_pred['mz3_macro_pred'])/2\n",
        "\n",
        "# Var Jesus Maria Zona 1\n",
        "jmz1_ensemble = ['jmz1_venta_predicted', 'jmz1_macro_pred']\n",
        "fc_jmz1, se, conf  = var_jmz1.forecast(len(periods), exog = pddf_pred[jmz1_ensemble], alpha=0.05)\n",
        "pddf_pred['jmz1_venta_predicted_final'] = fc_jmz1\n",
        "\n",
        "# Var Jesus Maria Zona 2\n",
        "jmz2_ensemble = ['jmz2_venta_predicted', 'jmz2_macro_pred']\n",
        "fc_jmz2, se, conf  = var_jmz2.forecast(len(periods), exog = pddf_pred[jmz2_ensemble], alpha=0.05)\n",
        "pddf_pred['jmz2_venta_predicted_final'] = fc_jmz2\n",
        "\n",
        "# Var Jesus Maria Zona 3\n",
        "jmz3_ensemble = ['jmz3_venta_predicted', 'jmz3_macro_pred']\n",
        "fc_jmz3, se, conf  = var_jmz3.forecast(len(periods), exog = pddf_pred[jmz3_ensemble], alpha=0.05)\n",
        "pddf_pred['jmz3_venta_predicted_final'] = fc_jmz3\n"
      ],
      "metadata": {
        "id": "Xv00p6LOwwVo"
      },
      "execution_count": null,
      "outputs": []
    },
    {
      "cell_type": "markdown",
      "source": [
        "## Exportar resultados"
      ],
      "metadata": {
        "id": "5QAMAGn46oAs"
      }
    },
    {
      "cell_type": "markdown",
      "source": [
        "Exportar Resultados finales"
      ],
      "metadata": {
        "id": "pQR2TTXCaH7K"
      }
    },
    {
      "cell_type": "code",
      "source": [
        "\n",
        "pddf_pred[['mz1_venta_predicted_final', 'mz2_venta_predicted_final', 'mz3_venta_predicted_final',\n",
        "           'jmz1_venta_predicted_final', 'jmz2_venta_predicted_final', 'jmz3_venta_predicted_final']].to_csv('forecasting_results.csv')\n"
      ],
      "metadata": {
        "id": "1XY2kS54wzBQ"
      },
      "execution_count": null,
      "outputs": []
    }
  ]
}