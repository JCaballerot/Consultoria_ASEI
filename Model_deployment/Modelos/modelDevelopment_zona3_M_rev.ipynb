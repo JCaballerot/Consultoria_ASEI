{
  "nbformat": 4,
  "nbformat_minor": 0,
  "metadata": {
    "colab": {
      "name": "modelDevelopment_zona3_M_rev.ipynb",
      "provenance": [],
      "authorship_tag": "ABX9TyP9zn3C03Huwr5GwDfWWjr7",
      "include_colab_link": true
    },
    "kernelspec": {
      "name": "python3",
      "display_name": "Python 3"
    },
    "language_info": {
      "name": "python"
    }
  },
  "cells": [
    {
      "cell_type": "markdown",
      "metadata": {
        "id": "view-in-github",
        "colab_type": "text"
      },
      "source": [
        "<a href=\"https://colab.research.google.com/github/JCaballerot/Consultoria_ASEI/blob/main/Model_deployment/Modelos/modelDevelopment_zona3_M_rev.ipynb\" target=\"_parent\"><img src=\"https://colab.research.google.com/assets/colab-badge.svg\" alt=\"Open In Colab\"/></a>"
      ]
    },
    {
      "cell_type": "markdown",
      "source": [
        "\n",
        "<h1 align=center><font size = 5>Forecasting Miraflores Zona 3\n",
        "</font></h1>\n",
        "\n",
        "---"
      ],
      "metadata": {
        "id": "wOWrjKENrusD"
      }
    },
    {
      "cell_type": "markdown",
      "source": [
        "# Librerias\n",
        "\n"
      ],
      "metadata": {
        "id": "xO2RBVEFr9tN"
      }
    },
    {
      "cell_type": "markdown",
      "source": [
        "Cargamos las librerías que utilizaremos en el proyecto"
      ],
      "metadata": {
        "id": "fmv7x-WEwv2n"
      }
    },
    {
      "cell_type": "code",
      "execution_count": null,
      "metadata": {
        "id": "Q11_t7hjr3fD"
      },
      "outputs": [],
      "source": [
        "import pandas as pd\n",
        "\n",
        "import warnings                                  \n",
        "warnings.filterwarnings('ignore')\n",
        "\n",
        "import numpy as np                               \n",
        "import pandas as pd                              \n",
        "import matplotlib.pyplot as plt                  \n",
        "import seaborn as sns                            \n",
        "\n",
        "from sklearn.metrics import *"
      ]
    },
    {
      "cell_type": "code",
      "source": [
        "def plotMovingAverage(series, window, plot_intervals=False, scale=1.96, plot_anomalies=False):\n",
        "\n",
        "    \"\"\"\n",
        "        series - dataframe with timeseries\n",
        "        window - rolling window size \n",
        "        plot_intervals - show confidence intervals\n",
        "        plot_anomalies - show anomalies \n",
        "\n",
        "    \"\"\"\n",
        "    rolling_mean = series.rolling(window=window).mean()\n",
        "\n",
        "    plt.figure(figsize=(15,5))\n",
        "    plt.title(\"Moving average\\n window size = {}\".format(window))\n",
        "    plt.plot(rolling_mean, \"g\", label=\"Rolling mean trend\",  color='red')\n",
        "\n",
        "    # Plot confidence intervals for smoothed values\n",
        "    if plot_intervals:\n",
        "        mae = mean_absolute_error(series[window:], rolling_mean[window:])\n",
        "        deviation = np.std(series[window:] - rolling_mean[window:])\n",
        "        lower_bond = rolling_mean - (mae + scale * deviation)\n",
        "        upper_bond = rolling_mean + (mae + scale * deviation)\n",
        "        plt.plot(upper_bond, \"r--\", label=\"Upper Bond / Lower Bond\")\n",
        "        plt.plot(lower_bond, \"r--\")\n",
        "        \n",
        "        # Having the intervals, find abnormal values\n",
        "        if plot_anomalies:\n",
        "            anomalies = pd.DataFrame(index=series.index, columns=series.columns)\n",
        "            anomalies[series<lower_bond] = series[series<lower_bond]\n",
        "            anomalies[series>upper_bond] = series[series>upper_bond]\n",
        "            plt.plot(anomalies, \"ro\", markersize=10)\n",
        "        \n",
        "    plt.plot(series[window:], label=\"Actual values\")\n",
        "    plt.legend(loc=\"upper left\")\n",
        "    plt.grid(True)\n",
        "    plt.xticks(rotation=90)"
      ],
      "metadata": {
        "id": "bJ0O_ADRtF1D"
      },
      "execution_count": null,
      "outputs": []
    },
    {
      "cell_type": "markdown",
      "source": [
        "# Data"
      ],
      "metadata": {
        "id": "ehWhNPfVsKFl"
      }
    },
    {
      "cell_type": "markdown",
      "source": [
        "Importamos la información desde un archivo csv cargado en el file temporal y nos quedamos con los datos de la zona 2"
      ],
      "metadata": {
        "id": "6YGbfWavw0hC"
      }
    },
    {
      "cell_type": "code",
      "source": [
        "target = 'Venta_zona_3'\n",
        "\n",
        "pddf = pd.read_csv('datos_miraflores.csv',delimiter=',', index_col=['codmes'], parse_dates=['codmes']).fillna(0)\n",
        "pddf = pddf[[target]]\n",
        "\n",
        "pddf[target+'_lag2'] = pddf[target].shift(2)\n",
        "pddf[target+'_lag3'] = pddf[target].shift(3)\n"
      ],
      "metadata": {
        "id": "EB04t1HTsFVK"
      },
      "execution_count": null,
      "outputs": []
    },
    {
      "cell_type": "code",
      "source": [
        "macro = pd.read_csv('macros_corregido.csv', index_col=['codmes'], parse_dates=['codmes']).drop(columns=['imp_mater_const'])\n",
        "variables_macro = macro.columns.tolist()\n",
        "macro[variables_macro] = macro[variables_macro].shift(3)\n"
      ],
      "metadata": {
        "id": "hGMDtOnyPe2s"
      },
      "execution_count": null,
      "outputs": []
    },
    {
      "cell_type": "code",
      "source": [
        "asei = pd.read_csv('variables_asei_new.csv', delimiter = ';', index_col=['codmes'], parse_dates=['codmes'])\n",
        "variables_asei = asei.columns.tolist()\n",
        "asei[variables_asei] = asei[variables_asei].shift(2)"
      ],
      "metadata": {
        "id": "4QoNKpoRi1Tm"
      },
      "execution_count": null,
      "outputs": []
    },
    {
      "cell_type": "code",
      "source": [
        "\n",
        "pddf2 = pd.merge(pddf, macro, on = 'codmes', how='left').copy()\n",
        "pddf2 = pd.merge(pddf2, asei, on = 'codmes', how='left')\n",
        "\n",
        "variables = variables_macro + variables_asei + [target+'_lag2', target+'_lag3']\n"
      ],
      "metadata": {
        "id": "sRvQT93-PkXc"
      },
      "execution_count": null,
      "outputs": []
    },
    {
      "cell_type": "code",
      "source": [
        "pddfRes = pddf2.copy()\n",
        "\n",
        "pddfRes[[x + '_avg3' for x in variables]] = pddfRes[variables].rolling(3, min_periods = 3).mean()\n",
        "pddfRes[[x + '_avg6' for x in variables]] = pddfRes[variables].rolling(6, min_periods = 6).mean()\n",
        "\n",
        "pddfRes = pddfRes.iloc[8:]\n"
      ],
      "metadata": {
        "id": "5drxxUodV7Kx"
      },
      "execution_count": null,
      "outputs": []
    },
    {
      "cell_type": "code",
      "source": [
        "for x in variables:\n",
        "  pddfRes[x + '_rat3to6'] = pddfRes[x + '_avg3']/pddfRes[x + '_avg6']\n",
        "  "
      ],
      "metadata": {
        "id": "KsBW-KibY-OQ"
      },
      "execution_count": null,
      "outputs": []
    },
    {
      "cell_type": "code",
      "source": [
        "\n",
        "variables_f = variables_macro +\\\n",
        "              variables_asei +\\\n",
        "              [target+'_lag2', target+'_lag3'] +\\\n",
        "              [x + '_avg3' for x in variables] +\\\n",
        "              [x + '_avg6' for x in variables] +\\\n",
        "              [x + '_rat3to6' for x in variables]\n"
      ],
      "metadata": {
        "id": "ozekvxpSXpLl"
      },
      "execution_count": null,
      "outputs": []
    },
    {
      "cell_type": "code",
      "source": [
        "pddfRes['intercept'] = 1"
      ],
      "metadata": {
        "id": "cG0MGJkQi8pX"
      },
      "execution_count": null,
      "outputs": []
    },
    {
      "cell_type": "code",
      "source": [
        "test_size = 2\n",
        "\n",
        "data = pddfRes.copy().dropna()\n",
        "X_train = pddfRes[:-test_size].dropna()\n",
        "X_test  = pddfRes[-test_size:].dropna()\n"
      ],
      "metadata": {
        "id": "r5toDAY8ul8i"
      },
      "execution_count": null,
      "outputs": []
    },
    {
      "cell_type": "code",
      "source": [
        "# Estandarización\n",
        "\n",
        "X_train[[x + '_std' for x in variables_f]] = (X_train[variables_f] - X_train[variables_f].mean())/X_train[variables_f].std()\n",
        "X_test[[x + '_std'  for x in variables_f]] = (X_test[variables_f]  - X_train[variables_f].mean())/X_train[variables_f].std()\n",
        "data[[x + '_std'    for x in variables_f]] = (data[variables_f]    - X_train[variables_f].mean())/X_train[variables_f].std()\n",
        "\n"
      ],
      "metadata": {
        "id": "lySUEA2MveWP"
      },
      "execution_count": null,
      "outputs": []
    },
    {
      "cell_type": "code",
      "source": [
        "X_train[['ind_prec_inf_suby_bienes_avg3', 'precio_venta_total_rat3to6']].mean()"
      ],
      "metadata": {
        "colab": {
          "base_uri": "https://localhost:8080/"
        },
        "id": "50-m9akHtHbR",
        "outputId": "793243c0-7fe1-442d-a6c0-ede93c26088b"
      },
      "execution_count": null,
      "outputs": [
        {
          "output_type": "execute_result",
          "data": {
            "text/plain": [
              "ind_prec_inf_suby_bienes_avg3    0.19257\n",
              "precio_venta_total_rat3to6       1.00568\n",
              "dtype: float64"
            ]
          },
          "metadata": {},
          "execution_count": 15
        }
      ]
    },
    {
      "cell_type": "code",
      "source": [
        "X_train[['ind_prec_inf_suby_bienes_avg3', 'precio_venta_total_rat3to6']].std()"
      ],
      "metadata": {
        "colab": {
          "base_uri": "https://localhost:8080/"
        },
        "id": "NOyi4NNmtMkH",
        "outputId": "50703820-7951-4942-a220-2ae38c9e53bb"
      },
      "execution_count": null,
      "outputs": [
        {
          "output_type": "execute_result",
          "data": {
            "text/plain": [
              "ind_prec_inf_suby_bienes_avg3    0.102632\n",
              "precio_venta_total_rat3to6       0.013322\n",
              "dtype: float64"
            ]
          },
          "metadata": {},
          "execution_count": 16
        }
      ]
    },
    {
      "cell_type": "markdown",
      "source": [
        "# Forecasting"
      ],
      "metadata": {
        "id": "c39Drzwvh8Nu"
      }
    },
    {
      "cell_type": "markdown",
      "source": [
        "### Exploracion"
      ],
      "metadata": {
        "id": "SFdpMnUJK7SQ"
      }
    },
    {
      "cell_type": "markdown",
      "source": [
        "Muestreamos la data en train y test bajo metodología OOT"
      ],
      "metadata": {
        "id": "MmAh_jjpw-5L"
      }
    },
    {
      "cell_type": "code",
      "source": [
        "plotMovingAverage(data[target], 6)"
      ],
      "metadata": {
        "id": "DGQ8sqoUtgKj"
      },
      "execution_count": null,
      "outputs": []
    },
    {
      "cell_type": "code",
      "source": [
        "plotMovingAverage(data[target], 6, plot_intervals=True, scale=1.64, plot_anomalies=False)"
      ],
      "metadata": {
        "id": "LmGMfjvgsxQ6"
      },
      "execution_count": null,
      "outputs": []
    },
    {
      "cell_type": "code",
      "source": [
        "from statsmodels.tsa.stattools import adfuller\n",
        "from numpy import log\n",
        "\n",
        "result = adfuller(X_train[target].dropna())\n",
        "print('ADF Statistic: %f' % result[0])\n",
        "print('p-value: %f' % result[1])"
      ],
      "metadata": {
        "id": "sd3XB2B4y5Pi"
      },
      "execution_count": null,
      "outputs": []
    },
    {
      "cell_type": "markdown",
      "source": [
        "Dado que el valor p es mayor que el nivel de significancia (0,05), diferenciemos las series y veamos cómo se ve el gráfico de autocorrelación."
      ],
      "metadata": {
        "id": "-6jKRpUZbR3E"
      }
    },
    {
      "cell_type": "code",
      "source": [
        "from statsmodels.graphics.tsaplots import plot_acf, plot_pacf\n",
        "import matplotlib.pyplot as plt\n",
        "plt.rcParams.update({'figure.figsize':(9,7), 'figure.dpi':120})\n",
        "\n",
        "\n",
        "# Original Series\n",
        "fig, axes = plt.subplots(3, 2, sharex=True)\n",
        "axes[0, 0].plot(X_train[target]); axes[0, 0].set_title('Original Series')\n",
        "plot_acf(X_train[target], ax=axes[0, 1])\n",
        "\n",
        "# 1st Differencing\n",
        "axes[1, 0].plot(X_train[target].diff()); axes[1, 0].set_title('1st Order Differencing')\n",
        "plot_acf(X_train[target].diff().dropna(), ax=axes[1, 1])\n",
        "\n",
        "# 2nd Differencing\n",
        "axes[2, 0].plot(X_train[target].diff().diff()); axes[2, 0].set_title('2nd Order Differencing')\n",
        "plot_acf(X_train[target].diff().diff().dropna(), ax=axes[2, 1])\n",
        "\n",
        "plt.xticks(rotation=90)\n",
        "plt.show()"
      ],
      "metadata": {
        "id": "Wp8rwf7pbUOt"
      },
      "execution_count": null,
      "outputs": []
    },
    {
      "cell_type": "markdown",
      "source": [
        "Por los datos anteriores, podemos ver que la serie de tiempo alcanza la estacionariedad con dos órdenes de diferenciación."
      ],
      "metadata": {
        "id": "Kk8cEdtycESp"
      }
    },
    {
      "cell_type": "code",
      "source": [
        "# PACF plot of 1st differenced series\n",
        "plt.rcParams.update({'figure.figsize':(9,3), 'figure.dpi':120})\n",
        "\n",
        "fig, axes = plt.subplots(1, 2, sharex=True)\n",
        "axes[0].plot(X_train[target].diff()); axes[0].set_title('1st Differencing')\n",
        "axes[1].set(ylim=(0,5))\n",
        "plot_pacf(X_train[target].diff().dropna(), ax=axes[1])\n",
        "\n",
        "plt.xticks(rotation=90)\n",
        "plt.show()"
      ],
      "metadata": {
        "id": "waUyHRZ6cDPq"
      },
      "execution_count": null,
      "outputs": []
    },
    {
      "cell_type": "markdown",
      "source": [
        "Podemos ver que el retraso 1 de PACF es bastante significativo ya que está muy por encima de la línea de significancia. Entonces, fijaremos el valor de p como 1."
      ],
      "metadata": {
        "id": "c7vR1WjQJxNf"
      }
    },
    {
      "cell_type": "markdown",
      "source": [
        "### MA (q) "
      ],
      "metadata": {
        "id": "qtYLRSz2LyGl"
      }
    },
    {
      "cell_type": "code",
      "source": [
        "from statsmodels.graphics.tsaplots import plot_acf, plot_pacf\n",
        "plt.rcParams.update({'figure.figsize':(9,3), 'figure.dpi':120})\n",
        "\n",
        "fig, axes = plt.subplots(1, 2, sharex=True)\n",
        "axes[0].plot(X_train[target].diff()); axes[0].set_title('1st Differencing')\n",
        "axes[1].set(ylim=(0,1.2))\n",
        "plot_acf(X_train[target].diff().dropna(), ax=axes[1])\n",
        "plt.xticks(rotation=90)\n",
        "plt.show()\n"
      ],
      "metadata": {
        "id": "AIPrZWtgKoGc"
      },
      "execution_count": null,
      "outputs": []
    },
    {
      "cell_type": "markdown",
      "source": [
        "Podemos ver que un 1 retraso están muy por encima de la línea de significación. Entonces, fijaremos q como 1. Si hay alguna duda, iremos con el modelo más simple que explica suficientemente la Y"
      ],
      "metadata": {
        "id": "SFLPUMXEK4uq"
      }
    },
    {
      "cell_type": "markdown",
      "source": [
        "### Arima"
      ],
      "metadata": {
        "id": "sF3Nzhu_GwTN"
      }
    },
    {
      "cell_type": "markdown",
      "source": [
        "Ahora, hemos determinado los valores de p, d y q. Disponemos de todo lo necesario para adaptarse al modelo ARIMA. Usaremos la implementación ARIMA() en el paquete statsmodels.\n",
        "(p,d,q)"
      ],
      "metadata": {
        "id": "digPsRpioj96"
      }
    },
    {
      "cell_type": "code",
      "source": [
        "# Plot\n",
        "fig, axes = plt.subplots(2, 1, figsize=(10,5), dpi=100, sharex=True)\n",
        "\n",
        "# Usual Differencing\n",
        "axes[0].plot(X_train[target], label='Original Series')\n",
        "axes[0].plot(X_train[target].diff(1), label='Usual Differencing')\n",
        "axes[0].set_title('Usual Differencing')\n",
        "axes[0].legend(loc='upper left', fontsize=10)\n",
        "\n",
        "\n",
        "# Seasonal Differencing\n",
        "axes[1].plot(X_train[target], label='Original Series')\n",
        "axes[1].plot(X_train[target].diff(12), label='Seasonal Differencing', color='green')\n",
        "axes[1].set_title('Seasonal Differencing')\n",
        "plt.legend(loc='upper left', fontsize=10)\n",
        "plt.suptitle('Ventas Zona 3', fontsize=16)\n",
        "plt.xticks(rotation=90)\n",
        "plt.show()"
      ],
      "metadata": {
        "id": "1fbRfc3fqt-2"
      },
      "execution_count": null,
      "outputs": []
    },
    {
      "cell_type": "code",
      "source": [
        "from statsmodels.tsa.arima_model import ARIMA\n",
        "\n",
        "features = [target + '_lag2_avg3']\n",
        "\n",
        "# 2,1,1 ARIMA Model\n",
        "model = ARIMA(endog = X_train[target], \n",
        "              exog = X_train[features],  \n",
        "              order=(3,2,1))\n",
        "\n",
        "model_fit = model.fit()\n",
        "print(model_fit.summary())"
      ],
      "metadata": {
        "colab": {
          "base_uri": "https://localhost:8080/"
        },
        "id": "yP7aBQS2jU1q",
        "outputId": "73034c99-65e2-4852-8699-3c4b9bcaa078"
      },
      "execution_count": null,
      "outputs": [
        {
          "output_type": "stream",
          "name": "stderr",
          "text": [
            "/usr/local/lib/python3.7/dist-packages/statsmodels/tsa/base/tsa_model.py:215: ValueWarning: An unsupported index was provided and will be ignored when e.g. forecasting.\n",
            "  ' ignored when e.g. forecasting.', ValueWarning)\n",
            "/usr/local/lib/python3.7/dist-packages/statsmodels/tsa/base/tsa_model.py:215: ValueWarning: An unsupported index was provided and will be ignored when e.g. forecasting.\n",
            "  ' ignored when e.g. forecasting.', ValueWarning)\n"
          ]
        },
        {
          "output_type": "stream",
          "name": "stdout",
          "text": [
            "                             ARIMA Model Results                              \n",
            "==============================================================================\n",
            "Dep. Variable:        D2.Venta_zona_3   No. Observations:                   43\n",
            "Model:                 ARIMA(3, 2, 1)   Log Likelihood                -143.487\n",
            "Method:                       css-mle   S.D. of innovations              6.417\n",
            "Date:                Sun, 24 Jul 2022   AIC                            300.974\n",
            "Time:                        19:48:05   BIC                            313.303\n",
            "Sample:                             2   HQIC                           305.521\n",
            "                                                                              \n",
            "==========================================================================================\n",
            "                             coef    std err          z      P>|z|      [0.025      0.975]\n",
            "------------------------------------------------------------------------------------------\n",
            "const                      0.4113      0.353      1.164      0.252      -0.282       1.104\n",
            "Venta_zona_3_lag2_avg3    -0.0281      0.028     -1.019      0.315      -0.082       0.026\n",
            "ar.L1.D2.Venta_zona_3     -0.4224      0.155     -2.729      0.010      -0.726      -0.119\n",
            "ar.L2.D2.Venta_zona_3     -0.2348      0.178     -1.319      0.195      -0.584       0.114\n",
            "ar.L3.D2.Venta_zona_3     -0.0782      0.172     -0.455      0.652      -0.415       0.259\n",
            "ma.L1.D2.Venta_zona_3     -1.0000      0.063    -15.872      0.000      -1.123      -0.877\n",
            "                                    Roots                                    \n",
            "=============================================================================\n",
            "                  Real          Imaginary           Modulus         Frequency\n",
            "-----------------------------------------------------------------------------\n",
            "AR.1           -0.1331           -2.1579j            2.1620           -0.2598\n",
            "AR.2           -0.1331           +2.1579j            2.1620            0.2598\n",
            "AR.3           -2.7361           -0.0000j            2.7361           -0.5000\n",
            "MA.1            1.0000           +0.0000j            1.0000            0.0000\n",
            "-----------------------------------------------------------------------------\n"
          ]
        }
      ]
    },
    {
      "cell_type": "code",
      "source": [
        "\n",
        "import pickle\n",
        "pickle.dump(model_fit, open(\"./arima_mz3.ml\", 'wb'))\n"
      ],
      "metadata": {
        "id": "4CVQeGiJwLqj"
      },
      "execution_count": null,
      "outputs": []
    },
    {
      "cell_type": "code",
      "source": [
        "\n",
        "fc, se, conf  = model_fit.forecast(test_size, exog = X_test[features], alpha=0.05)\n",
        "model_res = model_fit.predict(start = X_train.index[2], \n",
        "                                end = X_train.index[-1], dynamic=False, typ = 'levels')\n",
        "\n",
        "data_res = data.copy()\n",
        "data_res['venta_predicted'] = model_res\n",
        "data_res.iloc[-test_size:]['venta_predicted'] = fc\n",
        "\n",
        "sns.lineplot(data = data_res[[target, 'venta_predicted']])\n"
      ],
      "metadata": {
        "colab": {
          "base_uri": "https://localhost:8080/",
          "height": 296
        },
        "id": "vgMQsSHIvka6",
        "outputId": "d674602e-d3d2-40fd-96a2-b862f7a6af71"
      },
      "execution_count": null,
      "outputs": [
        {
          "output_type": "execute_result",
          "data": {
            "text/plain": [
              "<matplotlib.axes._subplots.AxesSubplot at 0x7f9aee509190>"
            ]
          },
          "metadata": {},
          "execution_count": 22
        },
        {
          "output_type": "display_data",
          "data": {
            "text/plain": [
              "<Figure size 432x288 with 1 Axes>"
            ],
            "image/png": "[encoded data removed]"
          },
          "metadata": {
            "needs_background": "light"
          }
        }
      ]
    },
    {
      "cell_type": "code",
      "source": [
        "# Plot residual errors\n",
        "residuals = pd.DataFrame(model_fit.resid)\n",
        "fig, ax = plt.subplots(1,2)\n",
        "residuals.plot(title=\"Residuals\", ax=ax[0])\n",
        "residuals.plot(kind='kde', title='Density', ax=ax[1])\n",
        "plt.show()"
      ],
      "metadata": {
        "id": "wrHMnzY2totP"
      },
      "execution_count": null,
      "outputs": []
    },
    {
      "cell_type": "markdown",
      "source": [
        "Los errores residuales parecen correctos con una media cercana a cero y una varianza uniforme. Grafiquemos los valores reales contra los valores ajustados usando plot_predict()."
      ],
      "metadata": {
        "id": "msO1RWa3t1JN"
      }
    },
    {
      "cell_type": "code",
      "source": [
        "pd.set_option('display.max_rows', 500)"
      ],
      "metadata": {
        "id": "u2eru0vha5Kv"
      },
      "execution_count": null,
      "outputs": []
    },
    {
      "cell_type": "code",
      "source": [
        "data_res[['venta_predicted',target]]"
      ],
      "metadata": {
        "id": "00xoxP7B_fEw"
      },
      "execution_count": null,
      "outputs": []
    },
    {
      "cell_type": "code",
      "source": [
        "data_res[['venta_predicted',target]].to_csv('results_JM_zona2.csv', index=0)"
      ],
      "metadata": {
        "id": "awzlSvLia729"
      },
      "execution_count": null,
      "outputs": []
    },
    {
      "cell_type": "code",
      "source": [
        "\n",
        "data = data_res.copy().dropna()\n",
        "X_train = data_res[:-test_size].dropna()\n",
        "X_test  = data_res[-test_size:].dropna()\n",
        "\n"
      ],
      "metadata": {
        "id": "cvQQWFp_hakY"
      },
      "execution_count": null,
      "outputs": []
    },
    {
      "cell_type": "code",
      "source": [
        "X_test[['venta_predicted', target]]"
      ],
      "metadata": {
        "id": "PrHUJV_phlQF"
      },
      "execution_count": null,
      "outputs": []
    },
    {
      "cell_type": "code",
      "source": [
        "X_test[['venta_predicted', target]].corr()**2"
      ],
      "metadata": {
        "id": "Wt6n7s2_hB5l",
        "colab": {
          "base_uri": "https://localhost:8080/",
          "height": 112
        },
        "outputId": "b676c603-104b-4c1f-da87-7d1d92b5824e"
      },
      "execution_count": null,
      "outputs": [
        {
          "output_type": "execute_result",
          "data": {
            "text/plain": [
              "                 venta_predicted  Venta_zona_2\n",
              "venta_predicted              1.0           1.0\n",
              "Venta_zona_2                 1.0           1.0"
            ],
            "text/html": [
              "\n",
              "  <div id=\"df-e0606805-88ec-4085-b58b-c7dc3e8c62f2\">\n",
              "    <div class=\"colab-df-container\">\n",
              "      <div>\n",
              "<style scoped>\n",
              "    .dataframe tbody tr th:only-of-type {\n",
              "        vertical-align: middle;\n",
              "    }\n",
              "\n",
              "    .dataframe tbody tr th {\n",
              "        vertical-align: top;\n",
              "    }\n",
              "\n",
              "    .dataframe thead th {\n",
              "        text-align: right;\n",
              "    }\n",
              "</style>\n",
              "<table border=\"1\" class=\"dataframe\">\n",
              "  <thead>\n",
              "    <tr style=\"text-align: right;\">\n",
              "      <th></th>\n",
              "      <th>venta_predicted</th>\n",
              "      <th>Venta_zona_2</th>\n",
              "    </tr>\n",
              "  </thead>\n",
              "  <tbody>\n",
              "    <tr>\n",
              "      <th>venta_predicted</th>\n",
              "      <td>1.0</td>\n",
              "      <td>1.0</td>\n",
              "    </tr>\n",
              "    <tr>\n",
              "      <th>Venta_zona_2</th>\n",
              "      <td>1.0</td>\n",
              "      <td>1.0</td>\n",
              "    </tr>\n",
              "  </tbody>\n",
              "</table>\n",
              "</div>\n",
              "      <button class=\"colab-df-convert\" onclick=\"convertToInteractive('df-e0606805-88ec-4085-b58b-c7dc3e8c62f2')\"\n",
              "              title=\"Convert this dataframe to an interactive table.\"\n",
              "              style=\"display:none;\">\n",
              "        \n",
              "  <svg xmlns=\"http://www.w3.org/2000/svg\" height=\"24px\"viewBox=\"0 0 24 24\"\n",
              "       width=\"24px\">\n",
              "    <path d=\"M0 0h24v24H0V0z\" fill=\"none\"/>\n",
              "    <path d=\"M18.56 5.44l.94 2.06.94-2.06 2.06-.94-2.06-.94-.94-2.06-.94 2.06-2.06.94zm-11 1L8.5 8.5l.94-2.06 2.06-.94-2.06-.94L8.5 2.5l-.94 2.06-2.06.94zm10 10l.94 2.06.94-2.06 2.06-.94-2.06-.94-.94-2.06-.94 2.06-2.06.94z\"/><path d=\"M17.41 7.96l-1.37-1.37c-.4-.4-.92-.59-1.43-.59-.52 0-1.04.2-1.43.59L10.3 9.45l-7.72 7.72c-.78.78-.78 2.05 0 2.83L4 21.41c.39.39.9.59 1.41.59.51 0 1.02-.2 1.41-.59l7.78-7.78 2.81-2.81c.8-.78.8-2.07 0-2.86zM5.41 20L4 18.59l7.72-7.72 1.47 1.35L5.41 20z\"/>\n",
              "  </svg>\n",
              "      </button>\n",
              "      \n",
              "  <style>\n",
              "    .colab-df-container {\n",
              "      display:flex;\n",
              "      flex-wrap:wrap;\n",
              "      gap: 12px;\n",
              "    }\n",
              "\n",
              "    .colab-df-convert {\n",
              "      background-color: #E8F0FE;\n",
              "      border: none;\n",
              "      border-radius: 50%;\n",
              "      cursor: pointer;\n",
              "      display: none;\n",
              "      fill: #1967D2;\n",
              "      height: 32px;\n",
              "      padding: 0 0 0 0;\n",
              "      width: 32px;\n",
              "    }\n",
              "\n",
              "    .colab-df-convert:hover {\n",
              "      background-color: #E2EBFA;\n",
              "      box-shadow: 0px 1px 2px rgba(60, 64, 67, 0.3), 0px 1px 3px 1px rgba(60, 64, 67, 0.15);\n",
              "      fill: #174EA6;\n",
              "    }\n",
              "\n",
              "    [theme=dark] .colab-df-convert {\n",
              "      background-color: #3B4455;\n",
              "      fill: #D2E3FC;\n",
              "    }\n",
              "\n",
              "    [theme=dark] .colab-df-convert:hover {\n",
              "      background-color: #434B5C;\n",
              "      box-shadow: 0px 1px 3px 1px rgba(0, 0, 0, 0.15);\n",
              "      filter: drop-shadow(0px 1px 2px rgba(0, 0, 0, 0.3));\n",
              "      fill: #FFFFFF;\n",
              "    }\n",
              "  </style>\n",
              "\n",
              "      <script>\n",
              "        const buttonEl =\n",
              "          document.querySelector('#df-e0606805-88ec-4085-b58b-c7dc3e8c62f2 button.colab-df-convert');\n",
              "        buttonEl.style.display =\n",
              "          google.colab.kernel.accessAllowed ? 'block' : 'none';\n",
              "\n",
              "        async function convertToInteractive(key) {\n",
              "          const element = document.querySelector('#df-e0606805-88ec-4085-b58b-c7dc3e8c62f2');\n",
              "          const dataTable =\n",
              "            await google.colab.kernel.invokeFunction('convertToInteractive',\n",
              "                                                     [key], {});\n",
              "          if (!dataTable) return;\n",
              "\n",
              "          const docLinkHtml = 'Like what you see? Visit the ' +\n",
              "            '<a target=\"_blank\" href=https://colab.research.google.com/notebooks/data_table.ipynb>data table notebook</a>'\n",
              "            + ' to learn more about interactive tables.';\n",
              "          element.innerHTML = '';\n",
              "          dataTable['output_type'] = 'display_data';\n",
              "          await google.colab.output.renderOutput(dataTable, element);\n",
              "          const docLink = document.createElement('div');\n",
              "          docLink.innerHTML = docLinkHtml;\n",
              "          element.appendChild(docLink);\n",
              "        }\n",
              "      </script>\n",
              "    </div>\n",
              "  </div>\n",
              "  "
            ]
          },
          "metadata": {},
          "execution_count": 27
        }
      ]
    },
    {
      "cell_type": "markdown",
      "source": [
        "# Inputs Regresión"
      ],
      "metadata": {
        "id": "-aJhFXWyarhB"
      }
    },
    {
      "cell_type": "code",
      "source": [
        "correlations = pd.DataFrame()\n",
        "\n",
        "for col in variables_f:\n",
        "  data_temp = X_train[[target, col]]\n",
        "  correlation = data_temp[col].corr(data_temp[target])\n",
        "  temp = pd.DataFrame({'target': [target],'variable': [col], 'correlacion' : [correlation]})\n",
        "  correlations = correlations.append(temp)\n",
        "\n",
        "correlations['correlacion_abs'] = correlations.correlacion.apply(lambda x: abs(x))\n",
        "correlations['r2'] = correlations.correlacion.apply(lambda x: x**2)\n",
        "\n",
        "correlations.sort_values(by = 'correlacion_abs', ascending = False, inplace = True)\n"
      ],
      "metadata": {
        "id": "aX2Q9WPLatzY"
      },
      "execution_count": null,
      "outputs": []
    },
    {
      "cell_type": "code",
      "source": [
        "correlations.head(50)"
      ],
      "metadata": {
        "id": "9wHR7RLjboki",
        "colab": {
          "base_uri": "https://localhost:8080/",
          "height": 1000
        },
        "outputId": "71f11f8a-c78a-4e63-d457-6cda0c853c8e"
      },
      "execution_count": null,
      "outputs": [
        {
          "output_type": "execute_result",
          "data": {
            "text/plain": [
              "         target                                  variable  correlacion  \\\n",
              "0  Venta_zona_3             ind_prec_inf_suby_bienes_avg3     0.642022   \n",
              "0  Venta_zona_3                  ind_prec_inf_suby_bienes     0.597889   \n",
              "0  Venta_zona_3                  ind_preci_import_rat3to6     0.585713   \n",
              "0  Venta_zona_3  ind_prec_cons_lima_met_alim_ener_rat3to6     0.493782   \n",
              "0  Venta_zona_3             ind_prec_inf_suby_bienes_avg6     0.493462   \n",
              "0  Venta_zona_3                         Venta_zona_3_lag2     0.478168   \n",
              "0  Venta_zona_3                ind_tipo_camb_var_mes_avg6     0.455536   \n",
              "0  Venta_zona_3               tip_camb_banc_venta_rat3to6     0.440978   \n",
              "0  Venta_zona_3                    Venta_zona_3_lag2_avg3     0.434575   \n",
              "0  Venta_zona_3                          ind_preci_import     0.433060   \n",
              "0  Venta_zona_3                       tip_camb_banc_venta     0.420801   \n",
              "0  Venta_zona_3                      ind_prec_med_rat3to6     0.417067   \n",
              "0  Venta_zona_3                          tasa_interes_act    -0.415591   \n",
              "0  Venta_zona_3                  tip_camb_banc_venta_avg3     0.411414   \n",
              "0  Venta_zona_3          ind_prec_inf_suby_bienes_rat3to6     0.408775   \n",
              "0  Venta_zona_3                     ind_preci_import_avg3     0.407724   \n",
              "0  Venta_zona_3                     tasa_interes_act_avg3    -0.402766   \n",
              "0  Venta_zona_3                   var_porc_PBI_const_avg6     0.395575   \n",
              "0  Venta_zona_3                    Venta_zona_3_lag2_avg6     0.393597   \n",
              "0  Venta_zona_3                  tip_camb_banc_venta_avg6     0.390824   \n",
              "0  Venta_zona_3                  tasa_interes_act_rat3to6    -0.374517   \n",
              "0  Venta_zona_3                ind_coyun_cons_cement_avg6     0.373166   \n",
              "0  Venta_zona_3             var_porc_demanda_interna_avg6     0.369872   \n",
              "0  Venta_zona_3                         Venta_zona_3_lag3     0.369275   \n",
              "0  Venta_zona_3                 ind_prec_12_distr_rat3to6     0.368368   \n",
              "0  Venta_zona_3                     ind_preci_import_avg6     0.352750   \n",
              "0  Venta_zona_3                     tasa_interes_act_avg6    -0.350518   \n",
              "0  Venta_zona_3                         var_porc_PBI_avg6     0.349150   \n",
              "0  Venta_zona_3          ind_prec_cons_lima_met_alim_ener     0.348109   \n",
              "0  Venta_zona_3                         ind_prec_alt_avg3     0.336981   \n",
              "0  Venta_zona_3     ind_prec_cons_lima_met_alim_ener_avg3     0.335661   \n",
              "0  Venta_zona_3                    Venta_zona_3_lag3_avg3     0.332217   \n",
              "0  Venta_zona_3                    ind_prec_12_distr_avg3     0.331944   \n",
              "0  Venta_zona_3                      ind_prec_alt_rat3to6     0.329029   \n",
              "0  Venta_zona_3                              ind_prec_alt     0.312487   \n",
              "0  Venta_zona_3                         ind_prec_alt_avg6     0.312200   \n",
              "0  Venta_zona_3                         ind_prec_med_avg3     0.311309   \n",
              "0  Venta_zona_3                         ind_prec_12_distr     0.310358   \n",
              "0  Venta_zona_3                    Venta_zona_3_lag3_avg6     0.309382   \n",
              "0  Venta_zona_3                    ind_prec_12_distr_avg6     0.306327   \n",
              "0  Venta_zona_3     ind_prec_cons_lima_met_alim_ener_avg6     0.300241   \n",
              "0  Venta_zona_3                          flg_feia_rat3to6     0.300222   \n",
              "0  Venta_zona_3                              ind_prec_med     0.298863   \n",
              "0  Venta_zona_3                             flg_feia_avg3     0.290320   \n",
              "0  Venta_zona_3                         ind_prec_med_avg6     0.282588   \n",
              "0  Venta_zona_3                precio_venta_total_rat3to6    -0.275624   \n",
              "0  Venta_zona_3                    precio_venta_zon1_avg6     0.272688   \n",
              "0  Venta_zona_3                precio_oferta_zon2_rat3to6     0.252109   \n",
              "0  Venta_zona_3                            prod_ener_lima     0.251503   \n",
              "0  Venta_zona_3                 Venta_zona_3_lag2_rat3to6     0.251103   \n",
              "\n",
              "   correlacion_abs        r2  \n",
              "0         0.642022  0.412192  \n",
              "0         0.597889  0.357472  \n",
              "0         0.585713  0.343059  \n",
              "0         0.493782  0.243821  \n",
              "0         0.493462  0.243505  \n",
              "0         0.478168  0.228645  \n",
              "0         0.455536  0.207513  \n",
              "0         0.440978  0.194462  \n",
              "0         0.434575  0.188855  \n",
              "0         0.433060  0.187541  \n",
              "0         0.420801  0.177074  \n",
              "0         0.417067  0.173945  \n",
              "0         0.415591  0.172716  \n",
              "0         0.411414  0.169261  \n",
              "0         0.408775  0.167097  \n",
              "0         0.407724  0.166239  \n",
              "0         0.402766  0.162220  \n",
              "0         0.395575  0.156480  \n",
              "0         0.393597  0.154919  \n",
              "0         0.390824  0.152743  \n",
              "0         0.374517  0.140263  \n",
              "0         0.373166  0.139253  \n",
              "0         0.369872  0.136805  \n",
              "0         0.369275  0.136364  \n",
              "0         0.368368  0.135695  \n",
              "0         0.352750  0.124433  \n",
              "0         0.350518  0.122863  \n",
              "0         0.349150  0.121906  \n",
              "0         0.348109  0.121180  \n",
              "0         0.336981  0.113556  \n",
              "0         0.335661  0.112668  \n",
              "0         0.332217  0.110368  \n",
              "0         0.331944  0.110187  \n",
              "0         0.329029  0.108260  \n",
              "0         0.312487  0.097648  \n",
              "0         0.312200  0.097469  \n",
              "0         0.311309  0.096913  \n",
              "0         0.310358  0.096322  \n",
              "0         0.309382  0.095717  \n",
              "0         0.306327  0.093836  \n",
              "0         0.300241  0.090145  \n",
              "0         0.300222  0.090133  \n",
              "0         0.298863  0.089319  \n",
              "0         0.290320  0.084286  \n",
              "0         0.282588  0.079856  \n",
              "0         0.275624  0.075969  \n",
              "0         0.272688  0.074359  \n",
              "0         0.252109  0.063559  \n",
              "0         0.251503  0.063254  \n",
              "0         0.251103  0.063053  "
            ],
            "text/html": [
              "\n",
              "  <div id=\"df-f39b6ed6-4994-4a9f-b6db-44b595c57e52\">\n",
              "    <div class=\"colab-df-container\">\n",
              "      <div>\n",
              "<style scoped>\n",
              "    .dataframe tbody tr th:only-of-type {\n",
              "        vertical-align: middle;\n",
              "    }\n",
              "\n",
              "    .dataframe tbody tr th {\n",
              "        vertical-align: top;\n",
              "    }\n",
              "\n",
              "    .dataframe thead th {\n",
              "        text-align: right;\n",
              "    }\n",
              "</style>\n",
              "<table border=\"1\" class=\"dataframe\">\n",
              "  <thead>\n",
              "    <tr style=\"text-align: right;\">\n",
              "      <th></th>\n",
              "      <th>target</th>\n",
              "      <th>variable</th>\n",
              "      <th>correlacion</th>\n",
              "      <th>correlacion_abs</th>\n",
              "      <th>r2</th>\n",
              "    </tr>\n",
              "  </thead>\n",
              "  <tbody>\n",
              "    <tr>\n",
              "      <th>0</th>\n",
              "      <td>Venta_zona_3</td>\n",
              "      <td>ind_prec_inf_suby_bienes_avg3</td>\n",
              "      <td>0.642022</td>\n",
              "      <td>0.642022</td>\n",
              "      <td>0.412192</td>\n",
              "    </tr>\n",
              "    <tr>\n",
              "      <th>0</th>\n",
              "      <td>Venta_zona_3</td>\n",
              "      <td>ind_prec_inf_suby_bienes</td>\n",
              "      <td>0.597889</td>\n",
              "      <td>0.597889</td>\n",
              "      <td>0.357472</td>\n",
              "    </tr>\n",
              "    <tr>\n",
              "      <th>0</th>\n",
              "      <td>Venta_zona_3</td>\n",
              "      <td>ind_preci_import_rat3to6</td>\n",
              "      <td>0.585713</td>\n",
              "      <td>0.585713</td>\n",
              "      <td>0.343059</td>\n",
              "    </tr>\n",
              "    <tr>\n",
              "      <th>0</th>\n",
              "      <td>Venta_zona_3</td>\n",
              "      <td>ind_prec_cons_lima_met_alim_ener_rat3to6</td>\n",
              "      <td>0.493782</td>\n",
              "      <td>0.493782</td>\n",
              "      <td>0.243821</td>\n",
              "    </tr>\n",
              "    <tr>\n",
              "      <th>0</th>\n",
              "      <td>Venta_zona_3</td>\n",
              "      <td>ind_prec_inf_suby_bienes_avg6</td>\n",
              "      <td>0.493462</td>\n",
              "      <td>0.493462</td>\n",
              "      <td>0.243505</td>\n",
              "    </tr>\n",
              "    <tr>\n",
              "      <th>0</th>\n",
              "      <td>Venta_zona_3</td>\n",
              "      <td>Venta_zona_3_lag2</td>\n",
              "      <td>0.478168</td>\n",
              "      <td>0.478168</td>\n",
              "      <td>0.228645</td>\n",
              "    </tr>\n",
              "    <tr>\n",
              "      <th>0</th>\n",
              "      <td>Venta_zona_3</td>\n",
              "      <td>ind_tipo_camb_var_mes_avg6</td>\n",
              "      <td>0.455536</td>\n",
              "      <td>0.455536</td>\n",
              "      <td>0.207513</td>\n",
              "    </tr>\n",
              "    <tr>\n",
              "      <th>0</th>\n",
              "      <td>Venta_zona_3</td>\n",
              "      <td>tip_camb_banc_venta_rat3to6</td>\n",
              "      <td>0.440978</td>\n",
              "      <td>0.440978</td>\n",
              "      <td>0.194462</td>\n",
              "    </tr>\n",
              "    <tr>\n",
              "      <th>0</th>\n",
              "      <td>Venta_zona_3</td>\n",
              "      <td>Venta_zona_3_lag2_avg3</td>\n",
              "      <td>0.434575</td>\n",
              "      <td>0.434575</td>\n",
              "      <td>0.188855</td>\n",
              "    </tr>\n",
              "    <tr>\n",
              "      <th>0</th>\n",
              "      <td>Venta_zona_3</td>\n",
              "      <td>ind_preci_import</td>\n",
              "      <td>0.433060</td>\n",
              "      <td>0.433060</td>\n",
              "      <td>0.187541</td>\n",
              "    </tr>\n",
              "    <tr>\n",
              "      <th>0</th>\n",
              "      <td>Venta_zona_3</td>\n",
              "      <td>tip_camb_banc_venta</td>\n",
              "      <td>0.420801</td>\n",
              "      <td>0.420801</td>\n",
              "      <td>0.177074</td>\n",
              "    </tr>\n",
              "    <tr>\n",
              "      <th>0</th>\n",
              "      <td>Venta_zona_3</td>\n",
              "      <td>ind_prec_med_rat3to6</td>\n",
              "      <td>0.417067</td>\n",
              "      <td>0.417067</td>\n",
              "      <td>0.173945</td>\n",
              "    </tr>\n",
              "    <tr>\n",
              "      <th>0</th>\n",
              "      <td>Venta_zona_3</td>\n",
              "      <td>tasa_interes_act</td>\n",
              "      <td>-0.415591</td>\n",
              "      <td>0.415591</td>\n",
              "      <td>0.172716</td>\n",
              "    </tr>\n",
              "    <tr>\n",
              "      <th>0</th>\n",
              "      <td>Venta_zona_3</td>\n",
              "      <td>tip_camb_banc_venta_avg3</td>\n",
              "      <td>0.411414</td>\n",
              "      <td>0.411414</td>\n",
              "      <td>0.169261</td>\n",
              "    </tr>\n",
              "    <tr>\n",
              "      <th>0</th>\n",
              "      <td>Venta_zona_3</td>\n",
              "      <td>ind_prec_inf_suby_bienes_rat3to6</td>\n",
              "      <td>0.408775</td>\n",
              "      <td>0.408775</td>\n",
              "      <td>0.167097</td>\n",
              "    </tr>\n",
              "    <tr>\n",
              "      <th>0</th>\n",
              "      <td>Venta_zona_3</td>\n",
              "      <td>ind_preci_import_avg3</td>\n",
              "      <td>0.407724</td>\n",
              "      <td>0.407724</td>\n",
              "      <td>0.166239</td>\n",
              "    </tr>\n",
              "    <tr>\n",
              "      <th>0</th>\n",
              "      <td>Venta_zona_3</td>\n",
              "      <td>tasa_interes_act_avg3</td>\n",
              "      <td>-0.402766</td>\n",
              "      <td>0.402766</td>\n",
              "      <td>0.162220</td>\n",
              "    </tr>\n",
              "    <tr>\n",
              "      <th>0</th>\n",
              "      <td>Venta_zona_3</td>\n",
              "      <td>var_porc_PBI_const_avg6</td>\n",
              "      <td>0.395575</td>\n",
              "      <td>0.395575</td>\n",
              "      <td>0.156480</td>\n",
              "    </tr>\n",
              "    <tr>\n",
              "      <th>0</th>\n",
              "      <td>Venta_zona_3</td>\n",
              "      <td>Venta_zona_3_lag2_avg6</td>\n",
              "      <td>0.393597</td>\n",
              "      <td>0.393597</td>\n",
              "      <td>0.154919</td>\n",
              "    </tr>\n",
              "    <tr>\n",
              "      <th>0</th>\n",
              "      <td>Venta_zona_3</td>\n",
              "      <td>tip_camb_banc_venta_avg6</td>\n",
              "      <td>0.390824</td>\n",
              "      <td>0.390824</td>\n",
              "      <td>0.152743</td>\n",
              "    </tr>\n",
              "    <tr>\n",
              "      <th>0</th>\n",
              "      <td>Venta_zona_3</td>\n",
              "      <td>tasa_interes_act_rat3to6</td>\n",
              "      <td>-0.374517</td>\n",
              "      <td>0.374517</td>\n",
              "      <td>0.140263</td>\n",
              "    </tr>\n",
              "    <tr>\n",
              "      <th>0</th>\n",
              "      <td>Venta_zona_3</td>\n",
              "      <td>ind_coyun_cons_cement_avg6</td>\n",
              "      <td>0.373166</td>\n",
              "      <td>0.373166</td>\n",
              "      <td>0.139253</td>\n",
              "    </tr>\n",
              "    <tr>\n",
              "      <th>0</th>\n",
              "      <td>Venta_zona_3</td>\n",
              "      <td>var_porc_demanda_interna_avg6</td>\n",
              "      <td>0.369872</td>\n",
              "      <td>0.369872</td>\n",
              "      <td>0.136805</td>\n",
              "    </tr>\n",
              "    <tr>\n",
              "      <th>0</th>\n",
              "      <td>Venta_zona_3</td>\n",
              "      <td>Venta_zona_3_lag3</td>\n",
              "      <td>0.369275</td>\n",
              "      <td>0.369275</td>\n",
              "      <td>0.136364</td>\n",
              "    </tr>\n",
              "    <tr>\n",
              "      <th>0</th>\n",
              "      <td>Venta_zona_3</td>\n",
              "      <td>ind_prec_12_distr_rat3to6</td>\n",
              "      <td>0.368368</td>\n",
              "      <td>0.368368</td>\n",
              "      <td>0.135695</td>\n",
              "    </tr>\n",
              "    <tr>\n",
              "      <th>0</th>\n",
              "      <td>Venta_zona_3</td>\n",
              "      <td>ind_preci_import_avg6</td>\n",
              "      <td>0.352750</td>\n",
              "      <td>0.352750</td>\n",
              "      <td>0.124433</td>\n",
              "    </tr>\n",
              "    <tr>\n",
              "      <th>0</th>\n",
              "      <td>Venta_zona_3</td>\n",
              "      <td>tasa_interes_act_avg6</td>\n",
              "      <td>-0.350518</td>\n",
              "      <td>0.350518</td>\n",
              "      <td>0.122863</td>\n",
              "    </tr>\n",
              "    <tr>\n",
              "      <th>0</th>\n",
              "      <td>Venta_zona_3</td>\n",
              "      <td>var_porc_PBI_avg6</td>\n",
              "      <td>0.349150</td>\n",
              "      <td>0.349150</td>\n",
              "      <td>0.121906</td>\n",
              "    </tr>\n",
              "    <tr>\n",
              "      <th>0</th>\n",
              "      <td>Venta_zona_3</td>\n",
              "      <td>ind_prec_cons_lima_met_alim_ener</td>\n",
              "      <td>0.348109</td>\n",
              "      <td>0.348109</td>\n",
              "      <td>0.121180</td>\n",
              "    </tr>\n",
              "    <tr>\n",
              "      <th>0</th>\n",
              "      <td>Venta_zona_3</td>\n",
              "      <td>ind_prec_alt_avg3</td>\n",
              "      <td>0.336981</td>\n",
              "      <td>0.336981</td>\n",
              "      <td>0.113556</td>\n",
              "    </tr>\n",
              "    <tr>\n",
              "      <th>0</th>\n",
              "      <td>Venta_zona_3</td>\n",
              "      <td>ind_prec_cons_lima_met_alim_ener_avg3</td>\n",
              "      <td>0.335661</td>\n",
              "      <td>0.335661</td>\n",
              "      <td>0.112668</td>\n",
              "    </tr>\n",
              "    <tr>\n",
              "      <th>0</th>\n",
              "      <td>Venta_zona_3</td>\n",
              "      <td>Venta_zona_3_lag3_avg3</td>\n",
              "      <td>0.332217</td>\n",
              "      <td>0.332217</td>\n",
              "      <td>0.110368</td>\n",
              "    </tr>\n",
              "    <tr>\n",
              "      <th>0</th>\n",
              "      <td>Venta_zona_3</td>\n",
              "      <td>ind_prec_12_distr_avg3</td>\n",
              "      <td>0.331944</td>\n",
              "      <td>0.331944</td>\n",
              "      <td>0.110187</td>\n",
              "    </tr>\n",
              "    <tr>\n",
              "      <th>0</th>\n",
              "      <td>Venta_zona_3</td>\n",
              "      <td>ind_prec_alt_rat3to6</td>\n",
              "      <td>0.329029</td>\n",
              "      <td>0.329029</td>\n",
              "      <td>0.108260</td>\n",
              "    </tr>\n",
              "    <tr>\n",
              "      <th>0</th>\n",
              "      <td>Venta_zona_3</td>\n",
              "      <td>ind_prec_alt</td>\n",
              "      <td>0.312487</td>\n",
              "      <td>0.312487</td>\n",
              "      <td>0.097648</td>\n",
              "    </tr>\n",
              "    <tr>\n",
              "      <th>0</th>\n",
              "      <td>Venta_zona_3</td>\n",
              "      <td>ind_prec_alt_avg6</td>\n",
              "      <td>0.312200</td>\n",
              "      <td>0.312200</td>\n",
              "      <td>0.097469</td>\n",
              "    </tr>\n",
              "    <tr>\n",
              "      <th>0</th>\n",
              "      <td>Venta_zona_3</td>\n",
              "      <td>ind_prec_med_avg3</td>\n",
              "      <td>0.311309</td>\n",
              "      <td>0.311309</td>\n",
              "      <td>0.096913</td>\n",
              "    </tr>\n",
              "    <tr>\n",
              "      <th>0</th>\n",
              "      <td>Venta_zona_3</td>\n",
              "      <td>ind_prec_12_distr</td>\n",
              "      <td>0.310358</td>\n",
              "      <td>0.310358</td>\n",
              "      <td>0.096322</td>\n",
              "    </tr>\n",
              "    <tr>\n",
              "      <th>0</th>\n",
              "      <td>Venta_zona_3</td>\n",
              "      <td>Venta_zona_3_lag3_avg6</td>\n",
              "      <td>0.309382</td>\n",
              "      <td>0.309382</td>\n",
              "      <td>0.095717</td>\n",
              "    </tr>\n",
              "    <tr>\n",
              "      <th>0</th>\n",
              "      <td>Venta_zona_3</td>\n",
              "      <td>ind_prec_12_distr_avg6</td>\n",
              "      <td>0.306327</td>\n",
              "      <td>0.306327</td>\n",
              "      <td>0.093836</td>\n",
              "    </tr>\n",
              "    <tr>\n",
              "      <th>0</th>\n",
              "      <td>Venta_zona_3</td>\n",
              "      <td>ind_prec_cons_lima_met_alim_ener_avg6</td>\n",
              "      <td>0.300241</td>\n",
              "      <td>0.300241</td>\n",
              "      <td>0.090145</td>\n",
              "    </tr>\n",
              "    <tr>\n",
              "      <th>0</th>\n",
              "      <td>Venta_zona_3</td>\n",
              "      <td>flg_feia_rat3to6</td>\n",
              "      <td>0.300222</td>\n",
              "      <td>0.300222</td>\n",
              "      <td>0.090133</td>\n",
              "    </tr>\n",
              "    <tr>\n",
              "      <th>0</th>\n",
              "      <td>Venta_zona_3</td>\n",
              "      <td>ind_prec_med</td>\n",
              "      <td>0.298863</td>\n",
              "      <td>0.298863</td>\n",
              "      <td>0.089319</td>\n",
              "    </tr>\n",
              "    <tr>\n",
              "      <th>0</th>\n",
              "      <td>Venta_zona_3</td>\n",
              "      <td>flg_feia_avg3</td>\n",
              "      <td>0.290320</td>\n",
              "      <td>0.290320</td>\n",
              "      <td>0.084286</td>\n",
              "    </tr>\n",
              "    <tr>\n",
              "      <th>0</th>\n",
              "      <td>Venta_zona_3</td>\n",
              "      <td>ind_prec_med_avg6</td>\n",
              "      <td>0.282588</td>\n",
              "      <td>0.282588</td>\n",
              "      <td>0.079856</td>\n",
              "    </tr>\n",
              "    <tr>\n",
              "      <th>0</th>\n",
              "      <td>Venta_zona_3</td>\n",
              "      <td>precio_venta_total_rat3to6</td>\n",
              "      <td>-0.275624</td>\n",
              "      <td>0.275624</td>\n",
              "      <td>0.075969</td>\n",
              "    </tr>\n",
              "    <tr>\n",
              "      <th>0</th>\n",
              "      <td>Venta_zona_3</td>\n",
              "      <td>precio_venta_zon1_avg6</td>\n",
              "      <td>0.272688</td>\n",
              "      <td>0.272688</td>\n",
              "      <td>0.074359</td>\n",
              "    </tr>\n",
              "    <tr>\n",
              "      <th>0</th>\n",
              "      <td>Venta_zona_3</td>\n",
              "      <td>precio_oferta_zon2_rat3to6</td>\n",
              "      <td>0.252109</td>\n",
              "      <td>0.252109</td>\n",
              "      <td>0.063559</td>\n",
              "    </tr>\n",
              "    <tr>\n",
              "      <th>0</th>\n",
              "      <td>Venta_zona_3</td>\n",
              "      <td>prod_ener_lima</td>\n",
              "      <td>0.251503</td>\n",
              "      <td>0.251503</td>\n",
              "      <td>0.063254</td>\n",
              "    </tr>\n",
              "    <tr>\n",
              "      <th>0</th>\n",
              "      <td>Venta_zona_3</td>\n",
              "      <td>Venta_zona_3_lag2_rat3to6</td>\n",
              "      <td>0.251103</td>\n",
              "      <td>0.251103</td>\n",
              "      <td>0.063053</td>\n",
              "    </tr>\n",
              "  </tbody>\n",
              "</table>\n",
              "</div>\n",
              "      <button class=\"colab-df-convert\" onclick=\"convertToInteractive('df-f39b6ed6-4994-4a9f-b6db-44b595c57e52')\"\n",
              "              title=\"Convert this dataframe to an interactive table.\"\n",
              "              style=\"display:none;\">\n",
              "        \n",
              "  <svg xmlns=\"http://www.w3.org/2000/svg\" height=\"24px\"viewBox=\"0 0 24 24\"\n",
              "       width=\"24px\">\n",
              "    <path d=\"M0 0h24v24H0V0z\" fill=\"none\"/>\n",
              "    <path d=\"M18.56 5.44l.94 2.06.94-2.06 2.06-.94-2.06-.94-.94-2.06-.94 2.06-2.06.94zm-11 1L8.5 8.5l.94-2.06 2.06-.94-2.06-.94L8.5 2.5l-.94 2.06-2.06.94zm10 10l.94 2.06.94-2.06 2.06-.94-2.06-.94-.94-2.06-.94 2.06-2.06.94z\"/><path d=\"M17.41 7.96l-1.37-1.37c-.4-.4-.92-.59-1.43-.59-.52 0-1.04.2-1.43.59L10.3 9.45l-7.72 7.72c-.78.78-.78 2.05 0 2.83L4 21.41c.39.39.9.59 1.41.59.51 0 1.02-.2 1.41-.59l7.78-7.78 2.81-2.81c.8-.78.8-2.07 0-2.86zM5.41 20L4 18.59l7.72-7.72 1.47 1.35L5.41 20z\"/>\n",
              "  </svg>\n",
              "      </button>\n",
              "      \n",
              "  <style>\n",
              "    .colab-df-container {\n",
              "      display:flex;\n",
              "      flex-wrap:wrap;\n",
              "      gap: 12px;\n",
              "    }\n",
              "\n",
              "    .colab-df-convert {\n",
              "      background-color: #E8F0FE;\n",
              "      border: none;\n",
              "      border-radius: 50%;\n",
              "      cursor: pointer;\n",
              "      display: none;\n",
              "      fill: #1967D2;\n",
              "      height: 32px;\n",
              "      padding: 0 0 0 0;\n",
              "      width: 32px;\n",
              "    }\n",
              "\n",
              "    .colab-df-convert:hover {\n",
              "      background-color: #E2EBFA;\n",
              "      box-shadow: 0px 1px 2px rgba(60, 64, 67, 0.3), 0px 1px 3px 1px rgba(60, 64, 67, 0.15);\n",
              "      fill: #174EA6;\n",
              "    }\n",
              "\n",
              "    [theme=dark] .colab-df-convert {\n",
              "      background-color: #3B4455;\n",
              "      fill: #D2E3FC;\n",
              "    }\n",
              "\n",
              "    [theme=dark] .colab-df-convert:hover {\n",
              "      background-color: #434B5C;\n",
              "      box-shadow: 0px 1px 3px 1px rgba(0, 0, 0, 0.15);\n",
              "      filter: drop-shadow(0px 1px 2px rgba(0, 0, 0, 0.3));\n",
              "      fill: #FFFFFF;\n",
              "    }\n",
              "  </style>\n",
              "\n",
              "      <script>\n",
              "        const buttonEl =\n",
              "          document.querySelector('#df-f39b6ed6-4994-4a9f-b6db-44b595c57e52 button.colab-df-convert');\n",
              "        buttonEl.style.display =\n",
              "          google.colab.kernel.accessAllowed ? 'block' : 'none';\n",
              "\n",
              "        async function convertToInteractive(key) {\n",
              "          const element = document.querySelector('#df-f39b6ed6-4994-4a9f-b6db-44b595c57e52');\n",
              "          const dataTable =\n",
              "            await google.colab.kernel.invokeFunction('convertToInteractive',\n",
              "                                                     [key], {});\n",
              "          if (!dataTable) return;\n",
              "\n",
              "          const docLinkHtml = 'Like what you see? Visit the ' +\n",
              "            '<a target=\"_blank\" href=https://colab.research.google.com/notebooks/data_table.ipynb>data table notebook</a>'\n",
              "            + ' to learn more about interactive tables.';\n",
              "          element.innerHTML = '';\n",
              "          dataTable['output_type'] = 'display_data';\n",
              "          await google.colab.output.renderOutput(dataTable, element);\n",
              "          const docLink = document.createElement('div');\n",
              "          docLink.innerHTML = docLinkHtml;\n",
              "          element.appendChild(docLink);\n",
              "        }\n",
              "      </script>\n",
              "    </div>\n",
              "  </div>\n",
              "  "
            ]
          },
          "metadata": {},
          "execution_count": 17
        }
      ]
    },
    {
      "cell_type": "markdown",
      "source": [
        "# Regresion"
      ],
      "metadata": {
        "id": "Xb8Iu2Mkx_Bw"
      }
    },
    {
      "cell_type": "code",
      "source": [
        "import statsmodels.api as sm\n",
        "\n",
        "features = ['intercept', 'ind_prec_inf_suby_bienes_avg3_std', 'precio_venta_total_rat3to6_std']\n",
        "\n",
        "# Fit and summarize OLS model\n",
        "mod = sm.OLS(X_train[target], \n",
        "             X_train[features])\n",
        "\n",
        "res = mod.fit()\n",
        "print(res.summary())"
      ],
      "metadata": {
        "colab": {
          "base_uri": "https://localhost:8080/"
        },
        "id": "Qx0Nlwcq8NA1",
        "outputId": "6aacb2f8-a3b5-4be5-fc4a-371146b32bcd"
      },
      "execution_count": null,
      "outputs": [
        {
          "output_type": "stream",
          "name": "stdout",
          "text": [
            "                            OLS Regression Results                            \n",
            "==============================================================================\n",
            "Dep. Variable:           Venta_zona_3   R-squared:                       0.440\n",
            "Model:                            OLS   Adj. R-squared:                  0.413\n",
            "Method:                 Least Squares   F-statistic:                     16.51\n",
            "Date:                Wed, 13 Jul 2022   Prob (F-statistic):           5.14e-06\n",
            "Time:                        20:12:44   Log-Likelihood:                -143.74\n",
            "No. Observations:                  45   AIC:                             293.5\n",
            "Df Residuals:                      42   BIC:                             298.9\n",
            "Df Model:                           2                                         \n",
            "Covariance Type:            nonrobust                                         \n",
            "=====================================================================================================\n",
            "                                        coef    std err          t      P>|t|      [0.025      0.975]\n",
            "-----------------------------------------------------------------------------------------------------\n",
            "intercept                            15.5556      0.911     17.082      0.000      13.718      17.393\n",
            "ind_prec_inf_suby_bienes_avg3_std     4.8866      0.935      5.226      0.000       3.000       6.774\n",
            "precio_venta_total_rat3to6_std       -1.3525      0.935     -1.446      0.155      -3.239       0.534\n",
            "==============================================================================\n",
            "Omnibus:                        0.002   Durbin-Watson:                   1.373\n",
            "Prob(Omnibus):                  0.999   Jarque-Bera (JB):                0.133\n",
            "Skew:                           0.011   Prob(JB):                        0.936\n",
            "Kurtosis:                       2.734   Cond. No.                         1.19\n",
            "==============================================================================\n",
            "\n",
            "Warnings:\n",
            "[1] Standard Errors assume that the covariance matrix of the errors is correctly specified.\n"
          ]
        }
      ]
    },
    {
      "cell_type": "code",
      "source": [
        "import seaborn as sn\n",
        "import matplotlib.pyplot as plt\n",
        "\n",
        "sn.heatmap(X_train[features].corr(), annot=True)\n",
        "plt.show()"
      ],
      "metadata": {
        "id": "z2gR9mDK79B_"
      },
      "execution_count": null,
      "outputs": []
    },
    {
      "cell_type": "code",
      "source": [
        "4.8866/(4.8866+1.3525)"
      ],
      "metadata": {
        "colab": {
          "base_uri": "https://localhost:8080/"
        },
        "id": "l6dnECBCl36i",
        "outputId": "6f2760e3-5d72-4796-c187-890019235853"
      },
      "execution_count": null,
      "outputs": [
        {
          "output_type": "execute_result",
          "data": {
            "text/plain": [
              "0.7832219390617237"
            ]
          },
          "metadata": {},
          "execution_count": 73
        }
      ]
    },
    {
      "cell_type": "code",
      "source": [
        "\n",
        "data_res['macro_pred'] = 15.5556 +\\\n",
        "                         4.8866*data_res.ind_prec_inf_suby_bienes_avg3_std -\\\n",
        "                         1.3525*data_res.precio_venta_total_rat3to6_std\n",
        "\n",
        "data = data_res.copy().dropna()\n",
        "X_train = data[:-test_size].dropna()\n",
        "X_test  = data[-test_size:].dropna()\n"
      ],
      "metadata": {
        "id": "YssxJ75piFHz"
      },
      "execution_count": null,
      "outputs": []
    },
    {
      "cell_type": "code",
      "source": [
        "#target + '_lag3_avg3'\n",
        "ensemble = ['venta_predicted', 'macro_pred']\n",
        "\n",
        "# 2,1,1 ARIMA Model\n",
        "model_ff = ARIMA(endog = X_train[target], \n",
        "                 exog = X_train[ensemble],  \n",
        "                 order=(3,2,3))\n",
        "\n",
        "model_fit_ff = model_ff.fit()\n",
        "print(model_fit_ff.summary())"
      ],
      "metadata": {
        "colab": {
          "base_uri": "https://localhost:8080/"
        },
        "id": "yLgcrdzYq8_r",
        "outputId": "ec73e8df-c118-43ac-99ed-334f271fb70d"
      },
      "execution_count": null,
      "outputs": [
        {
          "output_type": "stream",
          "name": "stderr",
          "text": [
            "/usr/local/lib/python3.7/dist-packages/statsmodels/tsa/base/tsa_model.py:215: ValueWarning: An unsupported index was provided and will be ignored when e.g. forecasting.\n",
            "  ' ignored when e.g. forecasting.', ValueWarning)\n",
            "/usr/local/lib/python3.7/dist-packages/statsmodels/tsa/base/tsa_model.py:215: ValueWarning: An unsupported index was provided and will be ignored when e.g. forecasting.\n",
            "  ' ignored when e.g. forecasting.', ValueWarning)\n"
          ]
        },
        {
          "output_type": "stream",
          "name": "stdout",
          "text": [
            "                             ARIMA Model Results                              \n",
            "==============================================================================\n",
            "Dep. Variable:        D2.Venta_zona_3   No. Observations:                   41\n",
            "Model:                 ARIMA(3, 2, 3)   Log Likelihood                -136.875\n",
            "Method:                       css-mle   S.D. of innovations              6.221\n",
            "Date:                Sun, 24 Jul 2022   AIC                            293.751\n",
            "Time:                        22:15:12   BIC                            310.887\n",
            "Sample:                             2   HQIC                           299.991\n",
            "                                                                              \n",
            "=========================================================================================\n",
            "                            coef    std err          z      P>|z|      [0.025      0.975]\n",
            "-----------------------------------------------------------------------------------------\n",
            "const                     3.5828      1.168      3.067      0.004       1.293       5.872\n",
            "venta_predicted          -0.1908      0.051     -3.735      0.001      -0.291      -0.091\n",
            "macro_pred               -0.0344      0.047     -0.737      0.466      -0.126       0.057\n",
            "ar.L1.D2.Venta_zona_3    -0.4382      0.180     -2.441      0.020      -0.790      -0.086\n",
            "ar.L2.D2.Venta_zona_3     0.6557      0.267      2.453      0.020       0.132       1.180\n",
            "ar.L3.D2.Venta_zona_3     0.2548      0.219      1.162      0.254      -0.175       0.685\n",
            "ma.L1.D2.Venta_zona_3    -0.8233      0.146     -5.627      0.000      -1.110      -0.537\n",
            "ma.L2.D2.Venta_zona_3    -0.8233      0.162     -5.097      0.000      -1.140      -0.507\n",
            "ma.L3.D2.Venta_zona_3     1.0000      0.134      7.485      0.000       0.738       1.262\n",
            "                                    Roots                                    \n",
            "=============================================================================\n",
            "                  Real          Imaginary           Modulus         Frequency\n",
            "-----------------------------------------------------------------------------\n",
            "AR.1            1.2606           +0.0000j            1.2606            0.0000\n",
            "AR.2           -1.1676           +0.0000j            1.1676            0.5000\n",
            "AR.3           -2.6662           +0.0000j            2.6662            0.5000\n",
            "MA.1           -1.0000           -0.0000j            1.0000           -0.5000\n",
            "MA.2            0.9116           -0.4110j            1.0000           -0.0674\n",
            "MA.3            0.9116           +0.4110j            1.0000            0.0674\n",
            "-----------------------------------------------------------------------------\n"
          ]
        }
      ]
    },
    {
      "cell_type": "code",
      "source": [
        "\n",
        "import pickle\n",
        "pickle.dump(model_fit_ff, open(\"./var_mz3.ml\", 'wb'))"
      ],
      "metadata": {
        "id": "Obu_iO5MR5oV"
      },
      "execution_count": null,
      "outputs": []
    },
    {
      "cell_type": "code",
      "source": [
        "\n",
        "fc, se, conf  = model_fit_ff.forecast(test_size, \n",
        "                                      exog = X_test[['venta_predicted', 'macro_pred']], alpha=0.05)\n",
        "\n",
        "model_res = model_fit_ff.predict(start = X_train.index[2], \n",
        "                                 end = X_train.index[-1], dynamic=False, typ = 'levels')\n",
        "\n",
        "data_res = data.copy()\n",
        "data_res['venta_predicted_final'] = model_res\n",
        "data_res.iloc[-test_size:]['venta_predicted_final'] = fc\n",
        "\n",
        "sns.lineplot(data = data_res[[target, 'venta_predicted_final']])\n"
      ],
      "metadata": {
        "colab": {
          "base_uri": "https://localhost:8080/",
          "height": 296
        },
        "id": "xtfY4jezrkDl",
        "outputId": "5b2899c0-e29d-4e52-e8f8-f99bc37001f8"
      },
      "execution_count": null,
      "outputs": [
        {
          "output_type": "execute_result",
          "data": {
            "text/plain": [
              "<matplotlib.axes._subplots.AxesSubplot at 0x7f9aeb9924d0>"
            ]
          },
          "metadata": {},
          "execution_count": 26
        },
        {
          "output_type": "display_data",
          "data": {
            "text/plain": [
              "<Figure size 432x288 with 1 Axes>"
            ],
            "image/png": "[encoded data removed]"
          },
          "metadata": {
            "needs_background": "light"
          }
        }
      ]
    },
    {
      "cell_type": "code",
      "source": [
        "data_res[[target, 'venta_predicted', 'macro_pred', 'venta_predicted_final']]"
      ],
      "metadata": {
        "colab": {
          "base_uri": "https://localhost:8080/",
          "height": 1000
        },
        "id": "1lxbrJxhrj3Y",
        "outputId": "f362ef2d-8efe-42ba-ebfb-2deaab5582dc"
      },
      "execution_count": null,
      "outputs": [
        {
          "output_type": "execute_result",
          "data": {
            "text/plain": [
              "         Venta_zona_3  venta_predicted  macro_pred  venta_predicted_final\n",
              "codmes                                                                   \n",
              "ago-18             23        22.720507   15.101709                    NaN\n",
              "sept-18            33        24.579284   21.647550                    NaN\n",
              "oct-18             22        34.974298   23.615519              39.069722\n",
              "nov-18             15        26.779532   20.332715              20.036045\n",
              "dic-18             13        15.299262   13.461249              10.232881\n",
              "ene-19             11        10.771893   10.825007               5.666822\n",
              "feb-19             14         8.614522   11.795756               7.775752\n",
              "mar-19             14        10.676339   12.844848              11.169953\n",
              "abr-19             24        12.122952   12.952510              16.145849\n",
              "may-19             13        20.099598   14.333703              24.345197\n",
              "jun-19             18        15.305439   15.779486              20.641415\n",
              "jul-19             14        15.084454   14.763050              21.413110\n",
              "ago-19             12        13.811901   12.581217              17.695655\n",
              "sept-19            19        10.932674    9.625762              16.722875\n",
              "oct-19              6        15.465606   12.310680              16.864938\n",
              "nov-19              7         8.464483   14.267709              11.524806\n",
              "dic-19             13         4.768906   14.735791               7.188728\n",
              "ene-20              7         9.710385   12.891580              10.845954\n",
              "feb-20              8         7.772484   10.241371               9.132637\n",
              "mar-20              2         6.687794    8.009961               9.297936\n",
              "abr-20              1         3.001790    8.172444               5.624369\n",
              "may-20              1         0.582157    9.930206               5.997820\n",
              "jun-20              8         0.712497   14.439676               5.049210\n",
              "jul-20              2         6.240930   17.631289              11.913329\n",
              "ago-20             19         4.893445   20.359455               8.508925\n",
              "sept-20            24        15.271132   20.036666              19.713178\n",
              "oct-20             15        24.853874   15.898517              21.555246\n",
              "nov-20             13        20.166586   15.027541              20.634052\n",
              "dic-20             17        15.399171   10.994528              10.777282\n",
              "ene-21             11        17.288772   13.431659              14.233726\n",
              "feb-21             13        14.337923   12.173015               6.835390\n",
              "mar-21             17        13.638217   13.497916              10.568691\n",
              "abr-21             11        17.093942   12.983888               9.164133\n",
              "may-21             21        14.253468   11.506386              12.522594\n",
              "jun-21             15        19.147306   12.891282              14.529527\n",
              "jul-21             18        18.276526   13.329666              17.838121\n",
              "ago-21             14        18.196868   16.057403              18.002255\n",
              "sept-21            19        16.260491   20.540484              18.196774\n",
              "oct-21             17        18.240873   23.133658              20.356045\n",
              "nov-21             35        18.418729   27.370057              19.942790\n",
              "dic-21             35        30.058128   27.082377              29.926967\n",
              "ene-22             22        35.807082   29.253597              30.527341\n",
              "feb-22             24        26.191537   26.879208              24.679774\n",
              "mar-22             31        22.476830   28.232518              18.721814\n",
              "abr-22             33        21.501581   24.544754              23.420851"
            ],
            "text/html": [
              "\n",
              "  <div id=\"df-1a296ace-7919-43ea-9306-6e397d6f7fd4\">\n",
              "    <div class=\"colab-df-container\">\n",
              "      <div>\n",
              "<style scoped>\n",
              "    .dataframe tbody tr th:only-of-type {\n",
              "        vertical-align: middle;\n",
              "    }\n",
              "\n",
              "    .dataframe tbody tr th {\n",
              "        vertical-align: top;\n",
              "    }\n",
              "\n",
              "    .dataframe thead th {\n",
              "        text-align: right;\n",
              "    }\n",
              "</style>\n",
              "<table border=\"1\" class=\"dataframe\">\n",
              "  <thead>\n",
              "    <tr style=\"text-align: right;\">\n",
              "      <th></th>\n",
              "      <th>Venta_zona_3</th>\n",
              "      <th>venta_predicted</th>\n",
              "      <th>macro_pred</th>\n",
              "      <th>venta_predicted_final</th>\n",
              "    </tr>\n",
              "    <tr>\n",
              "      <th>codmes</th>\n",
              "      <th></th>\n",
              "      <th></th>\n",
              "      <th></th>\n",
              "      <th></th>\n",
              "    </tr>\n",
              "  </thead>\n",
              "  <tbody>\n",
              "    <tr>\n",
              "      <th>ago-18</th>\n",
              "      <td>23</td>\n",
              "      <td>22.720507</td>\n",
              "      <td>15.101709</td>\n",
              "      <td>NaN</td>\n",
              "    </tr>\n",
              "    <tr>\n",
              "      <th>sept-18</th>\n",
              "      <td>33</td>\n",
              "      <td>24.579284</td>\n",
              "      <td>21.647550</td>\n",
              "      <td>NaN</td>\n",
              "    </tr>\n",
              "    <tr>\n",
              "      <th>oct-18</th>\n",
              "      <td>22</td>\n",
              "      <td>34.974298</td>\n",
              "      <td>23.615519</td>\n",
              "      <td>39.069722</td>\n",
              "    </tr>\n",
              "    <tr>\n",
              "      <th>nov-18</th>\n",
              "      <td>15</td>\n",
              "      <td>26.779532</td>\n",
              "      <td>20.332715</td>\n",
              "      <td>20.036045</td>\n",
              "    </tr>\n",
              "    <tr>\n",
              "      <th>dic-18</th>\n",
              "      <td>13</td>\n",
              "      <td>15.299262</td>\n",
              "      <td>13.461249</td>\n",
              "      <td>10.232881</td>\n",
              "    </tr>\n",
              "    <tr>\n",
              "      <th>ene-19</th>\n",
              "      <td>11</td>\n",
              "      <td>10.771893</td>\n",
              "      <td>10.825007</td>\n",
              "      <td>5.666822</td>\n",
              "    </tr>\n",
              "    <tr>\n",
              "      <th>feb-19</th>\n",
              "      <td>14</td>\n",
              "      <td>8.614522</td>\n",
              "      <td>11.795756</td>\n",
              "      <td>7.775752</td>\n",
              "    </tr>\n",
              "    <tr>\n",
              "      <th>mar-19</th>\n",
              "      <td>14</td>\n",
              "      <td>10.676339</td>\n",
              "      <td>12.844848</td>\n",
              "      <td>11.169953</td>\n",
              "    </tr>\n",
              "    <tr>\n",
              "      <th>abr-19</th>\n",
              "      <td>24</td>\n",
              "      <td>12.122952</td>\n",
              "      <td>12.952510</td>\n",
              "      <td>16.145849</td>\n",
              "    </tr>\n",
              "    <tr>\n",
              "      <th>may-19</th>\n",
              "      <td>13</td>\n",
              "      <td>20.099598</td>\n",
              "      <td>14.333703</td>\n",
              "      <td>24.345197</td>\n",
              "    </tr>\n",
              "    <tr>\n",
              "      <th>jun-19</th>\n",
              "      <td>18</td>\n",
              "      <td>15.305439</td>\n",
              "      <td>15.779486</td>\n",
              "      <td>20.641415</td>\n",
              "    </tr>\n",
              "    <tr>\n",
              "      <th>jul-19</th>\n",
              "      <td>14</td>\n",
              "      <td>15.084454</td>\n",
              "      <td>14.763050</td>\n",
              "      <td>21.413110</td>\n",
              "    </tr>\n",
              "    <tr>\n",
              "      <th>ago-19</th>\n",
              "      <td>12</td>\n",
              "      <td>13.811901</td>\n",
              "      <td>12.581217</td>\n",
              "      <td>17.695655</td>\n",
              "    </tr>\n",
              "    <tr>\n",
              "      <th>sept-19</th>\n",
              "      <td>19</td>\n",
              "      <td>10.932674</td>\n",
              "      <td>9.625762</td>\n",
              "      <td>16.722875</td>\n",
              "    </tr>\n",
              "    <tr>\n",
              "      <th>oct-19</th>\n",
              "      <td>6</td>\n",
              "      <td>15.465606</td>\n",
              "      <td>12.310680</td>\n",
              "      <td>16.864938</td>\n",
              "    </tr>\n",
              "    <tr>\n",
              "      <th>nov-19</th>\n",
              "      <td>7</td>\n",
              "      <td>8.464483</td>\n",
              "      <td>14.267709</td>\n",
              "      <td>11.524806</td>\n",
              "    </tr>\n",
              "    <tr>\n",
              "      <th>dic-19</th>\n",
              "      <td>13</td>\n",
              "      <td>4.768906</td>\n",
              "      <td>14.735791</td>\n",
              "      <td>7.188728</td>\n",
              "    </tr>\n",
              "    <tr>\n",
              "      <th>ene-20</th>\n",
              "      <td>7</td>\n",
              "      <td>9.710385</td>\n",
              "      <td>12.891580</td>\n",
              "      <td>10.845954</td>\n",
              "    </tr>\n",
              "    <tr>\n",
              "      <th>feb-20</th>\n",
              "      <td>8</td>\n",
              "      <td>7.772484</td>\n",
              "      <td>10.241371</td>\n",
              "      <td>9.132637</td>\n",
              "    </tr>\n",
              "    <tr>\n",
              "      <th>mar-20</th>\n",
              "      <td>2</td>\n",
              "      <td>6.687794</td>\n",
              "      <td>8.009961</td>\n",
              "      <td>9.297936</td>\n",
              "    </tr>\n",
              "    <tr>\n",
              "      <th>abr-20</th>\n",
              "      <td>1</td>\n",
              "      <td>3.001790</td>\n",
              "      <td>8.172444</td>\n",
              "      <td>5.624369</td>\n",
              "    </tr>\n",
              "    <tr>\n",
              "      <th>may-20</th>\n",
              "      <td>1</td>\n",
              "      <td>0.582157</td>\n",
              "      <td>9.930206</td>\n",
              "      <td>5.997820</td>\n",
              "    </tr>\n",
              "    <tr>\n",
              "      <th>jun-20</th>\n",
              "      <td>8</td>\n",
              "      <td>0.712497</td>\n",
              "      <td>14.439676</td>\n",
              "      <td>5.049210</td>\n",
              "    </tr>\n",
              "    <tr>\n",
              "      <th>jul-20</th>\n",
              "      <td>2</td>\n",
              "      <td>6.240930</td>\n",
              "      <td>17.631289</td>\n",
              "      <td>11.913329</td>\n",
              "    </tr>\n",
              "    <tr>\n",
              "      <th>ago-20</th>\n",
              "      <td>19</td>\n",
              "      <td>4.893445</td>\n",
              "      <td>20.359455</td>\n",
              "      <td>8.508925</td>\n",
              "    </tr>\n",
              "    <tr>\n",
              "      <th>sept-20</th>\n",
              "      <td>24</td>\n",
              "      <td>15.271132</td>\n",
              "      <td>20.036666</td>\n",
              "      <td>19.713178</td>\n",
              "    </tr>\n",
              "    <tr>\n",
              "      <th>oct-20</th>\n",
              "      <td>15</td>\n",
              "      <td>24.853874</td>\n",
              "      <td>15.898517</td>\n",
              "      <td>21.555246</td>\n",
              "    </tr>\n",
              "    <tr>\n",
              "      <th>nov-20</th>\n",
              "      <td>13</td>\n",
              "      <td>20.166586</td>\n",
              "      <td>15.027541</td>\n",
              "      <td>20.634052</td>\n",
              "    </tr>\n",
              "    <tr>\n",
              "      <th>dic-20</th>\n",
              "      <td>17</td>\n",
              "      <td>15.399171</td>\n",
              "      <td>10.994528</td>\n",
              "      <td>10.777282</td>\n",
              "    </tr>\n",
              "    <tr>\n",
              "      <th>ene-21</th>\n",
              "      <td>11</td>\n",
              "      <td>17.288772</td>\n",
              "      <td>13.431659</td>\n",
              "      <td>14.233726</td>\n",
              "    </tr>\n",
              "    <tr>\n",
              "      <th>feb-21</th>\n",
              "      <td>13</td>\n",
              "      <td>14.337923</td>\n",
              "      <td>12.173015</td>\n",
              "      <td>6.835390</td>\n",
              "    </tr>\n",
              "    <tr>\n",
              "      <th>mar-21</th>\n",
              "      <td>17</td>\n",
              "      <td>13.638217</td>\n",
              "      <td>13.497916</td>\n",
              "      <td>10.568691</td>\n",
              "    </tr>\n",
              "    <tr>\n",
              "      <th>abr-21</th>\n",
              "      <td>11</td>\n",
              "      <td>17.093942</td>\n",
              "      <td>12.983888</td>\n",
              "      <td>9.164133</td>\n",
              "    </tr>\n",
              "    <tr>\n",
              "      <th>may-21</th>\n",
              "      <td>21</td>\n",
              "      <td>14.253468</td>\n",
              "      <td>11.506386</td>\n",
              "      <td>12.522594</td>\n",
              "    </tr>\n",
              "    <tr>\n",
              "      <th>jun-21</th>\n",
              "      <td>15</td>\n",
              "      <td>19.147306</td>\n",
              "      <td>12.891282</td>\n",
              "      <td>14.529527</td>\n",
              "    </tr>\n",
              "    <tr>\n",
              "      <th>jul-21</th>\n",
              "      <td>18</td>\n",
              "      <td>18.276526</td>\n",
              "      <td>13.329666</td>\n",
              "      <td>17.838121</td>\n",
              "    </tr>\n",
              "    <tr>\n",
              "      <th>ago-21</th>\n",
              "      <td>14</td>\n",
              "      <td>18.196868</td>\n",
              "      <td>16.057403</td>\n",
              "      <td>18.002255</td>\n",
              "    </tr>\n",
              "    <tr>\n",
              "      <th>sept-21</th>\n",
              "      <td>19</td>\n",
              "      <td>16.260491</td>\n",
              "      <td>20.540484</td>\n",
              "      <td>18.196774</td>\n",
              "    </tr>\n",
              "    <tr>\n",
              "      <th>oct-21</th>\n",
              "      <td>17</td>\n",
              "      <td>18.240873</td>\n",
              "      <td>23.133658</td>\n",
              "      <td>20.356045</td>\n",
              "    </tr>\n",
              "    <tr>\n",
              "      <th>nov-21</th>\n",
              "      <td>35</td>\n",
              "      <td>18.418729</td>\n",
              "      <td>27.370057</td>\n",
              "      <td>19.942790</td>\n",
              "    </tr>\n",
              "    <tr>\n",
              "      <th>dic-21</th>\n",
              "      <td>35</td>\n",
              "      <td>30.058128</td>\n",
              "      <td>27.082377</td>\n",
              "      <td>29.926967</td>\n",
              "    </tr>\n",
              "    <tr>\n",
              "      <th>ene-22</th>\n",
              "      <td>22</td>\n",
              "      <td>35.807082</td>\n",
              "      <td>29.253597</td>\n",
              "      <td>30.527341</td>\n",
              "    </tr>\n",
              "    <tr>\n",
              "      <th>feb-22</th>\n",
              "      <td>24</td>\n",
              "      <td>26.191537</td>\n",
              "      <td>26.879208</td>\n",
              "      <td>24.679774</td>\n",
              "    </tr>\n",
              "    <tr>\n",
              "      <th>mar-22</th>\n",
              "      <td>31</td>\n",
              "      <td>22.476830</td>\n",
              "      <td>28.232518</td>\n",
              "      <td>18.721814</td>\n",
              "    </tr>\n",
              "    <tr>\n",
              "      <th>abr-22</th>\n",
              "      <td>33</td>\n",
              "      <td>21.501581</td>\n",
              "      <td>24.544754</td>\n",
              "      <td>23.420851</td>\n",
              "    </tr>\n",
              "  </tbody>\n",
              "</table>\n",
              "</div>\n",
              "      <button class=\"colab-df-convert\" onclick=\"convertToInteractive('df-1a296ace-7919-43ea-9306-6e397d6f7fd4')\"\n",
              "              title=\"Convert this dataframe to an interactive table.\"\n",
              "              style=\"display:none;\">\n",
              "        \n",
              "  <svg xmlns=\"http://www.w3.org/2000/svg\" height=\"24px\"viewBox=\"0 0 24 24\"\n",
              "       width=\"24px\">\n",
              "    <path d=\"M0 0h24v24H0V0z\" fill=\"none\"/>\n",
              "    <path d=\"M18.56 5.44l.94 2.06.94-2.06 2.06-.94-2.06-.94-.94-2.06-.94 2.06-2.06.94zm-11 1L8.5 8.5l.94-2.06 2.06-.94-2.06-.94L8.5 2.5l-.94 2.06-2.06.94zm10 10l.94 2.06.94-2.06 2.06-.94-2.06-.94-.94-2.06-.94 2.06-2.06.94z\"/><path d=\"M17.41 7.96l-1.37-1.37c-.4-.4-.92-.59-1.43-.59-.52 0-1.04.2-1.43.59L10.3 9.45l-7.72 7.72c-.78.78-.78 2.05 0 2.83L4 21.41c.39.39.9.59 1.41.59.51 0 1.02-.2 1.41-.59l7.78-7.78 2.81-2.81c.8-.78.8-2.07 0-2.86zM5.41 20L4 18.59l7.72-7.72 1.47 1.35L5.41 20z\"/>\n",
              "  </svg>\n",
              "      </button>\n",
              "      \n",
              "  <style>\n",
              "    .colab-df-container {\n",
              "      display:flex;\n",
              "      flex-wrap:wrap;\n",
              "      gap: 12px;\n",
              "    }\n",
              "\n",
              "    .colab-df-convert {\n",
              "      background-color: #E8F0FE;\n",
              "      border: none;\n",
              "      border-radius: 50%;\n",
              "      cursor: pointer;\n",
              "      display: none;\n",
              "      fill: #1967D2;\n",
              "      height: 32px;\n",
              "      padding: 0 0 0 0;\n",
              "      width: 32px;\n",
              "    }\n",
              "\n",
              "    .colab-df-convert:hover {\n",
              "      background-color: #E2EBFA;\n",
              "      box-shadow: 0px 1px 2px rgba(60, 64, 67, 0.3), 0px 1px 3px 1px rgba(60, 64, 67, 0.15);\n",
              "      fill: #174EA6;\n",
              "    }\n",
              "\n",
              "    [theme=dark] .colab-df-convert {\n",
              "      background-color: #3B4455;\n",
              "      fill: #D2E3FC;\n",
              "    }\n",
              "\n",
              "    [theme=dark] .colab-df-convert:hover {\n",
              "      background-color: #434B5C;\n",
              "      box-shadow: 0px 1px 3px 1px rgba(0, 0, 0, 0.15);\n",
              "      filter: drop-shadow(0px 1px 2px rgba(0, 0, 0, 0.3));\n",
              "      fill: #FFFFFF;\n",
              "    }\n",
              "  </style>\n",
              "\n",
              "      <script>\n",
              "        const buttonEl =\n",
              "          document.querySelector('#df-1a296ace-7919-43ea-9306-6e397d6f7fd4 button.colab-df-convert');\n",
              "        buttonEl.style.display =\n",
              "          google.colab.kernel.accessAllowed ? 'block' : 'none';\n",
              "\n",
              "        async function convertToInteractive(key) {\n",
              "          const element = document.querySelector('#df-1a296ace-7919-43ea-9306-6e397d6f7fd4');\n",
              "          const dataTable =\n",
              "            await google.colab.kernel.invokeFunction('convertToInteractive',\n",
              "                                                     [key], {});\n",
              "          if (!dataTable) return;\n",
              "\n",
              "          const docLinkHtml = 'Like what you see? Visit the ' +\n",
              "            '<a target=\"_blank\" href=https://colab.research.google.com/notebooks/data_table.ipynb>data table notebook</a>'\n",
              "            + ' to learn more about interactive tables.';\n",
              "          element.innerHTML = '';\n",
              "          dataTable['output_type'] = 'display_data';\n",
              "          await google.colab.output.renderOutput(dataTable, element);\n",
              "          const docLink = document.createElement('div');\n",
              "          docLink.innerHTML = docLinkHtml;\n",
              "          element.appendChild(docLink);\n",
              "        }\n",
              "      </script>\n",
              "    </div>\n",
              "  </div>\n",
              "  "
            ]
          },
          "metadata": {},
          "execution_count": 43
        }
      ]
    },
    {
      "cell_type": "code",
      "source": [
        ""
      ],
      "metadata": {
        "id": "U4_ce-WbrjhS"
      },
      "execution_count": null,
      "outputs": []
    },
    {
      "cell_type": "code",
      "source": [
        "mod = sm.OLS(X_train[target], X_train[['venta_predicted', 'macro_pred', 'intercept']])\n",
        "res = mod.fit()\n",
        "print(res.summary())"
      ],
      "metadata": {
        "id": "Ns8Vy7za2RKp"
      },
      "execution_count": null,
      "outputs": []
    },
    {
      "cell_type": "code",
      "source": [
        "\n",
        "data_res['venta_predicted_final'] = 0.1938*data_res.venta_predicted + 0.9125*data_res.macro_pred - 6.1913\n",
        "\n",
        "\n",
        "data = data_res.copy().dropna()\n",
        "X_train = data[:-test_size].dropna()\n",
        "X_test  = data[-test_size:].dropna()\n",
        "\n"
      ],
      "metadata": {
        "id": "Con7vVAa3TNT"
      },
      "execution_count": null,
      "outputs": []
    },
    {
      "cell_type": "code",
      "source": [
        "X_train[['venta_predicted_final', target]].corr()**2"
      ],
      "metadata": {
        "colab": {
          "base_uri": "https://localhost:8080/",
          "height": 112
        },
        "id": "ZmIbyI2w7yuZ",
        "outputId": "b9d67094-5e06-483d-9aa7-dc7b63f292b6"
      },
      "execution_count": null,
      "outputs": [
        {
          "output_type": "execute_result",
          "data": {
            "text/plain": [
              "                       venta_predicted_final  Venta_zona_1\n",
              "venta_predicted_final               1.000000      0.250031\n",
              "Venta_zona_1                        0.250031      1.000000"
            ],
            "text/html": [
              "\n",
              "  <div id=\"df-e2acc920-d685-4fc4-85a0-96dff54ced98\">\n",
              "    <div class=\"colab-df-container\">\n",
              "      <div>\n",
              "<style scoped>\n",
              "    .dataframe tbody tr th:only-of-type {\n",
              "        vertical-align: middle;\n",
              "    }\n",
              "\n",
              "    .dataframe tbody tr th {\n",
              "        vertical-align: top;\n",
              "    }\n",
              "\n",
              "    .dataframe thead th {\n",
              "        text-align: right;\n",
              "    }\n",
              "</style>\n",
              "<table border=\"1\" class=\"dataframe\">\n",
              "  <thead>\n",
              "    <tr style=\"text-align: right;\">\n",
              "      <th></th>\n",
              "      <th>venta_predicted_final</th>\n",
              "      <th>Venta_zona_1</th>\n",
              "    </tr>\n",
              "  </thead>\n",
              "  <tbody>\n",
              "    <tr>\n",
              "      <th>venta_predicted_final</th>\n",
              "      <td>1.000000</td>\n",
              "      <td>0.250031</td>\n",
              "    </tr>\n",
              "    <tr>\n",
              "      <th>Venta_zona_1</th>\n",
              "      <td>0.250031</td>\n",
              "      <td>1.000000</td>\n",
              "    </tr>\n",
              "  </tbody>\n",
              "</table>\n",
              "</div>\n",
              "      <button class=\"colab-df-convert\" onclick=\"convertToInteractive('df-e2acc920-d685-4fc4-85a0-96dff54ced98')\"\n",
              "              title=\"Convert this dataframe to an interactive table.\"\n",
              "              style=\"display:none;\">\n",
              "        \n",
              "  <svg xmlns=\"http://www.w3.org/2000/svg\" height=\"24px\"viewBox=\"0 0 24 24\"\n",
              "       width=\"24px\">\n",
              "    <path d=\"M0 0h24v24H0V0z\" fill=\"none\"/>\n",
              "    <path d=\"M18.56 5.44l.94 2.06.94-2.06 2.06-.94-2.06-.94-.94-2.06-.94 2.06-2.06.94zm-11 1L8.5 8.5l.94-2.06 2.06-.94-2.06-.94L8.5 2.5l-.94 2.06-2.06.94zm10 10l.94 2.06.94-2.06 2.06-.94-2.06-.94-.94-2.06-.94 2.06-2.06.94z\"/><path d=\"M17.41 7.96l-1.37-1.37c-.4-.4-.92-.59-1.43-.59-.52 0-1.04.2-1.43.59L10.3 9.45l-7.72 7.72c-.78.78-.78 2.05 0 2.83L4 21.41c.39.39.9.59 1.41.59.51 0 1.02-.2 1.41-.59l7.78-7.78 2.81-2.81c.8-.78.8-2.07 0-2.86zM5.41 20L4 18.59l7.72-7.72 1.47 1.35L5.41 20z\"/>\n",
              "  </svg>\n",
              "      </button>\n",
              "      \n",
              "  <style>\n",
              "    .colab-df-container {\n",
              "      display:flex;\n",
              "      flex-wrap:wrap;\n",
              "      gap: 12px;\n",
              "    }\n",
              "\n",
              "    .colab-df-convert {\n",
              "      background-color: #E8F0FE;\n",
              "      border: none;\n",
              "      border-radius: 50%;\n",
              "      cursor: pointer;\n",
              "      display: none;\n",
              "      fill: #1967D2;\n",
              "      height: 32px;\n",
              "      padding: 0 0 0 0;\n",
              "      width: 32px;\n",
              "    }\n",
              "\n",
              "    .colab-df-convert:hover {\n",
              "      background-color: #E2EBFA;\n",
              "      box-shadow: 0px 1px 2px rgba(60, 64, 67, 0.3), 0px 1px 3px 1px rgba(60, 64, 67, 0.15);\n",
              "      fill: #174EA6;\n",
              "    }\n",
              "\n",
              "    [theme=dark] .colab-df-convert {\n",
              "      background-color: #3B4455;\n",
              "      fill: #D2E3FC;\n",
              "    }\n",
              "\n",
              "    [theme=dark] .colab-df-convert:hover {\n",
              "      background-color: #434B5C;\n",
              "      box-shadow: 0px 1px 3px 1px rgba(0, 0, 0, 0.15);\n",
              "      filter: drop-shadow(0px 1px 2px rgba(0, 0, 0, 0.3));\n",
              "      fill: #FFFFFF;\n",
              "    }\n",
              "  </style>\n",
              "\n",
              "      <script>\n",
              "        const buttonEl =\n",
              "          document.querySelector('#df-e2acc920-d685-4fc4-85a0-96dff54ced98 button.colab-df-convert');\n",
              "        buttonEl.style.display =\n",
              "          google.colab.kernel.accessAllowed ? 'block' : 'none';\n",
              "\n",
              "        async function convertToInteractive(key) {\n",
              "          const element = document.querySelector('#df-e2acc920-d685-4fc4-85a0-96dff54ced98');\n",
              "          const dataTable =\n",
              "            await google.colab.kernel.invokeFunction('convertToInteractive',\n",
              "                                                     [key], {});\n",
              "          if (!dataTable) return;\n",
              "\n",
              "          const docLinkHtml = 'Like what you see? Visit the ' +\n",
              "            '<a target=\"_blank\" href=https://colab.research.google.com/notebooks/data_table.ipynb>data table notebook</a>'\n",
              "            + ' to learn more about interactive tables.';\n",
              "          element.innerHTML = '';\n",
              "          dataTable['output_type'] = 'display_data';\n",
              "          await google.colab.output.renderOutput(dataTable, element);\n",
              "          const docLink = document.createElement('div');\n",
              "          docLink.innerHTML = docLinkHtml;\n",
              "          element.appendChild(docLink);\n",
              "        }\n",
              "      </script>\n",
              "    </div>\n",
              "  </div>\n",
              "  "
            ]
          },
          "metadata": {},
          "execution_count": 223
        }
      ]
    },
    {
      "cell_type": "code",
      "source": [
        "data[['venta_predicted',\n",
        "      'venta_predicted_final', target]].to_csv('results_zona1.csv', index=0)"
      ],
      "metadata": {
        "id": "v79loELBUABS"
      },
      "execution_count": null,
      "outputs": []
    },
    {
      "cell_type": "code",
      "source": [
        "data[['venta_predicted',\n",
        "      'venta_predicted_final', target]]"
      ],
      "metadata": {
        "id": "baKpexkF_hB7"
      },
      "execution_count": null,
      "outputs": []
    },
    {
      "cell_type": "code",
      "source": [
        "X_test[features]"
      ],
      "metadata": {
        "colab": {
          "base_uri": "https://localhost:8080/",
          "height": 143
        },
        "id": "eKeAUlBDniSO",
        "outputId": "aca011c6-9cbf-4801-9384-9538750d5362"
      },
      "execution_count": null,
      "outputs": [
        {
          "output_type": "execute_result",
          "data": {
            "text/plain": [
              "        Venta_zona_1_lag3_avg3\n",
              "codmes                        \n",
              "abr-22               63.000000\n",
              "may-22               55.333333"
            ],
            "text/html": [
              "\n",
              "  <div id=\"df-be4446fd-2683-4cfa-9e24-05946da9625d\">\n",
              "    <div class=\"colab-df-container\">\n",
              "      <div>\n",
              "<style scoped>\n",
              "    .dataframe tbody tr th:only-of-type {\n",
              "        vertical-align: middle;\n",
              "    }\n",
              "\n",
              "    .dataframe tbody tr th {\n",
              "        vertical-align: top;\n",
              "    }\n",
              "\n",
              "    .dataframe thead th {\n",
              "        text-align: right;\n",
              "    }\n",
              "</style>\n",
              "<table border=\"1\" class=\"dataframe\">\n",
              "  <thead>\n",
              "    <tr style=\"text-align: right;\">\n",
              "      <th></th>\n",
              "      <th>Venta_zona_1_lag3_avg3</th>\n",
              "    </tr>\n",
              "    <tr>\n",
              "      <th>codmes</th>\n",
              "      <th></th>\n",
              "    </tr>\n",
              "  </thead>\n",
              "  <tbody>\n",
              "    <tr>\n",
              "      <th>abr-22</th>\n",
              "      <td>63.000000</td>\n",
              "    </tr>\n",
              "    <tr>\n",
              "      <th>may-22</th>\n",
              "      <td>55.333333</td>\n",
              "    </tr>\n",
              "  </tbody>\n",
              "</table>\n",
              "</div>\n",
              "      <button class=\"colab-df-convert\" onclick=\"convertToInteractive('df-be4446fd-2683-4cfa-9e24-05946da9625d')\"\n",
              "              title=\"Convert this dataframe to an interactive table.\"\n",
              "              style=\"display:none;\">\n",
              "        \n",
              "  <svg xmlns=\"http://www.w3.org/2000/svg\" height=\"24px\"viewBox=\"0 0 24 24\"\n",
              "       width=\"24px\">\n",
              "    <path d=\"M0 0h24v24H0V0z\" fill=\"none\"/>\n",
              "    <path d=\"M18.56 5.44l.94 2.06.94-2.06 2.06-.94-2.06-.94-.94-2.06-.94 2.06-2.06.94zm-11 1L8.5 8.5l.94-2.06 2.06-.94-2.06-.94L8.5 2.5l-.94 2.06-2.06.94zm10 10l.94 2.06.94-2.06 2.06-.94-2.06-.94-.94-2.06-.94 2.06-2.06.94z\"/><path d=\"M17.41 7.96l-1.37-1.37c-.4-.4-.92-.59-1.43-.59-.52 0-1.04.2-1.43.59L10.3 9.45l-7.72 7.72c-.78.78-.78 2.05 0 2.83L4 21.41c.39.39.9.59 1.41.59.51 0 1.02-.2 1.41-.59l7.78-7.78 2.81-2.81c.8-.78.8-2.07 0-2.86zM5.41 20L4 18.59l7.72-7.72 1.47 1.35L5.41 20z\"/>\n",
              "  </svg>\n",
              "      </button>\n",
              "      \n",
              "  <style>\n",
              "    .colab-df-container {\n",
              "      display:flex;\n",
              "      flex-wrap:wrap;\n",
              "      gap: 12px;\n",
              "    }\n",
              "\n",
              "    .colab-df-convert {\n",
              "      background-color: #E8F0FE;\n",
              "      border: none;\n",
              "      border-radius: 50%;\n",
              "      cursor: pointer;\n",
              "      display: none;\n",
              "      fill: #1967D2;\n",
              "      height: 32px;\n",
              "      padding: 0 0 0 0;\n",
              "      width: 32px;\n",
              "    }\n",
              "\n",
              "    .colab-df-convert:hover {\n",
              "      background-color: #E2EBFA;\n",
              "      box-shadow: 0px 1px 2px rgba(60, 64, 67, 0.3), 0px 1px 3px 1px rgba(60, 64, 67, 0.15);\n",
              "      fill: #174EA6;\n",
              "    }\n",
              "\n",
              "    [theme=dark] .colab-df-convert {\n",
              "      background-color: #3B4455;\n",
              "      fill: #D2E3FC;\n",
              "    }\n",
              "\n",
              "    [theme=dark] .colab-df-convert:hover {\n",
              "      background-color: #434B5C;\n",
              "      box-shadow: 0px 1px 3px 1px rgba(0, 0, 0, 0.15);\n",
              "      filter: drop-shadow(0px 1px 2px rgba(0, 0, 0, 0.3));\n",
              "      fill: #FFFFFF;\n",
              "    }\n",
              "  </style>\n",
              "\n",
              "      <script>\n",
              "        const buttonEl =\n",
              "          document.querySelector('#df-be4446fd-2683-4cfa-9e24-05946da9625d button.colab-df-convert');\n",
              "        buttonEl.style.display =\n",
              "          google.colab.kernel.accessAllowed ? 'block' : 'none';\n",
              "\n",
              "        async function convertToInteractive(key) {\n",
              "          const element = document.querySelector('#df-be4446fd-2683-4cfa-9e24-05946da9625d');\n",
              "          const dataTable =\n",
              "            await google.colab.kernel.invokeFunction('convertToInteractive',\n",
              "                                                     [key], {});\n",
              "          if (!dataTable) return;\n",
              "\n",
              "          const docLinkHtml = 'Like what you see? Visit the ' +\n",
              "            '<a target=\"_blank\" href=https://colab.research.google.com/notebooks/data_table.ipynb>data table notebook</a>'\n",
              "            + ' to learn more about interactive tables.';\n",
              "          element.innerHTML = '';\n",
              "          dataTable['output_type'] = 'display_data';\n",
              "          await google.colab.output.renderOutput(dataTable, element);\n",
              "          const docLink = document.createElement('div');\n",
              "          docLink.innerHTML = docLinkHtml;\n",
              "          element.appendChild(docLink);\n",
              "        }\n",
              "      </script>\n",
              "    </div>\n",
              "  </div>\n",
              "  "
            ]
          },
          "metadata": {},
          "execution_count": 232
        }
      ]
    },
    {
      "cell_type": "markdown",
      "source": [
        "# Implementación"
      ],
      "metadata": {
        "id": "JOCKvHF0ot-U"
      }
    },
    {
      "cell_type": "code",
      "source": [
        ""
      ],
      "metadata": {
        "id": "fDYaG5-uOm5R"
      },
      "execution_count": null,
      "outputs": []
    },
    {
      "cell_type": "code",
      "source": [
        "data[[target + '_lag2_avg3', 'ind_prec_inf_suby_bienes_avg3_std', 'precio_venta_total_rat3to6_std']]"
      ],
      "metadata": {
        "id": "QIhvX48MpSj_"
      },
      "execution_count": null,
      "outputs": []
    },
    {
      "cell_type": "code",
      "source": [
        "input = pd.DataFrame({target + '_lag2_avg3' : [27, 27, 27, 27, 27, 27],\n",
        "                      'ind_prec_inf_suby_bienes_avg3_std' : [1.802815]*6,\n",
        "                      'precio_venta_total_rat3to6_std' : [-0.132731]*6\n",
        "                      },\n",
        "                      index = ['may-22','jun-22', 'jul-22', 'ago-22', 'sept-22', 'oct-22'])         \n",
        "\n",
        "                                          \n"
      ],
      "metadata": {
        "id": "zFxGgaK3npiZ"
      },
      "execution_count": null,
      "outputs": []
    },
    {
      "cell_type": "code",
      "source": [
        "fc_pred, se, conf  = model_fit.forecast(6, exog = input[target + '_lag2_avg3'], alpha=0.05)\n",
        "input['venta_predicted'] = fc_pred\n",
        "fc_pred"
      ],
      "metadata": {
        "colab": {
          "base_uri": "https://localhost:8080/"
        },
        "id": "mtnIZZscnhiY",
        "outputId": "fbc4c081-a041-4993-9048-1cc0fb2f4a46"
      },
      "execution_count": null,
      "outputs": [
        {
          "output_type": "execute_result",
          "data": {
            "text/plain": [
              "array([28.08986725, 28.0542021 , 28.25511449, 29.03104042, 29.51088981,\n",
              "       29.74709591])"
            ]
          },
          "metadata": {},
          "execution_count": 69
        }
      ]
    },
    {
      "cell_type": "code",
      "source": [
        "\n",
        "input['macro_pred'] = 15.5556 +\\\n",
        "                         4.8866*input.ind_prec_inf_suby_bienes_avg3_std -\\\n",
        "                         1.3525*input.precio_venta_total_rat3to6_std\n",
        "\n",
        "#input['venta_predicted_final'] = 0.1938*input.venta_predicted + 0.9125*input.macro_pred - 6.1913\n"
      ],
      "metadata": {
        "id": "T-QXUMc1o5iD"
      },
      "execution_count": null,
      "outputs": []
    },
    {
      "cell_type": "code",
      "source": [
        "fc_pred, se, conf  = model_fit_ff.forecast(6, exog = input[['venta_predicted', 'macro_pred']], alpha=0.05)\n",
        "input['venta_predicted_final'] = fc_pred\n",
        "input['venta_predicted_final']\n",
        "fc_pred"
      ],
      "metadata": {
        "colab": {
          "base_uri": "https://localhost:8080/"
        },
        "id": "QeE52zEn-z2e",
        "outputId": "058bfc26-b881-4080-98e0-c26ba7534f54"
      },
      "execution_count": null,
      "outputs": [
        {
          "output_type": "execute_result",
          "data": {
            "text/plain": [
              "array([21.92980228, 18.38098519, 16.28832407, 12.65320437,  7.67529067,\n",
              "        4.50873281])"
            ]
          },
          "metadata": {},
          "execution_count": 71
        }
      ]
    },
    {
      "cell_type": "code",
      "source": [
        "input['macro_pred']"
      ],
      "metadata": {
        "id": "eTIqecWm88yT",
        "colab": {
          "base_uri": "https://localhost:8080/"
        },
        "outputId": "4d14d26a-0435-489c-be5f-08f5e43095f9"
      },
      "execution_count": null,
      "outputs": [
        {
          "output_type": "execute_result",
          "data": {
            "text/plain": [
              "may-22     24.544754\n",
              "jun-22     24.544754\n",
              "jul-22     24.544754\n",
              "ago-22     24.544754\n",
              "sept-22    24.544754\n",
              "oct-22     24.544754\n",
              "Name: macro_pred, dtype: float64"
            ]
          },
          "metadata": {},
          "execution_count": 72
        }
      ]
    },
    {
      "cell_type": "markdown",
      "source": [
        ""
      ],
      "metadata": {
        "id": "zSiZlIsnpO9Y"
      }
    }
  ]
}