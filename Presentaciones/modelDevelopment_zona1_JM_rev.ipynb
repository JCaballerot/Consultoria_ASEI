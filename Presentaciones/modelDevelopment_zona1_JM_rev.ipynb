{
  "nbformat": 4,
  "nbformat_minor": 0,
  "metadata": {
    "colab": {
      "name": "modelDevelopment_zona1_JM_rev.ipynb",
      "provenance": [],
      "authorship_tag": "ABX9TyOPssMiQ3rmnpT2iACBBBlS",
      "include_colab_link": true
    },
    "kernelspec": {
      "name": "python3",
      "display_name": "Python 3"
    },
    "language_info": {
      "name": "python"
    }
  },
  "cells": [
    {
      "cell_type": "markdown",
      "metadata": {
        "id": "view-in-github",
        "colab_type": "text"
      },
      "source": [
        "<a href=\"https://colab.research.google.com/github/JCaballerot/Consultoria_ASEI/blob/main/Presentaciones/modelDevelopment_zona1_JM_rev.ipynb\" target=\"_parent\"><img src=\"https://colab.research.google.com/assets/colab-badge.svg\" alt=\"Open In Colab\"/></a>"
      ]
    },
    {
      "cell_type": "markdown",
      "source": [
        "\n",
        "<h1 align=center><font size = 5>Forecasting Jesus Maria Zona 1\n",
        "</font></h1>\n",
        "\n",
        "---"
      ],
      "metadata": {
        "id": "wiC5gJVlr7hP"
      }
    },
    {
      "cell_type": "markdown",
      "source": [
        "# Librerias\n",
        "\n"
      ],
      "metadata": {
        "id": "xO2RBVEFr9tN"
      }
    },
    {
      "cell_type": "markdown",
      "source": [
        "Cargamos las librerías que utilizaremos en el proyecto"
      ],
      "metadata": {
        "id": "fmv7x-WEwv2n"
      }
    },
    {
      "cell_type": "code",
      "execution_count": null,
      "metadata": {
        "id": "Q11_t7hjr3fD"
      },
      "outputs": [],
      "source": [
        "import pandas as pd\n",
        "\n",
        "import warnings                                  \n",
        "warnings.filterwarnings('ignore')\n",
        "\n",
        "import numpy as np                               \n",
        "import pandas as pd                              \n",
        "import matplotlib.pyplot as plt                  \n",
        "import seaborn as sns                            \n",
        "\n",
        "from sklearn.metrics import *"
      ]
    },
    {
      "cell_type": "code",
      "source": [
        "def plotMovingAverage(series, window, plot_intervals=False, scale=1.96, plot_anomalies=False):\n",
        "\n",
        "    \"\"\"\n",
        "        series - dataframe with timeseries\n",
        "        window - rolling window size \n",
        "        plot_intervals - show confidence intervals\n",
        "        plot_anomalies - show anomalies \n",
        "\n",
        "    \"\"\"\n",
        "    rolling_mean = series.rolling(window=window).mean()\n",
        "\n",
        "    plt.figure(figsize=(15,5))\n",
        "    plt.title(\"Moving average\\n window size = {}\".format(window))\n",
        "    plt.plot(rolling_mean, \"g\", label=\"Rolling mean trend\",  color='red')\n",
        "\n",
        "    # Plot confidence intervals for smoothed values\n",
        "    if plot_intervals:\n",
        "        mae = mean_absolute_error(series[window:], rolling_mean[window:])\n",
        "        deviation = np.std(series[window:] - rolling_mean[window:])\n",
        "        lower_bond = rolling_mean - (mae + scale * deviation)\n",
        "        upper_bond = rolling_mean + (mae + scale * deviation)\n",
        "        plt.plot(upper_bond, \"r--\", label=\"Upper Bond / Lower Bond\")\n",
        "        plt.plot(lower_bond, \"r--\")\n",
        "        \n",
        "        # Having the intervals, find abnormal values\n",
        "        if plot_anomalies:\n",
        "            anomalies = pd.DataFrame(index=series.index, columns=series.columns)\n",
        "            anomalies[series<lower_bond] = series[series<lower_bond]\n",
        "            anomalies[series>upper_bond] = series[series>upper_bond]\n",
        "            plt.plot(anomalies, \"ro\", markersize=10)\n",
        "        \n",
        "    plt.plot(series[window:], label=\"Actual values\")\n",
        "    plt.legend(loc=\"upper left\")\n",
        "    plt.grid(True)\n",
        "    plt.xticks(rotation=90)"
      ],
      "metadata": {
        "id": "bJ0O_ADRtF1D"
      },
      "execution_count": null,
      "outputs": []
    },
    {
      "cell_type": "markdown",
      "source": [
        "# Data"
      ],
      "metadata": {
        "id": "ehWhNPfVsKFl"
      }
    },
    {
      "cell_type": "markdown",
      "source": [
        "Importamos la información desde un archivo csv cargado en el file temporal y nos quedamos con los datos de la zona 2"
      ],
      "metadata": {
        "id": "6YGbfWavw0hC"
      }
    },
    {
      "cell_type": "code",
      "source": [
        "target = 'Venta_zona_1'\n",
        "\n",
        "pddf = pd.read_csv('datos_jesusmaria.csv',delimiter=';', index_col=['codmes'], parse_dates=['codmes']).fillna(0)\n",
        "pddf = pddf[[target]]\n",
        "\n",
        "pddf[target+'_lag2'] = pddf[target].shift(2)\n",
        "pddf[target+'_lag3'] = pddf[target].shift(3)\n"
      ],
      "metadata": {
        "id": "EB04t1HTsFVK"
      },
      "execution_count": null,
      "outputs": []
    },
    {
      "cell_type": "code",
      "source": [
        "macro = pd.read_csv('macros_corregido.csv', index_col=['codmes'], parse_dates=['codmes']).drop(columns=['imp_mater_const'])\n",
        "variables_macro = macro.columns.tolist()\n",
        "macro[variables_macro] = macro[variables_macro].shift(3)\n"
      ],
      "metadata": {
        "id": "hGMDtOnyPe2s"
      },
      "execution_count": null,
      "outputs": []
    },
    {
      "cell_type": "code",
      "source": [
        "asei = pd.read_csv('variables_asei_new.csv', delimiter = ';', index_col=['codmes'], parse_dates=['codmes'])\n",
        "variables_asei = asei.columns.tolist()\n",
        "asei[variables_asei] = asei[variables_asei].shift(2)"
      ],
      "metadata": {
        "id": "4QoNKpoRi1Tm"
      },
      "execution_count": null,
      "outputs": []
    },
    {
      "cell_type": "code",
      "source": [
        "\n",
        "pddf2 = pd.merge(pddf, macro, on = 'codmes', how='left').copy()\n",
        "pddf2 = pd.merge(pddf2, asei, on = 'codmes', how='left')\n",
        "\n",
        "variables = variables_macro + variables_asei + [target+'_lag2', target+'_lag3']\n"
      ],
      "metadata": {
        "id": "sRvQT93-PkXc"
      },
      "execution_count": null,
      "outputs": []
    },
    {
      "cell_type": "code",
      "source": [
        "pddfRes = pddf2.copy()\n",
        "\n",
        "pddfRes[[x + '_avg3' for x in variables]] = pddfRes[variables].rolling(3, min_periods = 3).mean()\n",
        "pddfRes[[x + '_avg6' for x in variables]] = pddfRes[variables].rolling(6, min_periods = 6).mean()\n",
        "\n",
        "pddfRes = pddfRes.iloc[8:]\n"
      ],
      "metadata": {
        "id": "5drxxUodV7Kx"
      },
      "execution_count": null,
      "outputs": []
    },
    {
      "cell_type": "code",
      "source": [
        "for x in variables:\n",
        "  pddfRes[x + '_rat3to6'] = pddfRes[x + '_avg3']/pddfRes[x + '_avg6']\n",
        "  "
      ],
      "metadata": {
        "id": "KsBW-KibY-OQ"
      },
      "execution_count": null,
      "outputs": []
    },
    {
      "cell_type": "code",
      "source": [
        "\n",
        "variables_f = variables_macro +\\\n",
        "              variables_asei +\\\n",
        "              [target+'_lag2', target+'_lag3'] +\\\n",
        "              [x + '_avg3' for x in variables] +\\\n",
        "              [x + '_avg6' for x in variables] +\\\n",
        "              [x + '_rat3to6' for x in variables]\n"
      ],
      "metadata": {
        "id": "ozekvxpSXpLl"
      },
      "execution_count": null,
      "outputs": []
    },
    {
      "cell_type": "code",
      "source": [
        "pddfRes['intercept'] = 1"
      ],
      "metadata": {
        "id": "cG0MGJkQi8pX"
      },
      "execution_count": null,
      "outputs": []
    },
    {
      "cell_type": "code",
      "source": [
        "test_size = 2\n",
        "\n",
        "data = pddfRes.copy().dropna()\n",
        "X_train = pddfRes[:-test_size].dropna()\n",
        "X_test  = pddfRes[-test_size:].dropna()\n"
      ],
      "metadata": {
        "id": "r5toDAY8ul8i"
      },
      "execution_count": null,
      "outputs": []
    },
    {
      "cell_type": "code",
      "source": [
        "# Estandarización\n",
        "\n",
        "X_train[[x + '_std' for x in variables_f]] = (X_train[variables_f] - X_train[variables_f].mean())/X_train[variables_f].std()\n",
        "X_test[[x + '_std'  for x in variables_f]] = (X_test[variables_f]  - X_train[variables_f].mean())/X_train[variables_f].std()\n",
        "data[[x + '_std'    for x in variables_f]] = (data[variables_f]    - X_train[variables_f].mean())/X_train[variables_f].std()\n",
        "\n"
      ],
      "metadata": {
        "id": "lySUEA2MveWP"
      },
      "execution_count": null,
      "outputs": []
    },
    {
      "cell_type": "code",
      "source": [
        "X_train[['ind_prec_inm_rat3to6', 'ind_prec_inf_suby_bienes_avg6']].mean()\n"
      ],
      "metadata": {
        "colab": {
          "base_uri": "https://localhost:8080/"
        },
        "id": "4kBjUIDhN4Po",
        "outputId": "2eafb0cb-d8de-4e86-f596-95a379e97462"
      },
      "execution_count": null,
      "outputs": [
        {
          "output_type": "execute_result",
          "data": {
            "text/plain": [
              "ind_prec_inm_rat3to6             1.000698\n",
              "ind_prec_inf_suby_bienes_avg6    0.185542\n",
              "dtype: float64"
            ]
          },
          "metadata": {},
          "execution_count": 32
        }
      ]
    },
    {
      "cell_type": "code",
      "source": [
        "X_train[['ind_prec_inm_rat3to6', 'ind_prec_inf_suby_bienes_avg6']].std()"
      ],
      "metadata": {
        "colab": {
          "base_uri": "https://localhost:8080/"
        },
        "id": "xwHcxvpKN4DY",
        "outputId": "78d1c24f-4136-4e37-9ecf-70bf90dd4f28"
      },
      "execution_count": null,
      "outputs": [
        {
          "output_type": "execute_result",
          "data": {
            "text/plain": [
              "ind_prec_inm_rat3to6             0.005181\n",
              "ind_prec_inf_suby_bienes_avg6    0.083822\n",
              "dtype: float64"
            ]
          },
          "metadata": {},
          "execution_count": 33
        }
      ]
    },
    {
      "cell_type": "markdown",
      "source": [
        "# Forecasting"
      ],
      "metadata": {
        "id": "c39Drzwvh8Nu"
      }
    },
    {
      "cell_type": "markdown",
      "source": [
        "### Exploracion"
      ],
      "metadata": {
        "id": "SFdpMnUJK7SQ"
      }
    },
    {
      "cell_type": "markdown",
      "source": [
        "Muestreamos la data en train y test bajo metodología OOT"
      ],
      "metadata": {
        "id": "MmAh_jjpw-5L"
      }
    },
    {
      "cell_type": "code",
      "source": [
        "plotMovingAverage(data[target], 6)"
      ],
      "metadata": {
        "id": "DGQ8sqoUtgKj"
      },
      "execution_count": null,
      "outputs": []
    },
    {
      "cell_type": "code",
      "source": [
        "plotMovingAverage(data[target], 6, plot_intervals=True, scale=1.64, plot_anomalies=False)"
      ],
      "metadata": {
        "id": "LmGMfjvgsxQ6"
      },
      "execution_count": null,
      "outputs": []
    },
    {
      "cell_type": "code",
      "source": [
        "from statsmodels.tsa.stattools import adfuller\n",
        "from numpy import log\n",
        "\n",
        "result = adfuller(X_train[target].dropna())\n",
        "print('ADF Statistic: %f' % result[0])\n",
        "print('p-value: %f' % result[1])"
      ],
      "metadata": {
        "colab": {
          "base_uri": "https://localhost:8080/"
        },
        "id": "sd3XB2B4y5Pi",
        "outputId": "d379bcdf-8649-4e57-a210-2fc2f484df4b"
      },
      "execution_count": null,
      "outputs": [
        {
          "output_type": "stream",
          "name": "stdout",
          "text": [
            "ADF Statistic: -4.887461\n",
            "p-value: 0.000037\n"
          ]
        }
      ]
    },
    {
      "cell_type": "markdown",
      "source": [
        "Dado que el valor p es mayor que el nivel de significancia (0,05), diferenciemos las series y veamos cómo se ve el gráfico de autocorrelación."
      ],
      "metadata": {
        "id": "-6jKRpUZbR3E"
      }
    },
    {
      "cell_type": "code",
      "source": [
        "from statsmodels.graphics.tsaplots import plot_acf, plot_pacf\n",
        "import matplotlib.pyplot as plt\n",
        "plt.rcParams.update({'figure.figsize':(9,7), 'figure.dpi':120})\n",
        "\n",
        "\n",
        "# Original Series\n",
        "fig, axes = plt.subplots(3, 2, sharex=True)\n",
        "axes[0, 0].plot(X_train[target]); axes[0, 0].set_title('Original Series')\n",
        "plot_acf(X_train[target], ax=axes[0, 1])\n",
        "\n",
        "# 1st Differencing\n",
        "axes[1, 0].plot(X_train[target].diff()); axes[1, 0].set_title('1st Order Differencing')\n",
        "plot_acf(X_train[target].diff().dropna(), ax=axes[1, 1])\n",
        "\n",
        "# 2nd Differencing\n",
        "axes[2, 0].plot(X_train[target].diff().diff()); axes[2, 0].set_title('2nd Order Differencing')\n",
        "plot_acf(X_train[target].diff().diff().dropna(), ax=axes[2, 1])\n",
        "\n",
        "plt.xticks(rotation=90)\n",
        "plt.show()"
      ],
      "metadata": {
        "id": "Wp8rwf7pbUOt"
      },
      "execution_count": null,
      "outputs": []
    },
    {
      "cell_type": "markdown",
      "source": [
        "Por los datos anteriores, podemos ver que la serie de tiempo alcanza la estacionariedad con dos órdenes de diferenciación."
      ],
      "metadata": {
        "id": "Kk8cEdtycESp"
      }
    },
    {
      "cell_type": "code",
      "source": [
        "# PACF plot of 1st differenced series\n",
        "plt.rcParams.update({'figure.figsize':(9,3), 'figure.dpi':120})\n",
        "\n",
        "fig, axes = plt.subplots(1, 2, sharex=True)\n",
        "axes[0].plot(X_train[target].diff()); axes[0].set_title('1st Differencing')\n",
        "axes[1].set(ylim=(0,5))\n",
        "plot_pacf(X_train[target].diff().dropna(), ax=axes[1])\n",
        "\n",
        "plt.xticks(rotation=90)\n",
        "plt.show()"
      ],
      "metadata": {
        "id": "waUyHRZ6cDPq"
      },
      "execution_count": null,
      "outputs": []
    },
    {
      "cell_type": "markdown",
      "source": [
        "Podemos ver que el retraso 1 de PACF es bastante significativo ya que está muy por encima de la línea de significancia. Entonces, fijaremos el valor de p como 1."
      ],
      "metadata": {
        "id": "c7vR1WjQJxNf"
      }
    },
    {
      "cell_type": "markdown",
      "source": [
        "### MA (q) "
      ],
      "metadata": {
        "id": "qtYLRSz2LyGl"
      }
    },
    {
      "cell_type": "code",
      "source": [
        "from statsmodels.graphics.tsaplots import plot_acf, plot_pacf\n",
        "plt.rcParams.update({'figure.figsize':(9,3), 'figure.dpi':120})\n",
        "\n",
        "fig, axes = plt.subplots(1, 2, sharex=True)\n",
        "axes[0].plot(X_train[target].diff()); axes[0].set_title('1st Differencing')\n",
        "axes[1].set(ylim=(0,1.2))\n",
        "plot_acf(X_train[target].diff().dropna(), ax=axes[1])\n",
        "plt.xticks(rotation=90)\n",
        "plt.show()\n"
      ],
      "metadata": {
        "id": "AIPrZWtgKoGc"
      },
      "execution_count": null,
      "outputs": []
    },
    {
      "cell_type": "markdown",
      "source": [
        "Podemos ver que un 1 retraso están muy por encima de la línea de significación. Entonces, fijaremos q como 1. Si hay alguna duda, iremos con el modelo más simple que explica suficientemente la Y"
      ],
      "metadata": {
        "id": "SFLPUMXEK4uq"
      }
    },
    {
      "cell_type": "markdown",
      "source": [
        "### Arima"
      ],
      "metadata": {
        "id": "sF3Nzhu_GwTN"
      }
    },
    {
      "cell_type": "markdown",
      "source": [
        "Ahora, hemos determinado los valores de p, d y q. Disponemos de todo lo necesario para adaptarse al modelo ARIMA. Usaremos la implementación ARIMA() en el paquete statsmodels.\n",
        "(p,d,q)"
      ],
      "metadata": {
        "id": "digPsRpioj96"
      }
    },
    {
      "cell_type": "code",
      "source": [
        "# Plot\n",
        "fig, axes = plt.subplots(2, 1, figsize=(10,5), dpi=100, sharex=True)\n",
        "\n",
        "# Usual Differencing\n",
        "axes[0].plot(X_train[target], label='Original Series')\n",
        "axes[0].plot(X_train[target].diff(1), label='Usual Differencing')\n",
        "axes[0].set_title('Usual Differencing')\n",
        "axes[0].legend(loc='upper left', fontsize=10)\n",
        "\n",
        "\n",
        "# Seasonal Differencing\n",
        "axes[1].plot(X_train[target], label='Original Series')\n",
        "axes[1].plot(X_train[target].diff(12), label='Seasonal Differencing', color='green')\n",
        "axes[1].set_title('Seasonal Differencing')\n",
        "plt.legend(loc='upper left', fontsize=10)\n",
        "plt.suptitle('Ventas Zona 3', fontsize=16)\n",
        "plt.xticks(rotation=90)\n",
        "plt.show()"
      ],
      "metadata": {
        "id": "1fbRfc3fqt-2"
      },
      "execution_count": null,
      "outputs": []
    },
    {
      "cell_type": "code",
      "source": [
        "from statsmodels.tsa.arima_model import ARIMA\n",
        "\n",
        "features = [target + '_lag3_avg3']\n",
        "\n",
        "# 2,1,1 ARIMA Model\n",
        "model = ARIMA(endog = X_train[target], \n",
        "              exog = X_train[features],  \n",
        "              order=(1,2,1))\n",
        "\n",
        "model_fit = model.fit()\n",
        "print(model_fit.summary())"
      ],
      "metadata": {
        "colab": {
          "base_uri": "https://localhost:8080/"
        },
        "id": "yP7aBQS2jU1q",
        "outputId": "22ee6d51-deea-4808-d1f2-1a09986225d1"
      },
      "execution_count": null,
      "outputs": [
        {
          "output_type": "stream",
          "name": "stdout",
          "text": [
            "                             ARIMA Model Results                              \n",
            "==============================================================================\n",
            "Dep. Variable:        D2.Venta_zona_1   No. Observations:                   44\n",
            "Model:                 ARIMA(1, 2, 1)   Log Likelihood                -194.030\n",
            "Method:                       css-mle   S.D. of innovations             18.885\n",
            "Date:                Mon, 25 Jul 2022   AIC                            398.060\n",
            "Time:                        07:08:49   BIC                            406.981\n",
            "Sample:                             2   HQIC                           401.369\n",
            "                                                                              \n",
            "==========================================================================================\n",
            "                             coef    std err          z      P>|z|      [0.025      0.975]\n",
            "------------------------------------------------------------------------------------------\n",
            "const                      0.8765      2.350      0.373      0.711      -3.730       5.483\n",
            "Venta_zona_1_lag3_avg3    -0.0158      0.041     -0.383      0.704      -0.097       0.065\n",
            "ar.L1.D2.Venta_zona_1     -0.3925      0.138     -2.835      0.007      -0.664      -0.121\n",
            "ma.L1.D2.Venta_zona_1     -0.9998      0.060    -16.729      0.000      -1.117      -0.883\n",
            "                                    Roots                                    \n",
            "=============================================================================\n",
            "                  Real          Imaginary           Modulus         Frequency\n",
            "-----------------------------------------------------------------------------\n",
            "AR.1           -2.5480           +0.0000j            2.5480            0.5000\n",
            "MA.1            1.0002           +0.0000j            1.0002            0.0000\n",
            "-----------------------------------------------------------------------------\n"
          ]
        }
      ]
    },
    {
      "cell_type": "code",
      "source": [
        "\n",
        "import pickle\n",
        "pickle.dump(model_fit, open(\"./arima_jmz1.ml\", 'wb'))"
      ],
      "metadata": {
        "id": "2kGAyaBhSbwp"
      },
      "execution_count": null,
      "outputs": []
    },
    {
      "cell_type": "code",
      "source": [
        "\n",
        "fc, se, conf  = model_fit.forecast(test_size, exog = X_test[features], alpha=0.05)\n",
        "model_res = model_fit.predict(start = X_train.index[2], \n",
        "                                end = X_train.index[-1], dynamic=False, typ = 'levels')\n",
        "\n",
        "data_res = data.copy()\n",
        "data_res['venta_predicted'] = model_res\n",
        "data_res.iloc[-test_size:]['venta_predicted'] = fc\n",
        "\n",
        "sns.lineplot(data = data_res[[target, 'venta_predicted']])\n"
      ],
      "metadata": {
        "colab": {
          "base_uri": "https://localhost:8080/",
          "height": 296
        },
        "id": "vgMQsSHIvka6",
        "outputId": "50d38499-2cf0-4d0d-ad1e-ab3eb53f0288"
      },
      "execution_count": null,
      "outputs": [
        {
          "output_type": "execute_result",
          "data": {
            "text/plain": [
              "<matplotlib.axes._subplots.AxesSubplot at 0x7f66fe6aabd0>"
            ]
          },
          "metadata": {},
          "execution_count": 37
        },
        {
          "output_type": "display_data",
          "data": {
            "text/plain": [
              "<Figure size 432x288 with 1 Axes>"
            ],
            "image/png": "[encoded data removed]"
          },
          "metadata": {
            "needs_background": "light"
          }
        }
      ]
    },
    {
      "cell_type": "code",
      "source": [
        "# Plot residual errors\n",
        "residuals = pd.DataFrame(model_fit.resid)\n",
        "fig, ax = plt.subplots(1,2)\n",
        "residuals.plot(title=\"Residuals\", ax=ax[0])\n",
        "residuals.plot(kind='kde', title='Density', ax=ax[1])\n",
        "plt.show()"
      ],
      "metadata": {
        "id": "wrHMnzY2totP"
      },
      "execution_count": null,
      "outputs": []
    },
    {
      "cell_type": "markdown",
      "source": [
        "Los errores residuales parecen correctos con una media cercana a cero y una varianza uniforme. Grafiquemos los valores reales contra los valores ajustados usando plot_predict()."
      ],
      "metadata": {
        "id": "msO1RWa3t1JN"
      }
    },
    {
      "cell_type": "code",
      "source": [
        "pd.set_option('display.max_rows', 500)"
      ],
      "metadata": {
        "id": "u2eru0vha5Kv"
      },
      "execution_count": null,
      "outputs": []
    },
    {
      "cell_type": "code",
      "source": [
        "data_res[['venta_predicted',target]]"
      ],
      "metadata": {
        "id": "00xoxP7B_fEw"
      },
      "execution_count": null,
      "outputs": []
    },
    {
      "cell_type": "code",
      "source": [
        "data_res[['venta_predicted',target]].to_csv('results_JM_zona1.csv', index=0)"
      ],
      "metadata": {
        "id": "awzlSvLia729"
      },
      "execution_count": null,
      "outputs": []
    },
    {
      "cell_type": "code",
      "source": [
        "\n",
        "data = data_res.copy().dropna()\n",
        "X_train = data_res[:-test_size].dropna()\n",
        "X_test  = data_res[-test_size:].dropna()\n",
        "\n"
      ],
      "metadata": {
        "id": "cvQQWFp_hakY"
      },
      "execution_count": null,
      "outputs": []
    },
    {
      "cell_type": "code",
      "source": [
        "X_test[['venta_predicted', target]]"
      ],
      "metadata": {
        "colab": {
          "base_uri": "https://localhost:8080/",
          "height": 143
        },
        "id": "PrHUJV_phlQF",
        "outputId": "cf891eb2-7a51-43af-c3d5-979803dd0449"
      },
      "execution_count": null,
      "outputs": [
        {
          "output_type": "execute_result",
          "data": {
            "text/plain": [
              "        venta_predicted  Venta_zona_1\n",
              "codmes                               \n",
              "abr-22        56.917399            49\n",
              "may-22        59.811991            38"
            ],
            "text/html": [
              "\n",
              "  <div id=\"df-867fc69a-b0b4-4db9-80ec-c6db5f8f16dd\">\n",
              "    <div class=\"colab-df-container\">\n",
              "      <div>\n",
              "<style scoped>\n",
              "    .dataframe tbody tr th:only-of-type {\n",
              "        vertical-align: middle;\n",
              "    }\n",
              "\n",
              "    .dataframe tbody tr th {\n",
              "        vertical-align: top;\n",
              "    }\n",
              "\n",
              "    .dataframe thead th {\n",
              "        text-align: right;\n",
              "    }\n",
              "</style>\n",
              "<table border=\"1\" class=\"dataframe\">\n",
              "  <thead>\n",
              "    <tr style=\"text-align: right;\">\n",
              "      <th></th>\n",
              "      <th>venta_predicted</th>\n",
              "      <th>Venta_zona_1</th>\n",
              "    </tr>\n",
              "    <tr>\n",
              "      <th>codmes</th>\n",
              "      <th></th>\n",
              "      <th></th>\n",
              "    </tr>\n",
              "  </thead>\n",
              "  <tbody>\n",
              "    <tr>\n",
              "      <th>abr-22</th>\n",
              "      <td>56.917399</td>\n",
              "      <td>49</td>\n",
              "    </tr>\n",
              "    <tr>\n",
              "      <th>may-22</th>\n",
              "      <td>59.811991</td>\n",
              "      <td>38</td>\n",
              "    </tr>\n",
              "  </tbody>\n",
              "</table>\n",
              "</div>\n",
              "      <button class=\"colab-df-convert\" onclick=\"convertToInteractive('df-867fc69a-b0b4-4db9-80ec-c6db5f8f16dd')\"\n",
              "              title=\"Convert this dataframe to an interactive table.\"\n",
              "              style=\"display:none;\">\n",
              "        \n",
              "  <svg xmlns=\"http://www.w3.org/2000/svg\" height=\"24px\"viewBox=\"0 0 24 24\"\n",
              "       width=\"24px\">\n",
              "    <path d=\"M0 0h24v24H0V0z\" fill=\"none\"/>\n",
              "    <path d=\"M18.56 5.44l.94 2.06.94-2.06 2.06-.94-2.06-.94-.94-2.06-.94 2.06-2.06.94zm-11 1L8.5 8.5l.94-2.06 2.06-.94-2.06-.94L8.5 2.5l-.94 2.06-2.06.94zm10 10l.94 2.06.94-2.06 2.06-.94-2.06-.94-.94-2.06-.94 2.06-2.06.94z\"/><path d=\"M17.41 7.96l-1.37-1.37c-.4-.4-.92-.59-1.43-.59-.52 0-1.04.2-1.43.59L10.3 9.45l-7.72 7.72c-.78.78-.78 2.05 0 2.83L4 21.41c.39.39.9.59 1.41.59.51 0 1.02-.2 1.41-.59l7.78-7.78 2.81-2.81c.8-.78.8-2.07 0-2.86zM5.41 20L4 18.59l7.72-7.72 1.47 1.35L5.41 20z\"/>\n",
              "  </svg>\n",
              "      </button>\n",
              "      \n",
              "  <style>\n",
              "    .colab-df-container {\n",
              "      display:flex;\n",
              "      flex-wrap:wrap;\n",
              "      gap: 12px;\n",
              "    }\n",
              "\n",
              "    .colab-df-convert {\n",
              "      background-color: #E8F0FE;\n",
              "      border: none;\n",
              "      border-radius: 50%;\n",
              "      cursor: pointer;\n",
              "      display: none;\n",
              "      fill: #1967D2;\n",
              "      height: 32px;\n",
              "      padding: 0 0 0 0;\n",
              "      width: 32px;\n",
              "    }\n",
              "\n",
              "    .colab-df-convert:hover {\n",
              "      background-color: #E2EBFA;\n",
              "      box-shadow: 0px 1px 2px rgba(60, 64, 67, 0.3), 0px 1px 3px 1px rgba(60, 64, 67, 0.15);\n",
              "      fill: #174EA6;\n",
              "    }\n",
              "\n",
              "    [theme=dark] .colab-df-convert {\n",
              "      background-color: #3B4455;\n",
              "      fill: #D2E3FC;\n",
              "    }\n",
              "\n",
              "    [theme=dark] .colab-df-convert:hover {\n",
              "      background-color: #434B5C;\n",
              "      box-shadow: 0px 1px 3px 1px rgba(0, 0, 0, 0.15);\n",
              "      filter: drop-shadow(0px 1px 2px rgba(0, 0, 0, 0.3));\n",
              "      fill: #FFFFFF;\n",
              "    }\n",
              "  </style>\n",
              "\n",
              "      <script>\n",
              "        const buttonEl =\n",
              "          document.querySelector('#df-867fc69a-b0b4-4db9-80ec-c6db5f8f16dd button.colab-df-convert');\n",
              "        buttonEl.style.display =\n",
              "          google.colab.kernel.accessAllowed ? 'block' : 'none';\n",
              "\n",
              "        async function convertToInteractive(key) {\n",
              "          const element = document.querySelector('#df-867fc69a-b0b4-4db9-80ec-c6db5f8f16dd');\n",
              "          const dataTable =\n",
              "            await google.colab.kernel.invokeFunction('convertToInteractive',\n",
              "                                                     [key], {});\n",
              "          if (!dataTable) return;\n",
              "\n",
              "          const docLinkHtml = 'Like what you see? Visit the ' +\n",
              "            '<a target=\"_blank\" href=https://colab.research.google.com/notebooks/data_table.ipynb>data table notebook</a>'\n",
              "            + ' to learn more about interactive tables.';\n",
              "          element.innerHTML = '';\n",
              "          dataTable['output_type'] = 'display_data';\n",
              "          await google.colab.output.renderOutput(dataTable, element);\n",
              "          const docLink = document.createElement('div');\n",
              "          docLink.innerHTML = docLinkHtml;\n",
              "          element.appendChild(docLink);\n",
              "        }\n",
              "      </script>\n",
              "    </div>\n",
              "  </div>\n",
              "  "
            ]
          },
          "metadata": {},
          "execution_count": 207
        }
      ]
    },
    {
      "cell_type": "code",
      "source": [
        "X_test[['venta_predicted', target]].corr()**2"
      ],
      "metadata": {
        "colab": {
          "base_uri": "https://localhost:8080/",
          "height": 112
        },
        "id": "Wt6n7s2_hB5l",
        "outputId": "bb45c7d0-0e98-4dc6-ac7c-bbd2c79cd325"
      },
      "execution_count": null,
      "outputs": [
        {
          "output_type": "execute_result",
          "data": {
            "text/plain": [
              "                 venta_predicted  Venta_zona_1\n",
              "venta_predicted              1.0           1.0\n",
              "Venta_zona_1                 1.0           1.0"
            ],
            "text/html": [
              "\n",
              "  <div id=\"df-0bc2189d-d321-4ea4-a241-a60fbacad7ef\">\n",
              "    <div class=\"colab-df-container\">\n",
              "      <div>\n",
              "<style scoped>\n",
              "    .dataframe tbody tr th:only-of-type {\n",
              "        vertical-align: middle;\n",
              "    }\n",
              "\n",
              "    .dataframe tbody tr th {\n",
              "        vertical-align: top;\n",
              "    }\n",
              "\n",
              "    .dataframe thead th {\n",
              "        text-align: right;\n",
              "    }\n",
              "</style>\n",
              "<table border=\"1\" class=\"dataframe\">\n",
              "  <thead>\n",
              "    <tr style=\"text-align: right;\">\n",
              "      <th></th>\n",
              "      <th>venta_predicted</th>\n",
              "      <th>Venta_zona_1</th>\n",
              "    </tr>\n",
              "  </thead>\n",
              "  <tbody>\n",
              "    <tr>\n",
              "      <th>venta_predicted</th>\n",
              "      <td>1.0</td>\n",
              "      <td>1.0</td>\n",
              "    </tr>\n",
              "    <tr>\n",
              "      <th>Venta_zona_1</th>\n",
              "      <td>1.0</td>\n",
              "      <td>1.0</td>\n",
              "    </tr>\n",
              "  </tbody>\n",
              "</table>\n",
              "</div>\n",
              "      <button class=\"colab-df-convert\" onclick=\"convertToInteractive('df-0bc2189d-d321-4ea4-a241-a60fbacad7ef')\"\n",
              "              title=\"Convert this dataframe to an interactive table.\"\n",
              "              style=\"display:none;\">\n",
              "        \n",
              "  <svg xmlns=\"http://www.w3.org/2000/svg\" height=\"24px\"viewBox=\"0 0 24 24\"\n",
              "       width=\"24px\">\n",
              "    <path d=\"M0 0h24v24H0V0z\" fill=\"none\"/>\n",
              "    <path d=\"M18.56 5.44l.94 2.06.94-2.06 2.06-.94-2.06-.94-.94-2.06-.94 2.06-2.06.94zm-11 1L8.5 8.5l.94-2.06 2.06-.94-2.06-.94L8.5 2.5l-.94 2.06-2.06.94zm10 10l.94 2.06.94-2.06 2.06-.94-2.06-.94-.94-2.06-.94 2.06-2.06.94z\"/><path d=\"M17.41 7.96l-1.37-1.37c-.4-.4-.92-.59-1.43-.59-.52 0-1.04.2-1.43.59L10.3 9.45l-7.72 7.72c-.78.78-.78 2.05 0 2.83L4 21.41c.39.39.9.59 1.41.59.51 0 1.02-.2 1.41-.59l7.78-7.78 2.81-2.81c.8-.78.8-2.07 0-2.86zM5.41 20L4 18.59l7.72-7.72 1.47 1.35L5.41 20z\"/>\n",
              "  </svg>\n",
              "      </button>\n",
              "      \n",
              "  <style>\n",
              "    .colab-df-container {\n",
              "      display:flex;\n",
              "      flex-wrap:wrap;\n",
              "      gap: 12px;\n",
              "    }\n",
              "\n",
              "    .colab-df-convert {\n",
              "      background-color: #E8F0FE;\n",
              "      border: none;\n",
              "      border-radius: 50%;\n",
              "      cursor: pointer;\n",
              "      display: none;\n",
              "      fill: #1967D2;\n",
              "      height: 32px;\n",
              "      padding: 0 0 0 0;\n",
              "      width: 32px;\n",
              "    }\n",
              "\n",
              "    .colab-df-convert:hover {\n",
              "      background-color: #E2EBFA;\n",
              "      box-shadow: 0px 1px 2px rgba(60, 64, 67, 0.3), 0px 1px 3px 1px rgba(60, 64, 67, 0.15);\n",
              "      fill: #174EA6;\n",
              "    }\n",
              "\n",
              "    [theme=dark] .colab-df-convert {\n",
              "      background-color: #3B4455;\n",
              "      fill: #D2E3FC;\n",
              "    }\n",
              "\n",
              "    [theme=dark] .colab-df-convert:hover {\n",
              "      background-color: #434B5C;\n",
              "      box-shadow: 0px 1px 3px 1px rgba(0, 0, 0, 0.15);\n",
              "      filter: drop-shadow(0px 1px 2px rgba(0, 0, 0, 0.3));\n",
              "      fill: #FFFFFF;\n",
              "    }\n",
              "  </style>\n",
              "\n",
              "      <script>\n",
              "        const buttonEl =\n",
              "          document.querySelector('#df-0bc2189d-d321-4ea4-a241-a60fbacad7ef button.colab-df-convert');\n",
              "        buttonEl.style.display =\n",
              "          google.colab.kernel.accessAllowed ? 'block' : 'none';\n",
              "\n",
              "        async function convertToInteractive(key) {\n",
              "          const element = document.querySelector('#df-0bc2189d-d321-4ea4-a241-a60fbacad7ef');\n",
              "          const dataTable =\n",
              "            await google.colab.kernel.invokeFunction('convertToInteractive',\n",
              "                                                     [key], {});\n",
              "          if (!dataTable) return;\n",
              "\n",
              "          const docLinkHtml = 'Like what you see? Visit the ' +\n",
              "            '<a target=\"_blank\" href=https://colab.research.google.com/notebooks/data_table.ipynb>data table notebook</a>'\n",
              "            + ' to learn more about interactive tables.';\n",
              "          element.innerHTML = '';\n",
              "          dataTable['output_type'] = 'display_data';\n",
              "          await google.colab.output.renderOutput(dataTable, element);\n",
              "          const docLink = document.createElement('div');\n",
              "          docLink.innerHTML = docLinkHtml;\n",
              "          element.appendChild(docLink);\n",
              "        }\n",
              "      </script>\n",
              "    </div>\n",
              "  </div>\n",
              "  "
            ]
          },
          "metadata": {},
          "execution_count": 208
        }
      ]
    },
    {
      "cell_type": "markdown",
      "source": [
        "# Inputs Regresión"
      ],
      "metadata": {
        "id": "-aJhFXWyarhB"
      }
    },
    {
      "cell_type": "code",
      "source": [
        "correlations = pd.DataFrame()\n",
        "\n",
        "for col in variables_f:\n",
        "  data_temp = X_train[[target, col]]\n",
        "  correlation = data_temp[col].corr(data_temp[target])\n",
        "  temp = pd.DataFrame({'target': [target],'variable': [col], 'correlacion' : [correlation]})\n",
        "  correlations = correlations.append(temp)\n",
        "\n",
        "correlations['correlacion_abs'] = correlations.correlacion.apply(lambda x: abs(x))\n",
        "correlations['r2'] = correlations.correlacion.apply(lambda x: x**2)\n",
        "\n",
        "correlations.sort_values(by = 'correlacion_abs', ascending = False, inplace = True)\n"
      ],
      "metadata": {
        "id": "aX2Q9WPLatzY"
      },
      "execution_count": null,
      "outputs": []
    },
    {
      "cell_type": "code",
      "source": [
        "correlations.head(50)"
      ],
      "metadata": {
        "id": "9wHR7RLjboki"
      },
      "execution_count": null,
      "outputs": []
    },
    {
      "cell_type": "markdown",
      "source": [
        "# Regresion"
      ],
      "metadata": {
        "id": "Xb8Iu2Mkx_Bw"
      }
    },
    {
      "cell_type": "code",
      "source": [
        "import statsmodels.api as sm\n",
        "\n",
        "features = ['intercept', 'ind_prec_inm_rat3to6_std', 'ind_prec_inf_suby_bienes_avg6_std']\n",
        "\n",
        "# Fit and summarize OLS model\n",
        "mod = sm.OLS(X_train[target], \n",
        "             X_train[features])\n",
        "\n",
        "res = mod.fit()\n",
        "print(res.summary())"
      ],
      "metadata": {
        "colab": {
          "base_uri": "https://localhost:8080/"
        },
        "id": "Qx0Nlwcq8NA1",
        "outputId": "0c578138-a239-4732-d34e-3fca68968795"
      },
      "execution_count": null,
      "outputs": [
        {
          "output_type": "stream",
          "name": "stdout",
          "text": [
            "                            OLS Regression Results                            \n",
            "==============================================================================\n",
            "Dep. Variable:           Venta_zona_1   R-squared:                       0.215\n",
            "Model:                            OLS   Adj. R-squared:                  0.177\n",
            "Method:                 Least Squares   F-statistic:                     5.614\n",
            "Date:                Mon, 25 Jul 2022   Prob (F-statistic):            0.00700\n",
            "Time:                        07:09:16   Log-Likelihood:                -182.87\n",
            "No. Observations:                  44   AIC:                             371.7\n",
            "Df Residuals:                      41   BIC:                             377.1\n",
            "Df Model:                           2                                         \n",
            "Covariance Type:            nonrobust                                         \n",
            "=====================================================================================================\n",
            "                                        coef    std err          t      P>|t|      [0.025      0.975]\n",
            "-----------------------------------------------------------------------------------------------------\n",
            "intercept                            57.6329      2.418     23.839      0.000      52.751      62.515\n",
            "ind_prec_inm_rat3to6_std              7.6093      2.511      3.030      0.004       2.538      12.680\n",
            "ind_prec_inf_suby_bienes_avg6_std     5.9194      2.597      2.279      0.028       0.674      11.165\n",
            "==============================================================================\n",
            "Omnibus:                        2.788   Durbin-Watson:                   1.630\n",
            "Prob(Omnibus):                  0.248   Jarque-Bera (JB):                1.898\n",
            "Skew:                           0.191   Prob(JB):                        0.387\n",
            "Kurtosis:                       3.943   Cond. No.                         1.38\n",
            "==============================================================================\n",
            "\n",
            "Warnings:\n",
            "[1] Standard Errors assume that the covariance matrix of the errors is correctly specified.\n"
          ]
        }
      ]
    },
    {
      "cell_type": "code",
      "source": [
        "import seaborn as sn\n",
        "import matplotlib.pyplot as plt\n",
        "\n",
        "sn.heatmap(X_train[features].corr(), annot=True)\n",
        "plt.show()"
      ],
      "metadata": {
        "id": "z2gR9mDK79B_"
      },
      "execution_count": null,
      "outputs": []
    },
    {
      "cell_type": "code",
      "source": [
        "\n",
        "data_res['macro_pred'] = 57.6329 + 7.6093*data_res.ind_prec_inm_rat3to6_std + 5.9194*data_res.ind_prec_inf_suby_bienes_avg6_std\n",
        "\n",
        "data = data_res.copy().dropna()\n",
        "X_train = data[:-test_size].dropna()\n",
        "X_test  = data[-test_size:].dropna()\n"
      ],
      "metadata": {
        "id": "YssxJ75piFHz"
      },
      "execution_count": null,
      "outputs": []
    },
    {
      "cell_type": "code",
      "source": [
        "#target + '_lag3_avg3'\n",
        "ensemble = ['venta_predicted', 'macro_pred']\n",
        "\n",
        "# 2,1,1 ARIMA Model\n",
        "model_ff = ARIMA(endog = X_train[target], \n",
        "                 exog = X_train[ensemble],  \n",
        "                 order=(1,2,1))\n",
        "\n",
        "model_fit_ff = model_ff.fit()\n",
        "print(model_fit_ff.summary())"
      ],
      "metadata": {
        "colab": {
          "base_uri": "https://localhost:8080/"
        },
        "id": "yLgcrdzYq8_r",
        "outputId": "732cab19-9290-496c-e6a5-3786f22ed924"
      },
      "execution_count": null,
      "outputs": [
        {
          "output_type": "stream",
          "name": "stdout",
          "text": [
            "                             ARIMA Model Results                              \n",
            "==============================================================================\n",
            "Dep. Variable:        D2.Venta_zona_1   No. Observations:                   42\n",
            "Model:                 ARIMA(1, 2, 1)   Log Likelihood                -183.694\n",
            "Method:                       css-mle   S.D. of innovations             18.178\n",
            "Date:                Mon, 25 Jul 2022   AIC                            379.389\n",
            "Time:                        07:09:30   BIC                            389.815\n",
            "Sample:                             2   HQIC                           383.210\n",
            "                                                                              \n",
            "=========================================================================================\n",
            "                            coef    std err          z      P>|z|      [0.025      0.975]\n",
            "-----------------------------------------------------------------------------------------\n",
            "const                     1.2984      5.381      0.241      0.811      -9.249      11.846\n",
            "venta_predicted          -0.0777      0.043     -1.789      0.082      -0.163       0.007\n",
            "macro_pred                0.0539      0.107      0.504      0.618      -0.156       0.264\n",
            "ar.L1.D2.Venta_zona_1    -0.3945      0.146     -2.695      0.011      -0.681      -0.108\n",
            "ma.L1.D2.Venta_zona_1    -1.0000      0.069    -14.457      0.000      -1.136      -0.864\n",
            "                                    Roots                                    \n",
            "=============================================================================\n",
            "                  Real          Imaginary           Modulus         Frequency\n",
            "-----------------------------------------------------------------------------\n",
            "AR.1           -2.5351           +0.0000j            2.5351            0.5000\n",
            "MA.1            1.0000           +0.0000j            1.0000            0.0000\n",
            "-----------------------------------------------------------------------------\n"
          ]
        }
      ]
    },
    {
      "cell_type": "code",
      "source": [
        "\n",
        "import pickle\n",
        "pickle.dump(model_fit_ff, open(\"./var_jmz1.ml\", 'wb'))\n"
      ],
      "metadata": {
        "id": "eaOYqcKdMK95"
      },
      "execution_count": null,
      "outputs": []
    },
    {
      "cell_type": "code",
      "source": [
        "\n",
        "fc, se, conf  = model_fit_ff.forecast(test_size, \n",
        "                                      exog = X_test[['venta_predicted', 'macro_pred']], alpha=0.05)\n",
        "\n",
        "model_res = model_fit_ff.predict(start = X_train.index[2], \n",
        "                                 end = X_train.index[-1], dynamic=False, typ = 'levels')\n",
        "\n",
        "data_res = data.copy()\n",
        "data_res['venta_predicted_final'] = model_res\n",
        "data_res.iloc[-test_size:]['venta_predicted_final'] = fc\n",
        "\n",
        "sns.lineplot(data = data_res[[target, 'venta_predicted_final']])\n"
      ],
      "metadata": {
        "colab": {
          "base_uri": "https://localhost:8080/",
          "height": 296
        },
        "id": "xtfY4jezrkDl",
        "outputId": "f3578d1c-0ec9-4625-a5c1-57dc10133f43"
      },
      "execution_count": null,
      "outputs": [
        {
          "output_type": "execute_result",
          "data": {
            "text/plain": [
              "<matplotlib.axes._subplots.AxesSubplot at 0x7f66fe07fb10>"
            ]
          },
          "metadata": {},
          "execution_count": 45
        },
        {
          "output_type": "display_data",
          "data": {
            "text/plain": [
              "<Figure size 432x288 with 1 Axes>"
            ],
            "image/png": "[encoded data removed]"
          },
          "metadata": {
            "needs_background": "light"
          }
        }
      ]
    },
    {
      "cell_type": "code",
      "source": [
        "data_res[[target, 'venta_predicted', 'macro_pred', 'venta_predicted_final']]"
      ],
      "metadata": {
        "colab": {
          "base_uri": "https://localhost:8080/",
          "height": 1000
        },
        "id": "1lxbrJxhrj3Y",
        "outputId": "6fda1a76-128b-4d46-a4b1-bf4215c165a7"
      },
      "execution_count": null,
      "outputs": [
        {
          "output_type": "execute_result",
          "data": {
            "text/plain": [
              "         Venta_zona_1  venta_predicted  macro_pred  venta_predicted_final\n",
              "codmes                                                                   \n",
              "ago-18             78        29.854771   46.151464                    NaN\n",
              "sept-18            52        81.344880   51.063465                    NaN\n",
              "oct-18             53        68.027737   62.766374              25.395691\n",
              "nov-18             66        54.055231   71.138221              35.686034\n",
              "dic-18             57        65.004536   79.754243              57.319685\n",
              "ene-19            114        63.069729   73.432620              57.475896\n",
              "feb-19             72       102.021251   66.271547              98.272622\n",
              "mar-19             52        94.778900   55.486042              86.208317\n",
              "abr-19             90        60.682221   54.707229              50.532686\n",
              "may-19             66        78.476621   57.104015              69.057095\n",
              "jun-19             53        77.079086   60.813019              67.059109\n",
              "jul-19             55        57.257890   60.356991              47.775178\n",
              "ago-19             65        52.871960   60.595976              45.047506\n",
              "sept-19            66        60.324656   60.061114              53.665212\n",
              "oct-19             66        65.122130   59.229506              58.578351\n",
              "nov-19             68        65.521188   56.544310              58.555830\n",
              "dic-19             59        66.770374   51.397562              59.008012\n",
              "ene-20             50        61.440423   46.668847              52.944886\n",
              "feb-20             65        51.579854   40.911694              42.882735\n",
              "mar-20             29        57.641650   35.259480              48.205604\n",
              "abr-20              3        40.145547   41.791302              31.207804\n",
              "may-20             18         8.426242   50.651656               3.355692\n",
              "jun-20             41         7.864081   60.631387               8.185593\n",
              "jul-20             61        29.550192   61.514160              33.438864\n",
              "ago-20             72        52.771316   63.917360              57.408169\n",
              "sept-20            49        68.850160   65.339269              72.305099\n",
              "oct-20             62        58.903678   64.396414              61.746437\n",
              "nov-20             47        57.943637   63.053115              60.826533\n",
              "dic-20             66        53.450298   59.827861              56.795014\n",
              "ene-21             62        59.413123   61.295753              62.850702\n",
              "feb-21             54        64.535071   61.255732              67.473327\n",
              "mar-21             74        57.742084   61.341562              60.548040\n",
              "abr-21             48        67.191234   57.921764              69.191395\n",
              "may-21             57        58.571192   53.557187              59.980634\n",
              "jun-21             34        53.632715   51.654044              54.853642\n",
              "jul-21             46        42.538605   53.226759              44.681100\n",
              "ago-21             57        40.811090   55.953492              44.396601\n",
              "sept-21            72        52.754456   61.542535              57.114110\n",
              "oct-21             58        66.896957   59.305819              70.445599\n",
              "nov-21             68        64.268819   58.289450              66.721557\n",
              "dic-21             54        64.957446   55.109098              66.291046\n",
              "ene-22             67        59.986227   59.539880              60.985865\n",
              "feb-22             45        62.345957   61.505593              63.192957\n",
              "mar-22             65        53.546343   63.664782              55.038121\n",
              "abr-22             49        56.917399   66.957367              59.180311\n",
              "may-22             38        59.811991   72.402768              64.290034"
            ],
            "text/html": [
              "\n",
              "  <div id=\"df-717dfa89-b89c-49e3-aa73-bfda777528dc\">\n",
              "    <div class=\"colab-df-container\">\n",
              "      <div>\n",
              "<style scoped>\n",
              "    .dataframe tbody tr th:only-of-type {\n",
              "        vertical-align: middle;\n",
              "    }\n",
              "\n",
              "    .dataframe tbody tr th {\n",
              "        vertical-align: top;\n",
              "    }\n",
              "\n",
              "    .dataframe thead th {\n",
              "        text-align: right;\n",
              "    }\n",
              "</style>\n",
              "<table border=\"1\" class=\"dataframe\">\n",
              "  <thead>\n",
              "    <tr style=\"text-align: right;\">\n",
              "      <th></th>\n",
              "      <th>Venta_zona_1</th>\n",
              "      <th>venta_predicted</th>\n",
              "      <th>macro_pred</th>\n",
              "      <th>venta_predicted_final</th>\n",
              "    </tr>\n",
              "    <tr>\n",
              "      <th>codmes</th>\n",
              "      <th></th>\n",
              "      <th></th>\n",
              "      <th></th>\n",
              "      <th></th>\n",
              "    </tr>\n",
              "  </thead>\n",
              "  <tbody>\n",
              "    <tr>\n",
              "      <th>ago-18</th>\n",
              "      <td>78</td>\n",
              "      <td>29.854771</td>\n",
              "      <td>46.151464</td>\n",
              "      <td>NaN</td>\n",
              "    </tr>\n",
              "    <tr>\n",
              "      <th>sept-18</th>\n",
              "      <td>52</td>\n",
              "      <td>81.344880</td>\n",
              "      <td>51.063465</td>\n",
              "      <td>NaN</td>\n",
              "    </tr>\n",
              "    <tr>\n",
              "      <th>oct-18</th>\n",
              "      <td>53</td>\n",
              "      <td>68.027737</td>\n",
              "      <td>62.766374</td>\n",
              "      <td>25.395691</td>\n",
              "    </tr>\n",
              "    <tr>\n",
              "      <th>nov-18</th>\n",
              "      <td>66</td>\n",
              "      <td>54.055231</td>\n",
              "      <td>71.138221</td>\n",
              "      <td>35.686034</td>\n",
              "    </tr>\n",
              "    <tr>\n",
              "      <th>dic-18</th>\n",
              "      <td>57</td>\n",
              "      <td>65.004536</td>\n",
              "      <td>79.754243</td>\n",
              "      <td>57.319685</td>\n",
              "    </tr>\n",
              "    <tr>\n",
              "      <th>ene-19</th>\n",
              "      <td>114</td>\n",
              "      <td>63.069729</td>\n",
              "      <td>73.432620</td>\n",
              "      <td>57.475896</td>\n",
              "    </tr>\n",
              "    <tr>\n",
              "      <th>feb-19</th>\n",
              "      <td>72</td>\n",
              "      <td>102.021251</td>\n",
              "      <td>66.271547</td>\n",
              "      <td>98.272622</td>\n",
              "    </tr>\n",
              "    <tr>\n",
              "      <th>mar-19</th>\n",
              "      <td>52</td>\n",
              "      <td>94.778900</td>\n",
              "      <td>55.486042</td>\n",
              "      <td>86.208317</td>\n",
              "    </tr>\n",
              "    <tr>\n",
              "      <th>abr-19</th>\n",
              "      <td>90</td>\n",
              "      <td>60.682221</td>\n",
              "      <td>54.707229</td>\n",
              "      <td>50.532686</td>\n",
              "    </tr>\n",
              "    <tr>\n",
              "      <th>may-19</th>\n",
              "      <td>66</td>\n",
              "      <td>78.476621</td>\n",
              "      <td>57.104015</td>\n",
              "      <td>69.057095</td>\n",
              "    </tr>\n",
              "    <tr>\n",
              "      <th>jun-19</th>\n",
              "      <td>53</td>\n",
              "      <td>77.079086</td>\n",
              "      <td>60.813019</td>\n",
              "      <td>67.059109</td>\n",
              "    </tr>\n",
              "    <tr>\n",
              "      <th>jul-19</th>\n",
              "      <td>55</td>\n",
              "      <td>57.257890</td>\n",
              "      <td>60.356991</td>\n",
              "      <td>47.775178</td>\n",
              "    </tr>\n",
              "    <tr>\n",
              "      <th>ago-19</th>\n",
              "      <td>65</td>\n",
              "      <td>52.871960</td>\n",
              "      <td>60.595976</td>\n",
              "      <td>45.047506</td>\n",
              "    </tr>\n",
              "    <tr>\n",
              "      <th>sept-19</th>\n",
              "      <td>66</td>\n",
              "      <td>60.324656</td>\n",
              "      <td>60.061114</td>\n",
              "      <td>53.665212</td>\n",
              "    </tr>\n",
              "    <tr>\n",
              "      <th>oct-19</th>\n",
              "      <td>66</td>\n",
              "      <td>65.122130</td>\n",
              "      <td>59.229506</td>\n",
              "      <td>58.578351</td>\n",
              "    </tr>\n",
              "    <tr>\n",
              "      <th>nov-19</th>\n",
              "      <td>68</td>\n",
              "      <td>65.521188</td>\n",
              "      <td>56.544310</td>\n",
              "      <td>58.555830</td>\n",
              "    </tr>\n",
              "    <tr>\n",
              "      <th>dic-19</th>\n",
              "      <td>59</td>\n",
              "      <td>66.770374</td>\n",
              "      <td>51.397562</td>\n",
              "      <td>59.008012</td>\n",
              "    </tr>\n",
              "    <tr>\n",
              "      <th>ene-20</th>\n",
              "      <td>50</td>\n",
              "      <td>61.440423</td>\n",
              "      <td>46.668847</td>\n",
              "      <td>52.944886</td>\n",
              "    </tr>\n",
              "    <tr>\n",
              "      <th>feb-20</th>\n",
              "      <td>65</td>\n",
              "      <td>51.579854</td>\n",
              "      <td>40.911694</td>\n",
              "      <td>42.882735</td>\n",
              "    </tr>\n",
              "    <tr>\n",
              "      <th>mar-20</th>\n",
              "      <td>29</td>\n",
              "      <td>57.641650</td>\n",
              "      <td>35.259480</td>\n",
              "      <td>48.205604</td>\n",
              "    </tr>\n",
              "    <tr>\n",
              "      <th>abr-20</th>\n",
              "      <td>3</td>\n",
              "      <td>40.145547</td>\n",
              "      <td>41.791302</td>\n",
              "      <td>31.207804</td>\n",
              "    </tr>\n",
              "    <tr>\n",
              "      <th>may-20</th>\n",
              "      <td>18</td>\n",
              "      <td>8.426242</td>\n",
              "      <td>50.651656</td>\n",
              "      <td>3.355692</td>\n",
              "    </tr>\n",
              "    <tr>\n",
              "      <th>jun-20</th>\n",
              "      <td>41</td>\n",
              "      <td>7.864081</td>\n",
              "      <td>60.631387</td>\n",
              "      <td>8.185593</td>\n",
              "    </tr>\n",
              "    <tr>\n",
              "      <th>jul-20</th>\n",
              "      <td>61</td>\n",
              "      <td>29.550192</td>\n",
              "      <td>61.514160</td>\n",
              "      <td>33.438864</td>\n",
              "    </tr>\n",
              "    <tr>\n",
              "      <th>ago-20</th>\n",
              "      <td>72</td>\n",
              "      <td>52.771316</td>\n",
              "      <td>63.917360</td>\n",
              "      <td>57.408169</td>\n",
              "    </tr>\n",
              "    <tr>\n",
              "      <th>sept-20</th>\n",
              "      <td>49</td>\n",
              "      <td>68.850160</td>\n",
              "      <td>65.339269</td>\n",
              "      <td>72.305099</td>\n",
              "    </tr>\n",
              "    <tr>\n",
              "      <th>oct-20</th>\n",
              "      <td>62</td>\n",
              "      <td>58.903678</td>\n",
              "      <td>64.396414</td>\n",
              "      <td>61.746437</td>\n",
              "    </tr>\n",
              "    <tr>\n",
              "      <th>nov-20</th>\n",
              "      <td>47</td>\n",
              "      <td>57.943637</td>\n",
              "      <td>63.053115</td>\n",
              "      <td>60.826533</td>\n",
              "    </tr>\n",
              "    <tr>\n",
              "      <th>dic-20</th>\n",
              "      <td>66</td>\n",
              "      <td>53.450298</td>\n",
              "      <td>59.827861</td>\n",
              "      <td>56.795014</td>\n",
              "    </tr>\n",
              "    <tr>\n",
              "      <th>ene-21</th>\n",
              "      <td>62</td>\n",
              "      <td>59.413123</td>\n",
              "      <td>61.295753</td>\n",
              "      <td>62.850702</td>\n",
              "    </tr>\n",
              "    <tr>\n",
              "      <th>feb-21</th>\n",
              "      <td>54</td>\n",
              "      <td>64.535071</td>\n",
              "      <td>61.255732</td>\n",
              "      <td>67.473327</td>\n",
              "    </tr>\n",
              "    <tr>\n",
              "      <th>mar-21</th>\n",
              "      <td>74</td>\n",
              "      <td>57.742084</td>\n",
              "      <td>61.341562</td>\n",
              "      <td>60.548040</td>\n",
              "    </tr>\n",
              "    <tr>\n",
              "      <th>abr-21</th>\n",
              "      <td>48</td>\n",
              "      <td>67.191234</td>\n",
              "      <td>57.921764</td>\n",
              "      <td>69.191395</td>\n",
              "    </tr>\n",
              "    <tr>\n",
              "      <th>may-21</th>\n",
              "      <td>57</td>\n",
              "      <td>58.571192</td>\n",
              "      <td>53.557187</td>\n",
              "      <td>59.980634</td>\n",
              "    </tr>\n",
              "    <tr>\n",
              "      <th>jun-21</th>\n",
              "      <td>34</td>\n",
              "      <td>53.632715</td>\n",
              "      <td>51.654044</td>\n",
              "      <td>54.853642</td>\n",
              "    </tr>\n",
              "    <tr>\n",
              "      <th>jul-21</th>\n",
              "      <td>46</td>\n",
              "      <td>42.538605</td>\n",
              "      <td>53.226759</td>\n",
              "      <td>44.681100</td>\n",
              "    </tr>\n",
              "    <tr>\n",
              "      <th>ago-21</th>\n",
              "      <td>57</td>\n",
              "      <td>40.811090</td>\n",
              "      <td>55.953492</td>\n",
              "      <td>44.396601</td>\n",
              "    </tr>\n",
              "    <tr>\n",
              "      <th>sept-21</th>\n",
              "      <td>72</td>\n",
              "      <td>52.754456</td>\n",
              "      <td>61.542535</td>\n",
              "      <td>57.114110</td>\n",
              "    </tr>\n",
              "    <tr>\n",
              "      <th>oct-21</th>\n",
              "      <td>58</td>\n",
              "      <td>66.896957</td>\n",
              "      <td>59.305819</td>\n",
              "      <td>70.445599</td>\n",
              "    </tr>\n",
              "    <tr>\n",
              "      <th>nov-21</th>\n",
              "      <td>68</td>\n",
              "      <td>64.268819</td>\n",
              "      <td>58.289450</td>\n",
              "      <td>66.721557</td>\n",
              "    </tr>\n",
              "    <tr>\n",
              "      <th>dic-21</th>\n",
              "      <td>54</td>\n",
              "      <td>64.957446</td>\n",
              "      <td>55.109098</td>\n",
              "      <td>66.291046</td>\n",
              "    </tr>\n",
              "    <tr>\n",
              "      <th>ene-22</th>\n",
              "      <td>67</td>\n",
              "      <td>59.986227</td>\n",
              "      <td>59.539880</td>\n",
              "      <td>60.985865</td>\n",
              "    </tr>\n",
              "    <tr>\n",
              "      <th>feb-22</th>\n",
              "      <td>45</td>\n",
              "      <td>62.345957</td>\n",
              "      <td>61.505593</td>\n",
              "      <td>63.192957</td>\n",
              "    </tr>\n",
              "    <tr>\n",
              "      <th>mar-22</th>\n",
              "      <td>65</td>\n",
              "      <td>53.546343</td>\n",
              "      <td>63.664782</td>\n",
              "      <td>55.038121</td>\n",
              "    </tr>\n",
              "    <tr>\n",
              "      <th>abr-22</th>\n",
              "      <td>49</td>\n",
              "      <td>56.917399</td>\n",
              "      <td>66.957367</td>\n",
              "      <td>59.180311</td>\n",
              "    </tr>\n",
              "    <tr>\n",
              "      <th>may-22</th>\n",
              "      <td>38</td>\n",
              "      <td>59.811991</td>\n",
              "      <td>72.402768</td>\n",
              "      <td>64.290034</td>\n",
              "    </tr>\n",
              "  </tbody>\n",
              "</table>\n",
              "</div>\n",
              "      <button class=\"colab-df-convert\" onclick=\"convertToInteractive('df-717dfa89-b89c-49e3-aa73-bfda777528dc')\"\n",
              "              title=\"Convert this dataframe to an interactive table.\"\n",
              "              style=\"display:none;\">\n",
              "        \n",
              "  <svg xmlns=\"http://www.w3.org/2000/svg\" height=\"24px\"viewBox=\"0 0 24 24\"\n",
              "       width=\"24px\">\n",
              "    <path d=\"M0 0h24v24H0V0z\" fill=\"none\"/>\n",
              "    <path d=\"M18.56 5.44l.94 2.06.94-2.06 2.06-.94-2.06-.94-.94-2.06-.94 2.06-2.06.94zm-11 1L8.5 8.5l.94-2.06 2.06-.94-2.06-.94L8.5 2.5l-.94 2.06-2.06.94zm10 10l.94 2.06.94-2.06 2.06-.94-2.06-.94-.94-2.06-.94 2.06-2.06.94z\"/><path d=\"M17.41 7.96l-1.37-1.37c-.4-.4-.92-.59-1.43-.59-.52 0-1.04.2-1.43.59L10.3 9.45l-7.72 7.72c-.78.78-.78 2.05 0 2.83L4 21.41c.39.39.9.59 1.41.59.51 0 1.02-.2 1.41-.59l7.78-7.78 2.81-2.81c.8-.78.8-2.07 0-2.86zM5.41 20L4 18.59l7.72-7.72 1.47 1.35L5.41 20z\"/>\n",
              "  </svg>\n",
              "      </button>\n",
              "      \n",
              "  <style>\n",
              "    .colab-df-container {\n",
              "      display:flex;\n",
              "      flex-wrap:wrap;\n",
              "      gap: 12px;\n",
              "    }\n",
              "\n",
              "    .colab-df-convert {\n",
              "      background-color: #E8F0FE;\n",
              "      border: none;\n",
              "      border-radius: 50%;\n",
              "      cursor: pointer;\n",
              "      display: none;\n",
              "      fill: #1967D2;\n",
              "      height: 32px;\n",
              "      padding: 0 0 0 0;\n",
              "      width: 32px;\n",
              "    }\n",
              "\n",
              "    .colab-df-convert:hover {\n",
              "      background-color: #E2EBFA;\n",
              "      box-shadow: 0px 1px 2px rgba(60, 64, 67, 0.3), 0px 1px 3px 1px rgba(60, 64, 67, 0.15);\n",
              "      fill: #174EA6;\n",
              "    }\n",
              "\n",
              "    [theme=dark] .colab-df-convert {\n",
              "      background-color: #3B4455;\n",
              "      fill: #D2E3FC;\n",
              "    }\n",
              "\n",
              "    [theme=dark] .colab-df-convert:hover {\n",
              "      background-color: #434B5C;\n",
              "      box-shadow: 0px 1px 3px 1px rgba(0, 0, 0, 0.15);\n",
              "      filter: drop-shadow(0px 1px 2px rgba(0, 0, 0, 0.3));\n",
              "      fill: #FFFFFF;\n",
              "    }\n",
              "  </style>\n",
              "\n",
              "      <script>\n",
              "        const buttonEl =\n",
              "          document.querySelector('#df-717dfa89-b89c-49e3-aa73-bfda777528dc button.colab-df-convert');\n",
              "        buttonEl.style.display =\n",
              "          google.colab.kernel.accessAllowed ? 'block' : 'none';\n",
              "\n",
              "        async function convertToInteractive(key) {\n",
              "          const element = document.querySelector('#df-717dfa89-b89c-49e3-aa73-bfda777528dc');\n",
              "          const dataTable =\n",
              "            await google.colab.kernel.invokeFunction('convertToInteractive',\n",
              "                                                     [key], {});\n",
              "          if (!dataTable) return;\n",
              "\n",
              "          const docLinkHtml = 'Like what you see? Visit the ' +\n",
              "            '<a target=\"_blank\" href=https://colab.research.google.com/notebooks/data_table.ipynb>data table notebook</a>'\n",
              "            + ' to learn more about interactive tables.';\n",
              "          element.innerHTML = '';\n",
              "          dataTable['output_type'] = 'display_data';\n",
              "          await google.colab.output.renderOutput(dataTable, element);\n",
              "          const docLink = document.createElement('div');\n",
              "          docLink.innerHTML = docLinkHtml;\n",
              "          element.appendChild(docLink);\n",
              "        }\n",
              "      </script>\n",
              "    </div>\n",
              "  </div>\n",
              "  "
            ]
          },
          "metadata": {},
          "execution_count": 334
        }
      ]
    },
    {
      "cell_type": "code",
      "source": [
        ""
      ],
      "metadata": {
        "id": "U4_ce-WbrjhS"
      },
      "execution_count": null,
      "outputs": []
    },
    {
      "cell_type": "code",
      "source": [
        "mod = sm.OLS(X_train[target], X_train[['venta_predicted', 'macro_pred', 'intercept']])\n",
        "res = mod.fit()\n",
        "print(res.summary())"
      ],
      "metadata": {
        "id": "Ns8Vy7za2RKp"
      },
      "execution_count": null,
      "outputs": []
    },
    {
      "cell_type": "code",
      "source": [
        "\n",
        "data_res['venta_predicted_final'] = 0.1938*data_res.venta_predicted + 0.9125*data_res.macro_pred - 6.1913\n",
        "\n",
        "data = data_res.copy().dropna()\n",
        "X_train = data[:-test_size].dropna()\n",
        "X_test  = data[-test_size:].dropna()\n",
        "\n"
      ],
      "metadata": {
        "id": "Con7vVAa3TNT"
      },
      "execution_count": null,
      "outputs": []
    },
    {
      "cell_type": "code",
      "source": [
        "X_train[['venta_predicted_final', target]].corr()**2"
      ],
      "metadata": {
        "colab": {
          "base_uri": "https://localhost:8080/",
          "height": 112
        },
        "id": "ZmIbyI2w7yuZ",
        "outputId": "b9d67094-5e06-483d-9aa7-dc7b63f292b6"
      },
      "execution_count": null,
      "outputs": [
        {
          "output_type": "execute_result",
          "data": {
            "text/plain": [
              "                       venta_predicted_final  Venta_zona_1\n",
              "venta_predicted_final               1.000000      0.250031\n",
              "Venta_zona_1                        0.250031      1.000000"
            ],
            "text/html": [
              "\n",
              "  <div id=\"df-e2acc920-d685-4fc4-85a0-96dff54ced98\">\n",
              "    <div class=\"colab-df-container\">\n",
              "      <div>\n",
              "<style scoped>\n",
              "    .dataframe tbody tr th:only-of-type {\n",
              "        vertical-align: middle;\n",
              "    }\n",
              "\n",
              "    .dataframe tbody tr th {\n",
              "        vertical-align: top;\n",
              "    }\n",
              "\n",
              "    .dataframe thead th {\n",
              "        text-align: right;\n",
              "    }\n",
              "</style>\n",
              "<table border=\"1\" class=\"dataframe\">\n",
              "  <thead>\n",
              "    <tr style=\"text-align: right;\">\n",
              "      <th></th>\n",
              "      <th>venta_predicted_final</th>\n",
              "      <th>Venta_zona_1</th>\n",
              "    </tr>\n",
              "  </thead>\n",
              "  <tbody>\n",
              "    <tr>\n",
              "      <th>venta_predicted_final</th>\n",
              "      <td>1.000000</td>\n",
              "      <td>0.250031</td>\n",
              "    </tr>\n",
              "    <tr>\n",
              "      <th>Venta_zona_1</th>\n",
              "      <td>0.250031</td>\n",
              "      <td>1.000000</td>\n",
              "    </tr>\n",
              "  </tbody>\n",
              "</table>\n",
              "</div>\n",
              "      <button class=\"colab-df-convert\" onclick=\"convertToInteractive('df-e2acc920-d685-4fc4-85a0-96dff54ced98')\"\n",
              "              title=\"Convert this dataframe to an interactive table.\"\n",
              "              style=\"display:none;\">\n",
              "        \n",
              "  <svg xmlns=\"http://www.w3.org/2000/svg\" height=\"24px\"viewBox=\"0 0 24 24\"\n",
              "       width=\"24px\">\n",
              "    <path d=\"M0 0h24v24H0V0z\" fill=\"none\"/>\n",
              "    <path d=\"M18.56 5.44l.94 2.06.94-2.06 2.06-.94-2.06-.94-.94-2.06-.94 2.06-2.06.94zm-11 1L8.5 8.5l.94-2.06 2.06-.94-2.06-.94L8.5 2.5l-.94 2.06-2.06.94zm10 10l.94 2.06.94-2.06 2.06-.94-2.06-.94-.94-2.06-.94 2.06-2.06.94z\"/><path d=\"M17.41 7.96l-1.37-1.37c-.4-.4-.92-.59-1.43-.59-.52 0-1.04.2-1.43.59L10.3 9.45l-7.72 7.72c-.78.78-.78 2.05 0 2.83L4 21.41c.39.39.9.59 1.41.59.51 0 1.02-.2 1.41-.59l7.78-7.78 2.81-2.81c.8-.78.8-2.07 0-2.86zM5.41 20L4 18.59l7.72-7.72 1.47 1.35L5.41 20z\"/>\n",
              "  </svg>\n",
              "      </button>\n",
              "      \n",
              "  <style>\n",
              "    .colab-df-container {\n",
              "      display:flex;\n",
              "      flex-wrap:wrap;\n",
              "      gap: 12px;\n",
              "    }\n",
              "\n",
              "    .colab-df-convert {\n",
              "      background-color: #E8F0FE;\n",
              "      border: none;\n",
              "      border-radius: 50%;\n",
              "      cursor: pointer;\n",
              "      display: none;\n",
              "      fill: #1967D2;\n",
              "      height: 32px;\n",
              "      padding: 0 0 0 0;\n",
              "      width: 32px;\n",
              "    }\n",
              "\n",
              "    .colab-df-convert:hover {\n",
              "      background-color: #E2EBFA;\n",
              "      box-shadow: 0px 1px 2px rgba(60, 64, 67, 0.3), 0px 1px 3px 1px rgba(60, 64, 67, 0.15);\n",
              "      fill: #174EA6;\n",
              "    }\n",
              "\n",
              "    [theme=dark] .colab-df-convert {\n",
              "      background-color: #3B4455;\n",
              "      fill: #D2E3FC;\n",
              "    }\n",
              "\n",
              "    [theme=dark] .colab-df-convert:hover {\n",
              "      background-color: #434B5C;\n",
              "      box-shadow: 0px 1px 3px 1px rgba(0, 0, 0, 0.15);\n",
              "      filter: drop-shadow(0px 1px 2px rgba(0, 0, 0, 0.3));\n",
              "      fill: #FFFFFF;\n",
              "    }\n",
              "  </style>\n",
              "\n",
              "      <script>\n",
              "        const buttonEl =\n",
              "          document.querySelector('#df-e2acc920-d685-4fc4-85a0-96dff54ced98 button.colab-df-convert');\n",
              "        buttonEl.style.display =\n",
              "          google.colab.kernel.accessAllowed ? 'block' : 'none';\n",
              "\n",
              "        async function convertToInteractive(key) {\n",
              "          const element = document.querySelector('#df-e2acc920-d685-4fc4-85a0-96dff54ced98');\n",
              "          const dataTable =\n",
              "            await google.colab.kernel.invokeFunction('convertToInteractive',\n",
              "                                                     [key], {});\n",
              "          if (!dataTable) return;\n",
              "\n",
              "          const docLinkHtml = 'Like what you see? Visit the ' +\n",
              "            '<a target=\"_blank\" href=https://colab.research.google.com/notebooks/data_table.ipynb>data table notebook</a>'\n",
              "            + ' to learn more about interactive tables.';\n",
              "          element.innerHTML = '';\n",
              "          dataTable['output_type'] = 'display_data';\n",
              "          await google.colab.output.renderOutput(dataTable, element);\n",
              "          const docLink = document.createElement('div');\n",
              "          docLink.innerHTML = docLinkHtml;\n",
              "          element.appendChild(docLink);\n",
              "        }\n",
              "      </script>\n",
              "    </div>\n",
              "  </div>\n",
              "  "
            ]
          },
          "metadata": {},
          "execution_count": 223
        }
      ]
    },
    {
      "cell_type": "code",
      "source": [
        "data[['venta_predicted',\n",
        "      'venta_predicted_final', target]].to_csv('results_zona1.csv', index=0)"
      ],
      "metadata": {
        "id": "v79loELBUABS"
      },
      "execution_count": null,
      "outputs": []
    },
    {
      "cell_type": "code",
      "source": [
        "data[['venta_predicted',\n",
        "      'venta_predicted_final', target]]"
      ],
      "metadata": {
        "id": "baKpexkF_hB7"
      },
      "execution_count": null,
      "outputs": []
    },
    {
      "cell_type": "code",
      "source": [
        "X_test[features]"
      ],
      "metadata": {
        "colab": {
          "base_uri": "https://localhost:8080/",
          "height": 143
        },
        "id": "eKeAUlBDniSO",
        "outputId": "aca011c6-9cbf-4801-9384-9538750d5362"
      },
      "execution_count": null,
      "outputs": [
        {
          "output_type": "execute_result",
          "data": {
            "text/plain": [
              "        Venta_zona_1_lag3_avg3\n",
              "codmes                        \n",
              "abr-22               63.000000\n",
              "may-22               55.333333"
            ],
            "text/html": [
              "\n",
              "  <div id=\"df-be4446fd-2683-4cfa-9e24-05946da9625d\">\n",
              "    <div class=\"colab-df-container\">\n",
              "      <div>\n",
              "<style scoped>\n",
              "    .dataframe tbody tr th:only-of-type {\n",
              "        vertical-align: middle;\n",
              "    }\n",
              "\n",
              "    .dataframe tbody tr th {\n",
              "        vertical-align: top;\n",
              "    }\n",
              "\n",
              "    .dataframe thead th {\n",
              "        text-align: right;\n",
              "    }\n",
              "</style>\n",
              "<table border=\"1\" class=\"dataframe\">\n",
              "  <thead>\n",
              "    <tr style=\"text-align: right;\">\n",
              "      <th></th>\n",
              "      <th>Venta_zona_1_lag3_avg3</th>\n",
              "    </tr>\n",
              "    <tr>\n",
              "      <th>codmes</th>\n",
              "      <th></th>\n",
              "    </tr>\n",
              "  </thead>\n",
              "  <tbody>\n",
              "    <tr>\n",
              "      <th>abr-22</th>\n",
              "      <td>63.000000</td>\n",
              "    </tr>\n",
              "    <tr>\n",
              "      <th>may-22</th>\n",
              "      <td>55.333333</td>\n",
              "    </tr>\n",
              "  </tbody>\n",
              "</table>\n",
              "</div>\n",
              "      <button class=\"colab-df-convert\" onclick=\"convertToInteractive('df-be4446fd-2683-4cfa-9e24-05946da9625d')\"\n",
              "              title=\"Convert this dataframe to an interactive table.\"\n",
              "              style=\"display:none;\">\n",
              "        \n",
              "  <svg xmlns=\"http://www.w3.org/2000/svg\" height=\"24px\"viewBox=\"0 0 24 24\"\n",
              "       width=\"24px\">\n",
              "    <path d=\"M0 0h24v24H0V0z\" fill=\"none\"/>\n",
              "    <path d=\"M18.56 5.44l.94 2.06.94-2.06 2.06-.94-2.06-.94-.94-2.06-.94 2.06-2.06.94zm-11 1L8.5 8.5l.94-2.06 2.06-.94-2.06-.94L8.5 2.5l-.94 2.06-2.06.94zm10 10l.94 2.06.94-2.06 2.06-.94-2.06-.94-.94-2.06-.94 2.06-2.06.94z\"/><path d=\"M17.41 7.96l-1.37-1.37c-.4-.4-.92-.59-1.43-.59-.52 0-1.04.2-1.43.59L10.3 9.45l-7.72 7.72c-.78.78-.78 2.05 0 2.83L4 21.41c.39.39.9.59 1.41.59.51 0 1.02-.2 1.41-.59l7.78-7.78 2.81-2.81c.8-.78.8-2.07 0-2.86zM5.41 20L4 18.59l7.72-7.72 1.47 1.35L5.41 20z\"/>\n",
              "  </svg>\n",
              "      </button>\n",
              "      \n",
              "  <style>\n",
              "    .colab-df-container {\n",
              "      display:flex;\n",
              "      flex-wrap:wrap;\n",
              "      gap: 12px;\n",
              "    }\n",
              "\n",
              "    .colab-df-convert {\n",
              "      background-color: #E8F0FE;\n",
              "      border: none;\n",
              "      border-radius: 50%;\n",
              "      cursor: pointer;\n",
              "      display: none;\n",
              "      fill: #1967D2;\n",
              "      height: 32px;\n",
              "      padding: 0 0 0 0;\n",
              "      width: 32px;\n",
              "    }\n",
              "\n",
              "    .colab-df-convert:hover {\n",
              "      background-color: #E2EBFA;\n",
              "      box-shadow: 0px 1px 2px rgba(60, 64, 67, 0.3), 0px 1px 3px 1px rgba(60, 64, 67, 0.15);\n",
              "      fill: #174EA6;\n",
              "    }\n",
              "\n",
              "    [theme=dark] .colab-df-convert {\n",
              "      background-color: #3B4455;\n",
              "      fill: #D2E3FC;\n",
              "    }\n",
              "\n",
              "    [theme=dark] .colab-df-convert:hover {\n",
              "      background-color: #434B5C;\n",
              "      box-shadow: 0px 1px 3px 1px rgba(0, 0, 0, 0.15);\n",
              "      filter: drop-shadow(0px 1px 2px rgba(0, 0, 0, 0.3));\n",
              "      fill: #FFFFFF;\n",
              "    }\n",
              "  </style>\n",
              "\n",
              "      <script>\n",
              "        const buttonEl =\n",
              "          document.querySelector('#df-be4446fd-2683-4cfa-9e24-05946da9625d button.colab-df-convert');\n",
              "        buttonEl.style.display =\n",
              "          google.colab.kernel.accessAllowed ? 'block' : 'none';\n",
              "\n",
              "        async function convertToInteractive(key) {\n",
              "          const element = document.querySelector('#df-be4446fd-2683-4cfa-9e24-05946da9625d');\n",
              "          const dataTable =\n",
              "            await google.colab.kernel.invokeFunction('convertToInteractive',\n",
              "                                                     [key], {});\n",
              "          if (!dataTable) return;\n",
              "\n",
              "          const docLinkHtml = 'Like what you see? Visit the ' +\n",
              "            '<a target=\"_blank\" href=https://colab.research.google.com/notebooks/data_table.ipynb>data table notebook</a>'\n",
              "            + ' to learn more about interactive tables.';\n",
              "          element.innerHTML = '';\n",
              "          dataTable['output_type'] = 'display_data';\n",
              "          await google.colab.output.renderOutput(dataTable, element);\n",
              "          const docLink = document.createElement('div');\n",
              "          docLink.innerHTML = docLinkHtml;\n",
              "          element.appendChild(docLink);\n",
              "        }\n",
              "      </script>\n",
              "    </div>\n",
              "  </div>\n",
              "  "
            ]
          },
          "metadata": {},
          "execution_count": 232
        }
      ]
    },
    {
      "cell_type": "markdown",
      "source": [
        "# Implementación"
      ],
      "metadata": {
        "id": "JOCKvHF0ot-U"
      }
    },
    {
      "cell_type": "code",
      "source": [
        "data[['Venta_zona_1_lag3_avg3', 'ind_prec_inm_rat3to6_std', 'ind_prec_inf_suby_bienes_avg6_std']]"
      ],
      "metadata": {
        "id": "QIhvX48MpSj_"
      },
      "execution_count": null,
      "outputs": []
    },
    {
      "cell_type": "code",
      "source": [
        "input = pd.DataFrame({'Venta_zona_1_lag3_avg3' : [57, 60, 58, 59, 58, 58],\n",
        "                      'ind_prec_inm_rat3to6_std' : [-0.273022]*6,\n",
        "                      'ind_prec_inf_suby_bienes_avg6_std' : [2.846129]*6\n",
        "                      },\n",
        "                     \n",
        "                      index = ['jun-22', 'jul-22', 'ago-22', 'sept-22', 'oct-22', 'nov-22'])"
      ],
      "metadata": {
        "id": "zFxGgaK3npiZ"
      },
      "execution_count": null,
      "outputs": []
    },
    {
      "cell_type": "code",
      "source": [
        "fc_pred, se, conf  = model_fit.forecast(6, exog = input['Venta_zona_1_lag3_avg3'], alpha=0.05)\n",
        "input['venta_predicted'] = fc_pred\n",
        "fc_pred"
      ],
      "metadata": {
        "colab": {
          "base_uri": "https://localhost:8080/"
        },
        "id": "mtnIZZscnhiY",
        "outputId": "bedf2f82-c27f-4748-cd87-2bf2dee3322c"
      },
      "execution_count": null,
      "outputs": [
        {
          "output_type": "execute_result",
          "data": {
            "text/plain": [
              "array([57.01220105, 59.92785964, 58.49627096, 58.69950096, 58.19935958,\n",
              "       57.9197205 ])"
            ]
          },
          "metadata": {},
          "execution_count": 342
        }
      ]
    },
    {
      "cell_type": "code",
      "source": [
        "input['macro_pred'] = 57.6329 + 7.6093*input.ind_prec_inm_rat3to6_std + 5.9194*input.ind_prec_inf_suby_bienes_avg6_std\n",
        "#input['venta_predicted_final'] = 0.1938*input.venta_predicted + 0.9125*input.macro_pred - 6.1913\n"
      ],
      "metadata": {
        "id": "T-QXUMc1o5iD"
      },
      "execution_count": null,
      "outputs": []
    },
    {
      "cell_type": "code",
      "source": [
        "fc_pred, se, conf  = model_fit_ff.forecast(6, exog = input[['venta_predicted', 'macro_pred']], alpha=0.05)\n",
        "input['venta_predicted_final'] = fc_pred\n",
        "input['venta_predicted_final']\n",
        "fc_pred"
      ],
      "metadata": {
        "colab": {
          "base_uri": "https://localhost:8080/"
        },
        "id": "QeE52zEn-z2e",
        "outputId": "ef794be9-b3de-4d88-b348-91f1d61cfee7"
      },
      "execution_count": null,
      "outputs": [
        {
          "output_type": "execute_result",
          "data": {
            "text/plain": [
              "array([59.4664363 , 64.85328155, 66.80288093, 71.00679784, 75.25258639,\n",
              "       80.45001742])"
            ]
          },
          "metadata": {},
          "execution_count": 343
        }
      ]
    },
    {
      "cell_type": "code",
      "source": [
        ""
      ],
      "metadata": {
        "id": "eTIqecWm88yT"
      },
      "execution_count": null,
      "outputs": []
    },
    {
      "cell_type": "markdown",
      "source": [
        ""
      ],
      "metadata": {
        "id": "zSiZlIsnpO9Y"
      }
    }
  ]
}